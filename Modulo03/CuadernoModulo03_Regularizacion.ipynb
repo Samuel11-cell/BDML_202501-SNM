{
 "cells": [
  {
   "cell_type": "markdown",
   "id": "a952ad54-2218-4382-b2eb-d401d349f764",
   "metadata": {},
   "source": [
    "<div >\n",
    "<img src = \"../banner.jpg\" />\n",
    "</div>"
   ]
  },
  {
   "cell_type": "markdown",
   "id": "96eb7275",
   "metadata": {},
   "source": [
    "<a target=\"_blank\" href=\"https://colab.research.google.com/github/ignaciomsarmiento/BDML_202302/blob/main/Lecture04/Notebook_SS04_Ridge.ipynb\">\n",
    "  <img src=\"https://colab.research.google.com/assets/colab-badge.svg\" alt=\"Open In Colab\"/>\n",
    "</a>\n"
   ]
  },
  {
   "cell_type": "markdown",
   "id": "f7e57de4",
   "metadata": {},
   "source": [
    "\n",
    "# Regularization"
   ]
  },
  {
   "cell_type": "markdown",
   "id": "303a3dcd",
   "metadata": {},
   "source": [
    "## Predicting Wages\n",
    "\n",
    "Our objective today is to construct a model of individual wages\n",
    "\n",
    "$$\n",
    "w = f(X) + u \n",
    "$$\n",
    "\n",
    "where w is the  wage, and X is a matrix that includes potential explanatory variables/predictors. In this tutorial set, we will focus on a linear model of the form\n",
    "\n",
    "\\begin{align}\n",
    " ln(w) & = \\beta_0 + \\beta_1 X_1 + \\dots + \\beta_p X_p  + u \n",
    "\\end{align}"
   ]
  },
  {
   "cell_type": "markdown",
   "id": "312ba2f4",
   "metadata": {},
   "source": [
    "were $ln(w)$ is the logarithm of the wage.\n",
    "\n",
    "To illustrate I'm going to use a sample of the NLSY97. The NLSY97 is  a nationally representative sample of 8,984 men and women born during the years 1980 through 1984 and living in the United States at the time of the initial survey in 1997.  Participants were ages 12 to 16 as of December 31, 1996.  Interviews were conducted annually from 1997 to 2011 and biennially since then.  "
   ]
  },
  {
   "cell_type": "markdown",
   "id": "2fdab5a6",
   "metadata": {},
   "source": [
    "Let's load the packages and the data set:"
   ]
  },
  {
   "cell_type": "code",
   "execution_count": 1,
   "id": "6979f85e",
   "metadata": {
    "vscode": {
     "languageId": "r"
    }
   },
   "outputs": [],
   "source": [
    "#install.packages(\"pacman\") #for google colab"
   ]
  },
  {
   "cell_type": "code",
   "execution_count": 2,
   "id": "3e94ec2b-ab94-4ec8-8512-e370d2f22a56",
   "metadata": {
    "tags": [
     "remove_cell"
    ],
    "vscode": {
     "languageId": "r"
    }
   },
   "outputs": [
    {
     "name": "stderr",
     "output_type": "stream",
     "text": [
      "Loading required package: pacman\n",
      "\n",
      "\u001b[1mRows: \u001b[22m\u001b[34m1266\u001b[39m \u001b[1mColumns: \u001b[22m\u001b[34m994\u001b[39m\n",
      "\u001b[36m──\u001b[39m \u001b[1mColumn specification\u001b[22m \u001b[36m──────────────────────────────────────────────────────────────────────────────────────────────────────────────────────────────────────────────────────────\u001b[39m\n",
      "\u001b[1mDelimiter:\u001b[22m \",\"\n",
      "\u001b[32mdbl\u001b[39m (994): lnw_2016, educ, black, hispanic, other, exp, afqt, mom_educ, dad_...\n",
      "\n",
      "\u001b[36mℹ\u001b[39m Use `spec()` to retrieve the full column specification for this data.\n",
      "\u001b[36mℹ\u001b[39m Specify the column types or set `show_col_types = FALSE` to quiet this message.\n"
     ]
    }
   ],
   "source": [
    "#packages\n",
    "require(\"pacman\")\n",
    "p_load(\"tidyverse\",\"stargazer\")\n",
    "\n",
    "nlsy <- read_csv('https://raw.githubusercontent.com/ignaciomsarmiento/datasets/main/nlsy97.csv')\n",
    "\n",
    "nlsy <- nlsy  %>%   drop_na(educ) #drops NAs"
   ]
  },
  {
   "cell_type": "markdown",
   "id": "49d73d77",
   "metadata": {},
   "source": [
    "We want to construct a model that predicts well out of sample, and we have potentially 994 regressors. We are going to regularize this regression using the `glmnet` package.\n"
   ]
  },
  {
   "cell_type": "markdown",
   "id": "0b5df971",
   "metadata": {},
   "source": [
    "## Glmnet"
   ]
  },
  {
   "cell_type": "markdown",
   "id": "14e93ba3",
   "metadata": {},
   "source": [
    "To apply a regularized model, we can use the `glmnet::glmnet()` function. `glmnet` solves the problem\n",
    "\n",
    "$$\n",
    "\\min_{\\beta_0,\\beta} \\frac{1}{N} \\sum_{i=1}^{N} w_i l(y_i,\\beta_0+\\beta' x_i) + \\lambda\\left[(1-\\alpha)\\frac{1}{2}\\|\\beta\\|_2^2 + \\alpha \\|\\beta\\|_1\\right],\n",
    "$$\n",
    "\n",
    "where $l(y_i,\\beta_0+\\beta^T x_i)$ in the regression case is $\\frac{1}{2}(y_i-\\beta_0-\\beta' x_i)$\n",
    "\n",
    "The `alpha` parameter tells `glmnet` to perform a ridge (`alpha` = 0), lasso (`alpha` = 1), or elastic net (0 < `alpha` < 1) model. \n",
    "\n",
    "By default, `glmnet` will do two things that you should know:\n",
    "\n",
    "1.  By default, `glmnet` automatically standardizes your features. If you standardize your predictors prior to glmnet you can turn this argument off with `standardize = FALSE`.\n",
    "\n",
    "2. The regularization path is computed at a grid of values (on the log scale) for the regularization parameter $\\lambda$. The algorithm is extremely fast!"
   ]
  },
  {
   "cell_type": "markdown",
   "id": "48194268",
   "metadata": {},
   "source": [
    "`glmnet` has some drawbacks, the main one is that we need to specify the arguments in terms of matrices and vectors"
   ]
  },
  {
   "cell_type": "markdown",
   "id": "5a0c83b7",
   "metadata": {},
   "source": [
    "`caret`, in contrast, streamlines the process of creating predictive models by providing a uniform interface for predictive models, which, among other things, allows for specifying formulas."
   ]
  },
  {
   "cell_type": "markdown",
   "id": "d7ba08aa",
   "metadata": {},
   "source": [
    "## Ridge\n",
    "\n",
    "We first illustrate ridge regression, which can be fit using `glmnet()` with alpha = 0 and seeks to minimize\n",
    "\n",
    "$$\n",
    "\\frac{1}{2n}\\sum_{i=1}^{n} \\left( y_i - \\beta_0 - \\sum_{j=1}^{p} \\beta_j x_{ij}    \\right) ^ 2 + \\lambda \\frac{1}{2}\\sum_{j=1}^{p} \\beta_j^2 .\n",
    "$$\n",
    "\n",
    "Notice that the intercept is not penalized. Why?\n",
    "\n",
    "\n",
    "Ridge penalizes the squares  of the coefficients. As a result, ridge shrinks coefficients toward zero, but not all the way.\n"
   ]
  },
  {
   "cell_type": "markdown",
   "id": "2765df72",
   "metadata": {},
   "source": [
    "To understand the mechanics, we are going to focus on a small subset of variables:\n",
    "\n",
    "1. **educ (Education Level)**  \n",
    "   - This typically refers to the respondent's **highest level of education completed**.  \n",
    "   - It is measured in **years of schooling** \n",
    " \n",
    "2. **mom_educ (Mother’s Education Level)**\n",
    "\n",
    "- This represents the highest level of education completed by the respondent’s mother.\n",
    "- Like \"educ,\" it can be measured in years of schooling \n",
    "  "
   ]
  },
  {
   "cell_type": "code",
   "execution_count": 3,
   "id": "12c5e4bb",
   "metadata": {
    "vscode": {
     "languageId": "r"
    }
   },
   "outputs": [],
   "source": [
    "p_load(\"glmnet\")\n",
    "\n",
    "#Vector that needs predicting\n",
    "y <- nlsy$lnw_2016\n",
    "\n",
    "# Matrix of predictors \n",
    "Xsmall <- as.matrix(nlsy  %>% select(educ,mom_educ))"
   ]
  },
  {
   "cell_type": "markdown",
   "id": "9428cd34-a465-4253-8911-1eb70109939b",
   "metadata": {},
   "source": [
    "Let's run the ridge regression (we need to set the parameter `alpha` to zero)\n",
    "\n",
    "We solve:\n",
    "\n",
    "$$\n",
    "\\min_{\\beta_0,\\beta_1,\\beta_2} \\frac{1}{N} \\sum_{i=1}^{n} \\left( log(wage)_i - \\beta_0 -  \\beta_1 Educ_i - \\beta_2 MomEduc_i   \\right) ^ 2 + \\lambda \\frac{1}{2} \\left(\\beta_1^2+ \\beta_2^2 \\right)\n",
    "$$"
   ]
  },
  {
   "cell_type": "code",
   "execution_count": 4,
   "id": "7876f0c1",
   "metadata": {
    "vscode": {
     "languageId": "r"
    }
   },
   "outputs": [],
   "source": [
    "ridge1 <- glmnet(\n",
    "  x = Xsmall,\n",
    "  y = y,\n",
    "  lambda=1,\n",
    "  alpha = 0 #ridge\n",
    ")"
   ]
  },
  {
   "cell_type": "code",
   "execution_count": 5,
   "id": "997324f9",
   "metadata": {
    "vscode": {
     "languageId": "r"
    }
   },
   "outputs": [
    {
     "data": {
      "text/plain": [
       "3 x 1 sparse Matrix of class \"dgCMatrix\"\n",
       "                    s0\n",
       "(Intercept) 2.38973488\n",
       "educ        0.03286252\n",
       "mom_educ    0.01877242"
      ]
     },
     "metadata": {},
     "output_type": "display_data"
    }
   ],
   "source": [
    "coef(ridge1)"
   ]
  },
  {
   "cell_type": "markdown",
   "id": "d855810d-a123-485a-aa13-65925721a08b",
   "metadata": {},
   "source": [
    "Are these shrunken relative to OLS?"
   ]
  },
  {
   "cell_type": "code",
   "execution_count": 6,
   "id": "a5472966-9ba7-401b-a990-387334d4de26",
   "metadata": {},
   "outputs": [
    {
     "name": "stdout",
     "output_type": "stream",
     "text": [
      "\n",
      "===============================================\n",
      "                        Dependent variable:    \n",
      "                    ---------------------------\n",
      "                                 y             \n",
      "-----------------------------------------------\n",
      "Xsmalleduc                   0.070***          \n",
      "                              (0.009)          \n",
      "                                               \n",
      "Xsmallmom_educ                0.021**          \n",
      "                              (0.011)          \n",
      "                                               \n",
      "Constant                     1.827***          \n",
      "                              (0.149)          \n",
      "                                               \n",
      "-----------------------------------------------\n",
      "Observations                   1,266           \n",
      "R2                             0.069           \n",
      "Adjusted R2                    0.068           \n",
      "Residual Std. Error      0.839 (df = 1263)     \n",
      "F Statistic          47.094*** (df = 2; 1263)  \n",
      "===============================================\n",
      "Note:               *p<0.1; **p<0.05; ***p<0.01\n"
     ]
    }
   ],
   "source": [
    "stargazer(lm(y~Xsmall),type=\"text\")"
   ]
  },
  {
   "cell_type": "markdown",
   "id": "8f175775-868e-4f81-ab23-407fa7d43c3c",
   "metadata": {},
   "source": [
    "H.W. Why the intercepts are not equal? Tip: Think on how the intercept is computed."
   ]
  },
  {
   "cell_type": "markdown",
   "id": "745b8db6-42be-4cb0-921f-597568bcd68b",
   "metadata": {},
   "source": [
    "### Regularization Paths"
   ]
  },
  {
   "cell_type": "markdown",
   "id": "46568ae7",
   "metadata": {},
   "source": [
    "Let's see the regularization path, that shows how much the coefficients are penalized for different values of $\\lambda$. "
   ]
  },
  {
   "cell_type": "code",
   "execution_count": 7,
   "id": "6e8dc2f3",
   "metadata": {
    "vscode": {
     "languageId": "r"
    }
   },
   "outputs": [],
   "source": [
    "ridge2 <- glmnet(\n",
    "  x = Xsmall,\n",
    "  y = y,\n",
    "  alpha = 0 #ridge\n",
    ")"
   ]
  },
  {
   "cell_type": "code",
   "execution_count": 8,
   "id": "33d7f73c",
   "metadata": {
    "vscode": {
     "languageId": "r"
    }
   },
   "outputs": [
    {
     "data": {
      "image/png": "[encoded data removed]",
      "text/plain": [
       "plot without title"
      ]
     },
     "metadata": {
      "image/png": {
       "height": 420,
       "width": 420
      }
     },
     "output_type": "display_data"
    }
   ],
   "source": [
    "plot(ridge2, xvar = \"lambda\")"
   ]
  },
  {
   "cell_type": "markdown",
   "id": "604622c3",
   "metadata": {},
   "source": [
    "Notice none of the coefficients are forced to be zero, although they get close to it."
   ]
  },
  {
   "cell_type": "markdown",
   "id": "a84285ef",
   "metadata": {},
   "source": [
    "#### All the predictors"
   ]
  },
  {
   "cell_type": "code",
   "execution_count": 9,
   "id": "f6bc55f3",
   "metadata": {
    "vscode": {
     "languageId": "r"
    }
   },
   "outputs": [
    {
     "data": {
      "image/png": "[encoded data removed]",
      "text/plain": [
       "plot without title"
      ]
     },
     "metadata": {
      "image/png": {
       "height": 420,
       "width": 420
      }
     },
     "output_type": "display_data"
    }
   ],
   "source": [
    "# Matrix of predictors (all but lnw_2016)\n",
    "X <- as.matrix(nlsy  %>% select(-lnw_2016))\n",
    "\n",
    "ridge_all <- glmnet(\n",
    "  x = X,\n",
    "  y = y,\n",
    "  alpha = 0 #ridge\n",
    ")\n",
    "\n",
    "plot(ridge_all, xvar = \"lambda\")"
   ]
  },
  {
   "cell_type": "markdown",
   "id": "610e187b",
   "metadata": {},
   "source": [
    "\n",
    "The *regularization path*, which illustrates how the model’s coefficients change as we vary the regularization strength $\\lambda$. Specifically:\n",
    "\n",
    "1. **Penalizing Coefficients:**  \n",
    "   When $\\lambda$ is large, the penalty on the size of the coefficients is strong, pushing most coefficients toward zero (or shrinking them substantially). This helps prevent overfitting by limiting how large the coefficients are.\n",
    "\n",
    "2. **Relaxing the Penalty:**  \n",
    "   As $\\lambda$ decreases, the penalty weakens. Coefficients that were previously shrunk toward zero may increase in magnitude if they improve the model’s fit to the data. Consequently, the model becomes more flexible and potentially more prone to overfitting.\n",
    "\n",
    "3. **Visualizing the Path:**  \n",
    "   We can plot each coefficient across a range of $\\lambda$ values. Each line on the plot corresponds to a coefficient, showing how it changes from near-zero (with high $\\lambda$) to larger values (with lower $\\lambda$).\n",
    "\n",
    "Overall, analyzing this path provides insight into the trade-off between regularization (controlling overfitting) and model complexity."
   ]
  },
  {
   "cell_type": "markdown",
   "id": "46bdff4d",
   "metadata": {},
   "source": [
    "### Scale Equivariance\n",
    "\n",
    "Since regularized methods apply a penalty to the coefficients, we need to ensure our coefficients are on a common scale. If not, then predictors with naturally larger values  will be penalized more than predictors with naturally smaller values.\n",
    "\n"
   ]
  },
  {
   "cell_type": "markdown",
   "id": "552bd6f6",
   "metadata": {},
   "source": [
    "Let's run the ridge regression (we need to set the parameter `alpha` to zero)"
   ]
  },
  {
   "cell_type": "code",
   "execution_count": 10,
   "id": "e7d962d5",
   "metadata": {
    "vscode": {
     "languageId": "r"
    }
   },
   "outputs": [],
   "source": [
    "ridge <- glmnet(\n",
    "  x = Xsmall,\n",
    "  y = y,\n",
    "  alpha = 0, #ridge\n",
    "  lambda=20,\n",
    "  standardize=FALSE,\n",
    ")"
   ]
  },
  {
   "cell_type": "markdown",
   "id": "7f5c15e1",
   "metadata": {},
   "source": [
    "Let's see the coefficients we obtained\n"
   ]
  },
  {
   "cell_type": "code",
   "execution_count": 11,
   "id": "ea487ab0",
   "metadata": {
    "vscode": {
     "languageId": "r"
    }
   },
   "outputs": [
    {
     "data": {
      "text/plain": [
       "3 x 1 sparse Matrix of class \"dgCMatrix\"\n",
       "                     s0\n",
       "(Intercept) 2.701109784\n",
       "educ        0.019789865\n",
       "mom_educ    0.009432237"
      ]
     },
     "metadata": {},
     "output_type": "display_data"
    }
   ],
   "source": [
    "coef(ridge)"
   ]
  },
  {
   "cell_type": "markdown",
   "id": "6e6d1503",
   "metadata": {},
   "source": [
    "Compare to OLS"
   ]
  },
  {
   "cell_type": "code",
   "execution_count": 12,
   "id": "5d58c8e2",
   "metadata": {
    "vscode": {
     "languageId": "r"
    }
   },
   "outputs": [
    {
     "name": "stdout",
     "output_type": "stream",
     "text": [
      "\n",
      "===============================================\n",
      "                        Dependent variable:    \n",
      "                    ---------------------------\n",
      "                                 y             \n",
      "-----------------------------------------------\n",
      "Xsmalleduc                   0.070***          \n",
      "                              (0.009)          \n",
      "                                               \n",
      "Xsmallmom_educ                0.021**          \n",
      "                              (0.011)          \n",
      "                                               \n",
      "Constant                     1.827***          \n",
      "                              (0.149)          \n",
      "                                               \n",
      "-----------------------------------------------\n",
      "Observations                   1,266           \n",
      "R2                             0.069           \n",
      "Adjusted R2                    0.068           \n",
      "Residual Std. Error      0.839 (df = 1263)     \n",
      "F Statistic          47.094*** (df = 2; 1263)  \n",
      "===============================================\n",
      "Note:               *p<0.1; **p<0.05; ***p<0.01\n"
     ]
    }
   ],
   "source": [
    "ols<-lm(y~Xsmall)\n",
    "stargazer(ols,type=\"text\")"
   ]
  },
  {
   "cell_type": "markdown",
   "id": "2b170493",
   "metadata": {},
   "source": [
    "#### What happens if we change the scale for mother's education?"
   ]
  },
  {
   "cell_type": "code",
   "execution_count": 13,
   "id": "85450b47",
   "metadata": {
    "vscode": {
     "languageId": "r"
    }
   },
   "outputs": [],
   "source": [
    "Xsmall[,2]<-Xsmall[,2]/10 #divide by 10, put it in decades"
   ]
  },
  {
   "cell_type": "code",
   "execution_count": 14,
   "id": "48a876d2",
   "metadata": {
    "vscode": {
     "languageId": "r"
    }
   },
   "outputs": [],
   "source": [
    "ridge_10 <- glmnet(\n",
    "  x = Xsmall,\n",
    "  y = y,\n",
    "  alpha = 0, #ridge\n",
    "  lambda=20,\n",
    "  standardize=FALSE,\n",
    ")"
   ]
  },
  {
   "cell_type": "code",
   "execution_count": 15,
   "id": "1d1fadfa",
   "metadata": {
    "vscode": {
     "languageId": "r"
    }
   },
   "outputs": [
    {
     "data": {
      "text/html": [
       "0.00116500067072581"
      ],
      "text/latex": [
       "0.00116500067072581"
      ],
      "text/markdown": [
       "0.00116500067072581"
      ],
      "text/plain": [
       "[1] 0.001165001"
      ]
     },
     "metadata": {},
     "output_type": "display_data"
    }
   ],
   "source": [
    "coef(ridge_10)[3]"
   ]
  },
  {
   "cell_type": "markdown",
   "id": "b56d0c3d-e964-40b6-bf15-ae66b941957b",
   "metadata": {},
   "source": [
    "The original in years"
   ]
  },
  {
   "cell_type": "code",
   "execution_count": 16,
   "id": "be90c090-5aed-486c-8889-f6884b66c1e8",
   "metadata": {},
   "outputs": [
    {
     "data": {
      "text/html": [
       "0.00943223676301263"
      ],
      "text/latex": [
       "0.00943223676301263"
      ],
      "text/markdown": [
       "0.00943223676301263"
      ],
      "text/plain": [
       "[1] 0.009432237"
      ]
     },
     "metadata": {},
     "output_type": "display_data"
    }
   ],
   "source": [
    "coef(ridge)[3]"
   ]
  },
  {
   "cell_type": "code",
   "execution_count": 17,
   "id": "5ebe89dc",
   "metadata": {
    "vscode": {
     "languageId": "r"
    }
   },
   "outputs": [
    {
     "data": {
      "text/plain": [
       "\n",
       "Call:\n",
       "lm(formula = y ~ Xsmall)\n",
       "\n",
       "Residuals:\n",
       "    Min      1Q  Median      3Q     Max \n",
       "-4.8546 -0.4003 -0.0458  0.3573  4.3549 \n",
       "\n",
       "Coefficients:\n",
       "               Estimate Std. Error t value Pr(>|t|)    \n",
       "(Intercept)    1.827198   0.148795  12.280  < 2e-16 ***\n",
       "Xsmalleduc     0.069777   0.008997   7.756  1.8e-14 ***\n",
       "Xsmallmom_educ 0.213382   0.108671   1.964   0.0498 *  \n",
       "---\n",
       "Signif. codes:  0 ‘***’ 0.001 ‘**’ 0.01 ‘*’ 0.05 ‘.’ 0.1 ‘ ’ 1\n",
       "\n",
       "Residual standard error: 0.8392 on 1263 degrees of freedom\n",
       "Multiple R-squared:  0.0694,\tAdjusted R-squared:  0.06793 \n",
       "F-statistic: 47.09 on 2 and 1263 DF,  p-value: < 2.2e-16\n"
      ]
     },
     "metadata": {},
     "output_type": "display_data"
    }
   ],
   "source": [
    "ols_10<-lm(y~Xsmall)\n",
    "summary(ols_10)"
   ]
  },
  {
   "cell_type": "code",
   "execution_count": 18,
   "id": "37dbc4c9",
   "metadata": {
    "vscode": {
     "languageId": "r"
    }
   },
   "outputs": [
    {
     "data": {
      "text/html": [
       "<strong>Xsmallmom_educ:</strong> 0.0213381502325163"
      ],
      "text/latex": [
       "\\textbf{Xsmallmom\\textbackslash{}\\_educ:} 0.0213381502325163"
      ],
      "text/markdown": [
       "**Xsmallmom_educ:** 0.0213381502325163"
      ],
      "text/plain": [
       "Xsmallmom_educ \n",
       "    0.02133815 "
      ]
     },
     "metadata": {},
     "output_type": "display_data"
    }
   ],
   "source": [
    "ols_10$coefficients[3]/10"
   ]
  },
  {
   "cell_type": "code",
   "execution_count": 19,
   "id": "c23df331-7b9e-4cab-be04-ae6e44ce0201",
   "metadata": {},
   "outputs": [
    {
     "data": {
      "text/html": [
       "<strong>Xsmallmom_educ:</strong> 0.0213381502325158"
      ],
      "text/latex": [
       "\\textbf{Xsmallmom\\textbackslash{}\\_educ:} 0.0213381502325158"
      ],
      "text/markdown": [
       "**Xsmallmom_educ:** 0.0213381502325158"
      ],
      "text/plain": [
       "Xsmallmom_educ \n",
       "    0.02133815 "
      ]
     },
     "metadata": {},
     "output_type": "display_data"
    }
   ],
   "source": [
    "ols$coefficients[3] #the original"
   ]
  },
  {
   "cell_type": "markdown",
   "id": "74261278-b2ce-4b51-b9cc-636e4c192610",
   "metadata": {},
   "source": [
    "Does it work if we reescale the ridge coefficient?"
   ]
  },
  {
   "cell_type": "code",
   "execution_count": 20,
   "id": "3bd400e7-0553-4350-af45-f3e0f7b0decd",
   "metadata": {},
   "outputs": [
    {
     "data": {
      "text/html": [
       "0.000116500067072581"
      ],
      "text/latex": [
       "0.000116500067072581"
      ],
      "text/markdown": [
       "0.000116500067072581"
      ],
      "text/plain": [
       "[1] 0.0001165001"
      ]
     },
     "metadata": {},
     "output_type": "display_data"
    }
   ],
   "source": [
    "coef(ridge_10)[3]/10"
   ]
  },
  {
   "cell_type": "markdown",
   "id": "c0203a5c-4420-4159-ae15-e3dda8fed2fd",
   "metadata": {},
   "source": [
    "#### A Bit of intuition\n",
    "\n",
    "$$\n",
    "\\tilde{MomEduc}_i = \\frac{MomEduc_i}{10}\n",
    "$$\n",
    "\n",
    "Now the model becomes:\n",
    "\n",
    "$$\n",
    "log(wage)_i = \\beta_0 -  \\beta_1 Educ_i - \\tilde{\\beta}_2 \\tilde{MomEduc}_i + u_i\n",
    "$$\n",
    "\n",
    "where $\\tilde{\\beta}_2=10 \\beta_2$\n",
    "\n",
    "Substituting into the ridge penalty term:\n",
    "\n",
    "$$\n",
    "\\lambda (\\beta_1^2 + \\beta_2^2) = \\lambda \\left( \\beta_1^2 + \\left(\\frac{\\tilde{\\beta}_2}{10}\\right)^2 \\right)\n",
    "$$\n",
    "\n",
    "which simplifies to:\n",
    "\n",
    "$$\n",
    "\\lambda \\beta_1^2 + \\lambda \\frac{\\tilde{\\beta}_2^2}{100}\n",
    "$$\n",
    "\n",
    "This means that **the penalty on $\\beta_2$ is scaled down by a factor of 100** when the variable is rescaled. In other words:\n",
    "\n",
    "- **Before scaling**, the mother's education variable is shrunken at the same rate as years of education because they are on the same scale.\n",
    "- **After scaling**, the shrinkage is relatively **smaller** because the coefficient is now divided by a factor.\n",
    "\n",
    "\n",
    "Take aways:\n",
    "\n",
    "1. **Magnitude Matters:**  \n",
    "   - The ridge penalty **shrinks large coefficients more** because it treats all variables equally in regularization.\n",
    "   - Thus, if mother's education is measured in years, its coefficient will be **larger** than if measured in decades, leading to a **stronger penalization**.\n",
    "\n",
    "2. **Standardization Helps:**  \n",
    "   - In practice, ridge regression often **standardizes variables** to avoid uneven penalization.\n",
    "   - Standardizing ensures that all variables have a mean of 0 and variance of 1, making ridge penalties apply evenly. Variables now are unitless.\n",
    "\n"
   ]
  },
  {
   "cell_type": "markdown",
   "id": "c5f16225",
   "metadata": {},
   "source": [
    "### Penalty selection\n",
    "\n",
    "Now we need to discuss how we select $\\lambda$: \n",
    "\n",
    "- Making sure that we have **zero bias** within the sample creates **out-of-sample problems**: **Bias-Variance trade-off**.\n",
    "\n",
    "- We make this trade-off **empirically**.\n",
    "\n",
    "    \\begin{align}\n",
    "            min_{\\beta} E(\\beta) = \\sum_{i=1}^n (y_i-\\beta_0 - x_{i1}\\beta_1 - \\dots - x_{ip}\\beta_p)^2 + \\lambda \\sum_{j=1}^p R(\\beta_j)\n",
    "    \\end{align}\n",
    "\n",
    "- **$\\lambda$ is the price for this trade-off**.\n",
    "\n",
    "How do we choose  $\\lambda$? -> $\\rightarrow$  **Cross-validation**.\n",
    "\n",
    "\n",
    "1. Initialization: Initially, we select a range of $\\lambda$ values. These could be chosen based on prior knowledge, heuristics, or a predefined range.\n",
    "\n",
    "2. Iteration Over Folds:\n",
    "\n",
    "    - Fold 1 as Validation: We train the Ridge regression model on Folds 2-5 (combining them to form the training set) and validate the model on Fold 1. We record the MSE  for each $\\lambda$  value.\n",
    "    - Fold 2 as Validation: Next, we train on Folds 1, 3-5 and validate on Fold 2, recording the MSE  for each $\\lambda$  value.\n",
    "    - We repeat this process, training on four folds and validating on the remaining one, cycling through until each fold has served as the validation set.\n",
    "  \n",
    "\n",
    "<div>\n",
    "<img src=\"../Modulo02/figs_notebook_SS03/fold.png\" width=\"500\"/>\n",
    "</div>\n",
    "\n",
    "\n",
    "- Error Aggregation: For each $\\lambda$   value, we average the MSE across all five folds. \n",
    "\n",
    "- Selection of $\\lambda$ : We select the $\\lambda$  value that yields the lowest MSE. This is the value that we expect to generalize best to unseen data."
   ]
  },
  {
   "cell_type": "markdown",
   "id": "2c13999b-8a28-4125-a496-45d69cbdee4d",
   "metadata": {},
   "source": [
    "Let's do it on all the predictors:"
   ]
  },
  {
   "cell_type": "code",
   "execution_count": 21,
   "id": "6ad989ed",
   "metadata": {
    "vscode": {
     "languageId": "r"
    }
   },
   "outputs": [],
   "source": [
    "#Vector that needs predicting\n",
    "y <- nlsy$lnw_2016\n",
    "\n",
    "# Matrix of predictors (all but lnw_2016)\n",
    "X <- as.matrix(nlsy  %>% select(-lnw_2016))\n"
   ]
  },
  {
   "cell_type": "markdown",
   "id": "ad6ed689-4539-4680-a2ef-94a0fbeecf3d",
   "metadata": {},
   "source": [
    "#### 1. Initialization: Initially, we select a range of $\\lambda$ values. "
   ]
  },
  {
   "cell_type": "code",
   "execution_count": 22,
   "id": "1d69365d-07e4-4350-b4eb-2178aaf05d77",
   "metadata": {},
   "outputs": [],
   "source": [
    "\n",
    "\n",
    "# Define lambda sequence\n",
    "lambda_seq <- 10^seq(4, -2, length = 100)\n",
    "\n"
   ]
  },
  {
   "cell_type": "markdown",
   "id": "8e492c18-4245-4f54-9631-2799a0989234",
   "metadata": {},
   "source": [
    "#### 2. Iteration Over Folds:"
   ]
  },
  {
   "cell_type": "markdown",
   "id": "6ee9de70-8197-4fd2-95f4-54e390a4a46b",
   "metadata": {},
   "source": [
    "##### Create the folds"
   ]
  },
  {
   "cell_type": "code",
   "execution_count": 23,
   "id": "6e9d8e9f-600b-41c3-a615-24c8948c3edf",
   "metadata": {},
   "outputs": [
    {
     "data": {
      "text/html": [
       "<style>\n",
       ".list-inline {list-style: none; margin:0; padding: 0}\n",
       ".list-inline>li {display: inline-block}\n",
       ".list-inline>li:not(:last-child)::after {content: \"\\00b7\"; padding: 0 .5ex}\n",
       "</style>\n",
       "<ol class=list-inline><li>5</li><li>3</li><li>4</li><li>1</li><li>5</li><li>3</li><li>2</li><li>3</li><li>3</li><li>5</li><li>2</li><li>4</li><li>1</li><li>5</li><li>3</li><li>3</li><li>2</li><li>5</li><li>1</li><li>4</li><li>1</li><li>2</li><li>3</li><li>5</li><li>3</li><li>4</li><li>2</li><li>4</li><li>5</li><li>5</li><li>2</li><li>2</li><li>3</li><li>1</li><li>4</li><li>4</li><li>1</li><li>2</li><li>1</li><li>2</li><li>3</li><li>1</li><li>2</li><li>4</li><li>3</li><li>4</li><li>2</li><li>1</li><li>1</li><li>5</li><li>1</li><li>3</li><li>5</li><li>4</li><li>2</li><li>1</li><li>3</li><li>3</li><li>3</li><li>2</li><li>4</li><li>4</li><li>1</li><li>3</li><li>4</li><li>5</li><li>4</li><li>3</li><li>3</li><li>1</li><li>2</li><li>3</li><li>1</li><li>1</li><li>1</li><li>4</li><li>2</li><li>3</li><li>5</li><li>2</li><li>4</li><li>4</li><li>5</li><li>5</li><li>3</li><li>1</li><li>5</li><li>5</li><li>1</li><li>2</li><li>2</li><li>1</li><li>4</li><li>1</li><li>3</li><li>3</li><li>2</li><li>2</li><li>5</li><li>4</li><li>2</li><li>1</li><li>1</li><li>2</li><li>5</li><li>5</li><li>1</li><li>4</li><li>1</li><li>4</li><li>5</li><li>4</li><li>2</li><li>1</li><li>2</li><li>5</li><li>4</li><li>2</li><li>5</li><li>1</li><li>5</li><li>5</li><li>1</li><li>4</li><li>4</li><li>4</li><li>4</li><li>2</li><li>2</li><li>1</li><li>1</li><li>4</li><li>2</li><li>4</li><li>2</li><li>4</li><li>3</li><li>2</li><li>1</li><li>5</li><li>5</li><li>2</li><li>2</li><li>1</li><li>3</li><li>3</li><li>5</li><li>1</li><li>5</li><li>2</li><li>3</li><li>5</li><li>5</li><li>5</li><li>1</li><li>3</li><li>1</li><li>3</li><li>4</li><li>5</li><li>5</li><li>3</li><li>2</li><li>2</li><li>5</li><li>5</li><li>4</li><li>4</li><li>4</li><li>5</li><li>2</li><li>3</li><li>5</li><li>1</li><li>2</li><li>2</li><li>2</li><li>4</li><li>5</li><li>2</li><li>1</li><li>2</li><li>3</li><li>3</li><li>3</li><li>2</li><li>2</li><li>3</li><li>4</li><li>1</li><li>3</li><li>4</li><li>3</li><li>1</li><li>2</li><li>5</li><li>5</li><li>3</li><li>3</li><li>3</li><li>⋯</li><li>5</li><li>1</li><li>4</li><li>3</li><li>3</li><li>3</li><li>2</li><li>2</li><li>1</li><li>1</li><li>4</li><li>4</li><li>2</li><li>5</li><li>3</li><li>1</li><li>4</li><li>2</li><li>3</li><li>5</li><li>4</li><li>5</li><li>2</li><li>5</li><li>4</li><li>4</li><li>2</li><li>4</li><li>2</li><li>2</li><li>3</li><li>5</li><li>3</li><li>5</li><li>3</li><li>5</li><li>2</li><li>5</li><li>5</li><li>2</li><li>4</li><li>1</li><li>4</li><li>3</li><li>2</li><li>3</li><li>4</li><li>1</li><li>1</li><li>3</li><li>2</li><li>4</li><li>3</li><li>4</li><li>4</li><li>3</li><li>3</li><li>1</li><li>3</li><li>5</li><li>3</li><li>5</li><li>3</li><li>4</li><li>2</li><li>2</li><li>3</li><li>2</li><li>3</li><li>2</li><li>4</li><li>2</li><li>3</li><li>5</li><li>1</li><li>1</li><li>2</li><li>2</li><li>4</li><li>3</li><li>1</li><li>5</li><li>2</li><li>3</li><li>4</li><li>4</li><li>1</li><li>5</li><li>5</li><li>4</li><li>1</li><li>4</li><li>4</li><li>4</li><li>2</li><li>4</li><li>4</li><li>1</li><li>1</li><li>3</li><li>1</li><li>1</li><li>4</li><li>4</li><li>5</li><li>5</li><li>4</li><li>1</li><li>1</li><li>3</li><li>1</li><li>2</li><li>3</li><li>5</li><li>2</li><li>2</li><li>1</li><li>1</li><li>1</li><li>4</li><li>5</li><li>5</li><li>2</li><li>4</li><li>4</li><li>5</li><li>1</li><li>3</li><li>1</li><li>4</li><li>4</li><li>3</li><li>4</li><li>3</li><li>5</li><li>1</li><li>3</li><li>5</li><li>3</li><li>5</li><li>2</li><li>2</li><li>1</li><li>1</li><li>3</li><li>4</li><li>4</li><li>1</li><li>2</li><li>3</li><li>3</li><li>2</li><li>4</li><li>4</li><li>4</li><li>5</li><li>2</li><li>5</li><li>2</li><li>2</li><li>4</li><li>3</li><li>3</li><li>3</li><li>5</li><li>3</li><li>4</li><li>3</li><li>1</li><li>3</li><li>3</li><li>3</li><li>4</li><li>3</li><li>1</li><li>1</li><li>1</li><li>1</li><li>5</li><li>1</li><li>2</li><li>4</li><li>1</li><li>2</li><li>5</li><li>1</li><li>2</li><li>4</li><li>5</li><li>4</li><li>1</li><li>5</li><li>1</li><li>5</li><li>1</li><li>1</li><li>3</li><li>5</li><li>4</li><li>2</li></ol>\n"
      ],
      "text/latex": [
       "\\begin{enumerate*}\n",
       "\\item 5\n",
       "\\item 3\n",
       "\\item 4\n",
       "\\item 1\n",
       "\\item 5\n",
       "\\item 3\n",
       "\\item 2\n",
       "\\item 3\n",
       "\\item 3\n",
       "\\item 5\n",
       "\\item 2\n",
       "\\item 4\n",
       "\\item 1\n",
       "\\item 5\n",
       "\\item 3\n",
       "\\item 3\n",
       "\\item 2\n",
       "\\item 5\n",
       "\\item 1\n",
       "\\item 4\n",
       "\\item 1\n",
       "\\item 2\n",
       "\\item 3\n",
       "\\item 5\n",
       "\\item 3\n",
       "\\item 4\n",
       "\\item 2\n",
       "\\item 4\n",
       "\\item 5\n",
       "\\item 5\n",
       "\\item 2\n",
       "\\item 2\n",
       "\\item 3\n",
       "\\item 1\n",
       "\\item 4\n",
       "\\item 4\n",
       "\\item 1\n",
       "\\item 2\n",
       "\\item 1\n",
       "\\item 2\n",
       "\\item 3\n",
       "\\item 1\n",
       "\\item 2\n",
       "\\item 4\n",
       "\\item 3\n",
       "\\item 4\n",
       "\\item 2\n",
       "\\item 1\n",
       "\\item 1\n",
       "\\item 5\n",
       "\\item 1\n",
       "\\item 3\n",
       "\\item 5\n",
       "\\item 4\n",
       "\\item 2\n",
       "\\item 1\n",
       "\\item 3\n",
       "\\item 3\n",
       "\\item 3\n",
       "\\item 2\n",
       "\\item 4\n",
       "\\item 4\n",
       "\\item 1\n",
       "\\item 3\n",
       "\\item 4\n",
       "\\item 5\n",
       "\\item 4\n",
       "\\item 3\n",
       "\\item 3\n",
       "\\item 1\n",
       "\\item 2\n",
       "\\item 3\n",
       "\\item 1\n",
       "\\item 1\n",
       "\\item 1\n",
       "\\item 4\n",
       "\\item 2\n",
       "\\item 3\n",
       "\\item 5\n",
       "\\item 2\n",
       "\\item 4\n",
       "\\item 4\n",
       "\\item 5\n",
       "\\item 5\n",
       "\\item 3\n",
       "\\item 1\n",
       "\\item 5\n",
       "\\item 5\n",
       "\\item 1\n",
       "\\item 2\n",
       "\\item 2\n",
       "\\item 1\n",
       "\\item 4\n",
       "\\item 1\n",
       "\\item 3\n",
       "\\item 3\n",
       "\\item 2\n",
       "\\item 2\n",
       "\\item 5\n",
       "\\item 4\n",
       "\\item 2\n",
       "\\item 1\n",
       "\\item 1\n",
       "\\item 2\n",
       "\\item 5\n",
       "\\item 5\n",
       "\\item 1\n",
       "\\item 4\n",
       "\\item 1\n",
       "\\item 4\n",
       "\\item 5\n",
       "\\item 4\n",
       "\\item 2\n",
       "\\item 1\n",
       "\\item 2\n",
       "\\item 5\n",
       "\\item 4\n",
       "\\item 2\n",
       "\\item 5\n",
       "\\item 1\n",
       "\\item 5\n",
       "\\item 5\n",
       "\\item 1\n",
       "\\item 4\n",
       "\\item 4\n",
       "\\item 4\n",
       "\\item 4\n",
       "\\item 2\n",
       "\\item 2\n",
       "\\item 1\n",
       "\\item 1\n",
       "\\item 4\n",
       "\\item 2\n",
       "\\item 4\n",
       "\\item 2\n",
       "\\item 4\n",
       "\\item 3\n",
       "\\item 2\n",
       "\\item 1\n",
       "\\item 5\n",
       "\\item 5\n",
       "\\item 2\n",
       "\\item 2\n",
       "\\item 1\n",
       "\\item 3\n",
       "\\item 3\n",
       "\\item 5\n",
       "\\item 1\n",
       "\\item 5\n",
       "\\item 2\n",
       "\\item 3\n",
       "\\item 5\n",
       "\\item 5\n",
       "\\item 5\n",
       "\\item 1\n",
       "\\item 3\n",
       "\\item 1\n",
       "\\item 3\n",
       "\\item 4\n",
       "\\item 5\n",
       "\\item 5\n",
       "\\item 3\n",
       "\\item 2\n",
       "\\item 2\n",
       "\\item 5\n",
       "\\item 5\n",
       "\\item 4\n",
       "\\item 4\n",
       "\\item 4\n",
       "\\item 5\n",
       "\\item 2\n",
       "\\item 3\n",
       "\\item 5\n",
       "\\item 1\n",
       "\\item 2\n",
       "\\item 2\n",
       "\\item 2\n",
       "\\item 4\n",
       "\\item 5\n",
       "\\item 2\n",
       "\\item 1\n",
       "\\item 2\n",
       "\\item 3\n",
       "\\item 3\n",
       "\\item 3\n",
       "\\item 2\n",
       "\\item 2\n",
       "\\item 3\n",
       "\\item 4\n",
       "\\item 1\n",
       "\\item 3\n",
       "\\item 4\n",
       "\\item 3\n",
       "\\item 1\n",
       "\\item 2\n",
       "\\item 5\n",
       "\\item 5\n",
       "\\item 3\n",
       "\\item 3\n",
       "\\item 3\n",
       "\\item ⋯\n",
       "\\item 5\n",
       "\\item 1\n",
       "\\item 4\n",
       "\\item 3\n",
       "\\item 3\n",
       "\\item 3\n",
       "\\item 2\n",
       "\\item 2\n",
       "\\item 1\n",
       "\\item 1\n",
       "\\item 4\n",
       "\\item 4\n",
       "\\item 2\n",
       "\\item 5\n",
       "\\item 3\n",
       "\\item 1\n",
       "\\item 4\n",
       "\\item 2\n",
       "\\item 3\n",
       "\\item 5\n",
       "\\item 4\n",
       "\\item 5\n",
       "\\item 2\n",
       "\\item 5\n",
       "\\item 4\n",
       "\\item 4\n",
       "\\item 2\n",
       "\\item 4\n",
       "\\item 2\n",
       "\\item 2\n",
       "\\item 3\n",
       "\\item 5\n",
       "\\item 3\n",
       "\\item 5\n",
       "\\item 3\n",
       "\\item 5\n",
       "\\item 2\n",
       "\\item 5\n",
       "\\item 5\n",
       "\\item 2\n",
       "\\item 4\n",
       "\\item 1\n",
       "\\item 4\n",
       "\\item 3\n",
       "\\item 2\n",
       "\\item 3\n",
       "\\item 4\n",
       "\\item 1\n",
       "\\item 1\n",
       "\\item 3\n",
       "\\item 2\n",
       "\\item 4\n",
       "\\item 3\n",
       "\\item 4\n",
       "\\item 4\n",
       "\\item 3\n",
       "\\item 3\n",
       "\\item 1\n",
       "\\item 3\n",
       "\\item 5\n",
       "\\item 3\n",
       "\\item 5\n",
       "\\item 3\n",
       "\\item 4\n",
       "\\item 2\n",
       "\\item 2\n",
       "\\item 3\n",
       "\\item 2\n",
       "\\item 3\n",
       "\\item 2\n",
       "\\item 4\n",
       "\\item 2\n",
       "\\item 3\n",
       "\\item 5\n",
       "\\item 1\n",
       "\\item 1\n",
       "\\item 2\n",
       "\\item 2\n",
       "\\item 4\n",
       "\\item 3\n",
       "\\item 1\n",
       "\\item 5\n",
       "\\item 2\n",
       "\\item 3\n",
       "\\item 4\n",
       "\\item 4\n",
       "\\item 1\n",
       "\\item 5\n",
       "\\item 5\n",
       "\\item 4\n",
       "\\item 1\n",
       "\\item 4\n",
       "\\item 4\n",
       "\\item 4\n",
       "\\item 2\n",
       "\\item 4\n",
       "\\item 4\n",
       "\\item 1\n",
       "\\item 1\n",
       "\\item 3\n",
       "\\item 1\n",
       "\\item 1\n",
       "\\item 4\n",
       "\\item 4\n",
       "\\item 5\n",
       "\\item 5\n",
       "\\item 4\n",
       "\\item 1\n",
       "\\item 1\n",
       "\\item 3\n",
       "\\item 1\n",
       "\\item 2\n",
       "\\item 3\n",
       "\\item 5\n",
       "\\item 2\n",
       "\\item 2\n",
       "\\item 1\n",
       "\\item 1\n",
       "\\item 1\n",
       "\\item 4\n",
       "\\item 5\n",
       "\\item 5\n",
       "\\item 2\n",
       "\\item 4\n",
       "\\item 4\n",
       "\\item 5\n",
       "\\item 1\n",
       "\\item 3\n",
       "\\item 1\n",
       "\\item 4\n",
       "\\item 4\n",
       "\\item 3\n",
       "\\item 4\n",
       "\\item 3\n",
       "\\item 5\n",
       "\\item 1\n",
       "\\item 3\n",
       "\\item 5\n",
       "\\item 3\n",
       "\\item 5\n",
       "\\item 2\n",
       "\\item 2\n",
       "\\item 1\n",
       "\\item 1\n",
       "\\item 3\n",
       "\\item 4\n",
       "\\item 4\n",
       "\\item 1\n",
       "\\item 2\n",
       "\\item 3\n",
       "\\item 3\n",
       "\\item 2\n",
       "\\item 4\n",
       "\\item 4\n",
       "\\item 4\n",
       "\\item 5\n",
       "\\item 2\n",
       "\\item 5\n",
       "\\item 2\n",
       "\\item 2\n",
       "\\item 4\n",
       "\\item 3\n",
       "\\item 3\n",
       "\\item 3\n",
       "\\item 5\n",
       "\\item 3\n",
       "\\item 4\n",
       "\\item 3\n",
       "\\item 1\n",
       "\\item 3\n",
       "\\item 3\n",
       "\\item 3\n",
       "\\item 4\n",
       "\\item 3\n",
       "\\item 1\n",
       "\\item 1\n",
       "\\item 1\n",
       "\\item 1\n",
       "\\item 5\n",
       "\\item 1\n",
       "\\item 2\n",
       "\\item 4\n",
       "\\item 1\n",
       "\\item 2\n",
       "\\item 5\n",
       "\\item 1\n",
       "\\item 2\n",
       "\\item 4\n",
       "\\item 5\n",
       "\\item 4\n",
       "\\item 1\n",
       "\\item 5\n",
       "\\item 1\n",
       "\\item 5\n",
       "\\item 1\n",
       "\\item 1\n",
       "\\item 3\n",
       "\\item 5\n",
       "\\item 4\n",
       "\\item 2\n",
       "\\end{enumerate*}\n"
      ],
      "text/markdown": [
       "1. 5\n",
       "2. 3\n",
       "3. 4\n",
       "4. 1\n",
       "5. 5\n",
       "6. 3\n",
       "7. 2\n",
       "8. 3\n",
       "9. 3\n",
       "10. 5\n",
       "11. 2\n",
       "12. 4\n",
       "13. 1\n",
       "14. 5\n",
       "15. 3\n",
       "16. 3\n",
       "17. 2\n",
       "18. 5\n",
       "19. 1\n",
       "20. 4\n",
       "21. 1\n",
       "22. 2\n",
       "23. 3\n",
       "24. 5\n",
       "25. 3\n",
       "26. 4\n",
       "27. 2\n",
       "28. 4\n",
       "29. 5\n",
       "30. 5\n",
       "31. 2\n",
       "32. 2\n",
       "33. 3\n",
       "34. 1\n",
       "35. 4\n",
       "36. 4\n",
       "37. 1\n",
       "38. 2\n",
       "39. 1\n",
       "40. 2\n",
       "41. 3\n",
       "42. 1\n",
       "43. 2\n",
       "44. 4\n",
       "45. 3\n",
       "46. 4\n",
       "47. 2\n",
       "48. 1\n",
       "49. 1\n",
       "50. 5\n",
       "51. 1\n",
       "52. 3\n",
       "53. 5\n",
       "54. 4\n",
       "55. 2\n",
       "56. 1\n",
       "57. 3\n",
       "58. 3\n",
       "59. 3\n",
       "60. 2\n",
       "61. 4\n",
       "62. 4\n",
       "63. 1\n",
       "64. 3\n",
       "65. 4\n",
       "66. 5\n",
       "67. 4\n",
       "68. 3\n",
       "69. 3\n",
       "70. 1\n",
       "71. 2\n",
       "72. 3\n",
       "73. 1\n",
       "74. 1\n",
       "75. 1\n",
       "76. 4\n",
       "77. 2\n",
       "78. 3\n",
       "79. 5\n",
       "80. 2\n",
       "81. 4\n",
       "82. 4\n",
       "83. 5\n",
       "84. 5\n",
       "85. 3\n",
       "86. 1\n",
       "87. 5\n",
       "88. 5\n",
       "89. 1\n",
       "90. 2\n",
       "91. 2\n",
       "92. 1\n",
       "93. 4\n",
       "94. 1\n",
       "95. 3\n",
       "96. 3\n",
       "97. 2\n",
       "98. 2\n",
       "99. 5\n",
       "100. 4\n",
       "101. 2\n",
       "102. 1\n",
       "103. 1\n",
       "104. 2\n",
       "105. 5\n",
       "106. 5\n",
       "107. 1\n",
       "108. 4\n",
       "109. 1\n",
       "110. 4\n",
       "111. 5\n",
       "112. 4\n",
       "113. 2\n",
       "114. 1\n",
       "115. 2\n",
       "116. 5\n",
       "117. 4\n",
       "118. 2\n",
       "119. 5\n",
       "120. 1\n",
       "121. 5\n",
       "122. 5\n",
       "123. 1\n",
       "124. 4\n",
       "125. 4\n",
       "126. 4\n",
       "127. 4\n",
       "128. 2\n",
       "129. 2\n",
       "130. 1\n",
       "131. 1\n",
       "132. 4\n",
       "133. 2\n",
       "134. 4\n",
       "135. 2\n",
       "136. 4\n",
       "137. 3\n",
       "138. 2\n",
       "139. 1\n",
       "140. 5\n",
       "141. 5\n",
       "142. 2\n",
       "143. 2\n",
       "144. 1\n",
       "145. 3\n",
       "146. 3\n",
       "147. 5\n",
       "148. 1\n",
       "149. 5\n",
       "150. 2\n",
       "151. 3\n",
       "152. 5\n",
       "153. 5\n",
       "154. 5\n",
       "155. 1\n",
       "156. 3\n",
       "157. 1\n",
       "158. 3\n",
       "159. 4\n",
       "160. 5\n",
       "161. 5\n",
       "162. 3\n",
       "163. 2\n",
       "164. 2\n",
       "165. 5\n",
       "166. 5\n",
       "167. 4\n",
       "168. 4\n",
       "169. 4\n",
       "170. 5\n",
       "171. 2\n",
       "172. 3\n",
       "173. 5\n",
       "174. 1\n",
       "175. 2\n",
       "176. 2\n",
       "177. 2\n",
       "178. 4\n",
       "179. 5\n",
       "180. 2\n",
       "181. 1\n",
       "182. 2\n",
       "183. 3\n",
       "184. 3\n",
       "185. 3\n",
       "186. 2\n",
       "187. 2\n",
       "188. 3\n",
       "189. 4\n",
       "190. 1\n",
       "191. 3\n",
       "192. 4\n",
       "193. 3\n",
       "194. 1\n",
       "195. 2\n",
       "196. 5\n",
       "197. 5\n",
       "198. 3\n",
       "199. 3\n",
       "200. 3\n",
       "201. ⋯\n",
       "202. 5\n",
       "203. 1\n",
       "204. 4\n",
       "205. 3\n",
       "206. 3\n",
       "207. 3\n",
       "208. 2\n",
       "209. 2\n",
       "210. 1\n",
       "211. 1\n",
       "212. 4\n",
       "213. 4\n",
       "214. 2\n",
       "215. 5\n",
       "216. 3\n",
       "217. 1\n",
       "218. 4\n",
       "219. 2\n",
       "220. 3\n",
       "221. 5\n",
       "222. 4\n",
       "223. 5\n",
       "224. 2\n",
       "225. 5\n",
       "226. 4\n",
       "227. 4\n",
       "228. 2\n",
       "229. 4\n",
       "230. 2\n",
       "231. 2\n",
       "232. 3\n",
       "233. 5\n",
       "234. 3\n",
       "235. 5\n",
       "236. 3\n",
       "237. 5\n",
       "238. 2\n",
       "239. 5\n",
       "240. 5\n",
       "241. 2\n",
       "242. 4\n",
       "243. 1\n",
       "244. 4\n",
       "245. 3\n",
       "246. 2\n",
       "247. 3\n",
       "248. 4\n",
       "249. 1\n",
       "250. 1\n",
       "251. 3\n",
       "252. 2\n",
       "253. 4\n",
       "254. 3\n",
       "255. 4\n",
       "256. 4\n",
       "257. 3\n",
       "258. 3\n",
       "259. 1\n",
       "260. 3\n",
       "261. 5\n",
       "262. 3\n",
       "263. 5\n",
       "264. 3\n",
       "265. 4\n",
       "266. 2\n",
       "267. 2\n",
       "268. 3\n",
       "269. 2\n",
       "270. 3\n",
       "271. 2\n",
       "272. 4\n",
       "273. 2\n",
       "274. 3\n",
       "275. 5\n",
       "276. 1\n",
       "277. 1\n",
       "278. 2\n",
       "279. 2\n",
       "280. 4\n",
       "281. 3\n",
       "282. 1\n",
       "283. 5\n",
       "284. 2\n",
       "285. 3\n",
       "286. 4\n",
       "287. 4\n",
       "288. 1\n",
       "289. 5\n",
       "290. 5\n",
       "291. 4\n",
       "292. 1\n",
       "293. 4\n",
       "294. 4\n",
       "295. 4\n",
       "296. 2\n",
       "297. 4\n",
       "298. 4\n",
       "299. 1\n",
       "300. 1\n",
       "301. 3\n",
       "302. 1\n",
       "303. 1\n",
       "304. 4\n",
       "305. 4\n",
       "306. 5\n",
       "307. 5\n",
       "308. 4\n",
       "309. 1\n",
       "310. 1\n",
       "311. 3\n",
       "312. 1\n",
       "313. 2\n",
       "314. 3\n",
       "315. 5\n",
       "316. 2\n",
       "317. 2\n",
       "318. 1\n",
       "319. 1\n",
       "320. 1\n",
       "321. 4\n",
       "322. 5\n",
       "323. 5\n",
       "324. 2\n",
       "325. 4\n",
       "326. 4\n",
       "327. 5\n",
       "328. 1\n",
       "329. 3\n",
       "330. 1\n",
       "331. 4\n",
       "332. 4\n",
       "333. 3\n",
       "334. 4\n",
       "335. 3\n",
       "336. 5\n",
       "337. 1\n",
       "338. 3\n",
       "339. 5\n",
       "340. 3\n",
       "341. 5\n",
       "342. 2\n",
       "343. 2\n",
       "344. 1\n",
       "345. 1\n",
       "346. 3\n",
       "347. 4\n",
       "348. 4\n",
       "349. 1\n",
       "350. 2\n",
       "351. 3\n",
       "352. 3\n",
       "353. 2\n",
       "354. 4\n",
       "355. 4\n",
       "356. 4\n",
       "357. 5\n",
       "358. 2\n",
       "359. 5\n",
       "360. 2\n",
       "361. 2\n",
       "362. 4\n",
       "363. 3\n",
       "364. 3\n",
       "365. 3\n",
       "366. 5\n",
       "367. 3\n",
       "368. 4\n",
       "369. 3\n",
       "370. 1\n",
       "371. 3\n",
       "372. 3\n",
       "373. 3\n",
       "374. 4\n",
       "375. 3\n",
       "376. 1\n",
       "377. 1\n",
       "378. 1\n",
       "379. 1\n",
       "380. 5\n",
       "381. 1\n",
       "382. 2\n",
       "383. 4\n",
       "384. 1\n",
       "385. 2\n",
       "386. 5\n",
       "387. 1\n",
       "388. 2\n",
       "389. 4\n",
       "390. 5\n",
       "391. 4\n",
       "392. 1\n",
       "393. 5\n",
       "394. 1\n",
       "395. 5\n",
       "396. 1\n",
       "397. 1\n",
       "398. 3\n",
       "399. 5\n",
       "400. 4\n",
       "401. 2\n",
       "\n",
       "\n"
      ],
      "text/plain": [
       "   [1] 5 3 4 1 5 3 2 3 3 5 2 4 1 5 3 3 2 5 1 4 1 2 3 5 3 4 2 4 5 5 2 2 3 1 4 4 1\n",
       "  [38] 2 1 2 3 1 2 4 3 4 2 1 1 5 1 3 5 4 2 1 3 3 3 2 4 4 1 3 4 5 4 3 3 1 2 3 1 1\n",
       "  [75] 1 4 2 3 5 2 4 4 5 5 3 1 5 5 1 2 2 1 4 1 3 3 2 2 5 4 2 1 1 2 5 5 1 4 1 4 5\n",
       " [112] 4 2 1 2 5 4 2 5 1 5 5 1 4 4 4 4 2 2 1 1 4 2 4 2 4 3 2 1 5 5 2 2 1 3 3 5 1\n",
       " [149] 5 2 3 5 5 5 1 3 1 3 4 5 5 3 2 2 5 5 4 4 4 5 2 3 5 1 2 2 2 4 5 2 1 2 3 3 3\n",
       " [186] 2 2 3 4 1 3 4 3 1 2 5 5 3 3 3 4 2 3 4 2 1 2 3 3 2 3 2 1 5 1 4 1 1 4 5 3 4\n",
       " [223] 5 1 2 3 4 5 3 2 5 4 5 4 1 2 2 2 2 5 5 2 1 3 2 5 2 3 3 1 1 5 4 1 4 3 5 4 1\n",
       " [260] 5 1 3 5 2 5 3 5 3 2 4 1 1 3 2 4 2 3 4 5 2 1 2 5 4 4 5 3 4 1 1 2 1 5 4 4 3\n",
       " [297] 1 5 1 1 4 5 2 3 1 5 5 3 2 4 2 5 4 2 4 2 2 4 2 2 2 1 5 4 2 4 1 5 4 4 5 5 4\n",
       " [334] 3 1 5 3 1 5 4 5 1 2 1 5 2 4 2 5 5 3 1 1 1 1 3 4 2 5 2 1 2 1 4 3 4 1 2 2 4\n",
       " [371] 2 1 4 2 5 1 5 3 5 2 2 4 3 2 2 2 5 3 3 5 5 3 3 1 3 4 4 3 2 5 1 3 4 4 5 4 3\n",
       " [408] 4 5 4 3 3 1 3 4 4 1 5 4 1 3 3 4 2 3 1 4 2 3 2 2 5 1 5 3 1 4 4 4 2 4 3 2 1\n",
       " [445] 5 4 2 1 1 3 3 5 4 4 1 4 5 3 1 5 1 5 5 4 1 1 2 4 3 4 4 1 2 2 1 4 5 1 5 4 5\n",
       " [482] 2 3 3 3 1 5 5 1 5 3 5 2 2 1 3 2 3 3 3 5 5 5 5 4 4 2 1 5 1 5 3 2 3 1 2 4 4\n",
       " [519] 4 4 3 1 3 4 4 4 4 4 1 2 4 2 4 5 3 5 4 3 3 4 5 2 4 4 5 2 4 5 4 3 4 2 1 2 5\n",
       " [556] 2 1 2 2 3 5 1 4 2 5 2 1 1 3 3 1 2 5 1 1 5 2 4 5 4 4 1 3 2 4 3 4 4 2 2 3 3\n",
       " [593] 1 5 1 5 5 2 5 2 2 1 2 3 2 1 5 4 2 1 1 2 5 4 1 2 2 1 2 1 4 3 3 5 1 3 2 2 1\n",
       " [630] 1 2 2 3 3 5 5 5 2 1 1 1 1 3 1 5 5 2 2 2 2 4 1 3 2 3 1 4 2 3 5 1 4 2 1 3 4\n",
       " [667] 5 2 1 3 4 5 2 3 5 5 5 4 2 5 2 1 5 1 3 4 3 3 4 5 3 3 1 4 5 1 5 4 3 4 4 3 5\n",
       " [704] 2 3 1 1 4 5 5 4 4 2 2 5 5 4 2 2 1 1 3 4 5 2 1 5 5 3 4 5 5 5 2 5 4 3 1 1 3\n",
       " [741] 1 5 5 1 1 5 3 1 4 5 3 5 3 3 1 5 3 2 1 1 4 3 1 5 3 1 3 1 2 1 4 4 2 4 4 2 2\n",
       " [778] 5 2 5 4 2 5 5 4 2 5 4 4 4 2 1 1 5 1 4 3 2 5 5 3 1 1 3 5 5 2 2 1 4 2 4 4 3\n",
       " [815] 1 4 3 5 5 3 4 4 1 3 2 3 2 5 5 1 5 5 1 4 1 2 2 2 3 2 3 3 2 1 3 2 3 5 2 4 5\n",
       " [852] 4 3 2 3 1 4 3 5 3 1 3 1 2 5 1 1 2 3 2 3 5 5 2 1 5 4 2 1 4 1 4 3 5 3 5 3 4\n",
       " [889] 1 1 3 4 3 1 5 2 1 5 1 2 2 2 3 1 5 1 3 5 5 2 3 4 2 1 2 4 5 5 1 5 4 1 3 3 3\n",
       " [926] 4 3 1 2 5 5 3 1 5 3 4 3 5 3 2 4 3 3 3 5 3 5 5 1 4 1 5 5 3 3 2 3 4 2 3 1 4\n",
       " [963] 1 3 2 5 2 3 5 3 5 1 2 5 3 3 4 3 1 4 3 5 4 4 1 3 5 1 1 4 2 5 1 4 2 2 1 5 2\n",
       "[1000] 2 1 1 3 1 4 4 5 1 1 2 5 2 3 1 1 4 1 3 1 1 3 2 4 3 1 2 2 5 4 4 1 3 4 5 2 4\n",
       "[1037] 3 5 4 2 2 1 4 4 5 5 2 2 3 5 2 2 4 3 2 3 4 3 4 5 5 3 4 3 3 4 5 1 4 3 3 3 2\n",
       "[1074] 2 1 1 4 4 2 5 3 1 4 2 3 5 4 5 2 5 4 4 2 4 2 2 3 5 3 5 3 5 2 5 5 2 4 1 4 3\n",
       "[1111] 2 3 4 1 1 3 2 4 3 4 4 3 3 1 3 5 3 5 3 4 2 2 3 2 3 2 4 2 3 5 1 1 2 2 4 3 1\n",
       "[1148] 5 2 3 4 4 1 5 5 4 1 4 4 4 2 4 4 1 1 3 1 1 4 4 5 5 4 1 1 3 1 2 3 5 2 2 1 1\n",
       "[1185] 1 4 5 5 2 4 4 5 1 3 1 4 4 3 4 3 5 1 3 5 3 5 2 2 1 1 3 4 4 1 2 3 3 2 4 4 4\n",
       "[1222] 5 2 5 2 2 4 3 3 3 5 3 4 3 1 3 3 3 4 3 1 1 1 1 5 1 2 4 1 2 5 1 2 4 5 4 1 5\n",
       "[1259] 1 5 1 1 3 5 4 2"
      ]
     },
     "metadata": {},
     "output_type": "display_data"
    }
   ],
   "source": [
    "K <- 5  # 5-fold cross-validation\n",
    "\n",
    "# Create folds\n",
    "set.seed(123)  # Ensure reproducibility\n",
    "folds <- sample(rep(1:K, length.out = length(y)))  # Assign randomly 1-5 to each observation.\n",
    "folds "
   ]
  },
  {
   "cell_type": "markdown",
   "id": "948bd10f-c322-465a-89d5-249bf4176a41",
   "metadata": {},
   "source": [
    "# Prepare to loop"
   ]
  },
  {
   "cell_type": "code",
   "execution_count": 24,
   "id": "b1548b86-0f3f-4616-8766-043e3651c2b3",
   "metadata": {},
   "outputs": [],
   "source": [
    "# Store errors\n",
    "cv_errors <- matrix(NA, nrow = length(lambda_seq), ncol = K)\n",
    "\n",
    "# Loop over folds\n",
    "for (k in 1:K) {\n",
    "\n",
    "  test_idx <- which(folds == k) # Extract test indices for this fold\n",
    "  \n",
    "  # Training and testing folds\n",
    "  X_train <- X[-test_idx, , drop = FALSE]  # Drop = FALSE prevents dimension reduction issues\n",
    "  y_train <- y[-test_idx]\n",
    "  X_test <- X[test_idx, , drop = FALSE]\n",
    "  y_test <- y[test_idx]\n",
    "  \n",
    "  # Fit ridge regression for all lambdas (100 because that is the sequence we specified)\n",
    "  ridge_model <- glmnet(X_train, y_train, alpha = 0, lambda = lambda_seq)\n",
    "  \n",
    "  # Predict on test set for each lambda\n",
    "  y_pred <- predict(ridge_model, newx = X_test)\n",
    "  \n",
    "  # Compute MSE for each lambda\n",
    "  cv_errors[, k] <- colMeans((y_test - y_pred)^2)\n",
    "}\n"
   ]
  },
  {
   "cell_type": "markdown",
   "id": "8da7edb3-f665-4b7f-8a8d-25403610bd3f",
   "metadata": {},
   "source": [
    "##### Error Aggregation: For each $\\lambda$   value, we average the MSE across all five folds. "
   ]
  },
  {
   "cell_type": "code",
   "execution_count": 25,
   "id": "0bedfc91-d1d1-404d-9e38-0b70b3cfc4a4",
   "metadata": {},
   "outputs": [],
   "source": [
    "\n",
    "\n",
    "# Average errors across folds\n",
    "cv_mse <- rowMeans(cv_errors)\n",
    "\n"
   ]
  },
  {
   "cell_type": "markdown",
   "id": "573c56ae-9ec2-4bc0-8887-66e039eb39e0",
   "metadata": {},
   "source": [
    "##### Selection of $\\lambda$ : We select the $\\lambda$  value that yields the lowest MSE. This is the value that we expect to generalize best to unseen data."
   ]
  },
  {
   "cell_type": "code",
   "execution_count": 26,
   "id": "8c9426f9-c3b4-453f-bb72-cc3e75f1ed3d",
   "metadata": {},
   "outputs": [
    {
     "name": "stdout",
     "output_type": "stream",
     "text": [
      "[1] 7.054802\n"
     ]
    }
   ],
   "source": [
    "# Optimal lambda (minimizing the cross-validation error)\n",
    "lambda_opt <- lambda_seq[which.min(cv_mse)]\n",
    "# Print optimal lambda\n",
    "print(lambda_opt)\n"
   ]
  },
  {
   "cell_type": "markdown",
   "id": "7be8848a-2cfd-43b8-be72-635c4a931400",
   "metadata": {},
   "source": [
    "##### Train final model with optimal lambda"
   ]
  },
  {
   "cell_type": "code",
   "execution_count": 27,
   "id": "cb789d0f-677b-4ffc-9512-bf6a4120f811",
   "metadata": {},
   "outputs": [],
   "source": [
    "final_model <- glmnet(X, y, alpha = 0, lambda = lambda_opt)"
   ]
  },
  {
   "cell_type": "markdown",
   "id": "96eaee2c-8cd8-43dd-b61d-42f422746359",
   "metadata": {},
   "source": [
    "#### Easier way, use cv.glmnet \n",
    "(even easier, caret -> TA session)"
   ]
  },
  {
   "cell_type": "code",
   "execution_count": 28,
   "id": "84307874",
   "metadata": {
    "vscode": {
     "languageId": "r"
    }
   },
   "outputs": [],
   "source": [
    "# Cross-validation using cv.glmnet with the same folds\n",
    "cv_ridge <- cv.glmnet(X, y, alpha = 0, lambda = lambda_seq, foldid = folds)\n",
    "# foldid: an optional vector of values between 1 and nfolds identifying what fold each observation is in"
   ]
  },
  {
   "cell_type": "code",
   "execution_count": 29,
   "id": "340c1d9c-0908-4e5d-b03a-a33939929582",
   "metadata": {},
   "outputs": [
    {
     "name": "stdout",
     "output_type": "stream",
     "text": [
      "[1] 7.054802\n"
     ]
    }
   ],
   "source": [
    "# Optimal lambda from cv.glmnet\n",
    "lambda_opt_glmnet <- cv_ridge$lambda.min\n",
    "print(lambda_opt_glmnet)"
   ]
  },
  {
   "cell_type": "code",
   "execution_count": 30,
   "id": "a1b769ed",
   "metadata": {
    "vscode": {
     "languageId": "r"
    }
   },
   "outputs": [
    {
     "data": {
      "text/plain": [
       "\n",
       "Call:  cv.glmnet(x = X, y = y, lambda = lambda_seq, foldid = folds,      alpha = 0) \n",
       "\n",
       "Measure: Mean-Squared Error \n",
       "\n",
       "    Lambda Index Measure      SE Nonzero\n",
       "min   7.05    53  0.7102 0.02515     950\n",
       "1se  49.77    39  0.7338 0.02420     950"
      ]
     },
     "metadata": {},
     "output_type": "display_data"
    }
   ],
   "source": [
    "cv_ridge"
   ]
  },
  {
   "cell_type": "markdown",
   "id": "fc31f053",
   "metadata": {},
   "source": [
    "We can plot the MSE for each $\\lambda$:"
   ]
  },
  {
   "cell_type": "code",
   "execution_count": 31,
   "id": "6a2d2c39",
   "metadata": {
    "vscode": {
     "languageId": "r"
    }
   },
   "outputs": [
    {
     "data": {
      "image/png": "[encoded data removed]",
      "text/plain": [
       "plot without title"
      ]
     },
     "metadata": {
      "image/png": {
       "height": 420,
       "width": 420
      }
     },
     "output_type": "display_data"
    }
   ],
   "source": [
    "plot(cv_ridge)"
   ]
  },
  {
   "cell_type": "markdown",
   "id": "76033caf",
   "metadata": {},
   "source": [
    "This plots the cross-validation curve (red dotted line) along with upper and lower standard deviation curves\n",
    "along the $\\lambda$ sequence (error bars). \n",
    "\n",
    "Two special values along the $\\lambda$ sequence are indicated by the vertical dotted lines:\n",
    " - lambda.min is the value of $\\lambda$ that gives minimum mean cross-validated error, while \n",
    " - lambda.1se is the value of $\\lambda$ that gives the most regularized model such that the cross-validated error is within one standard error of the minimum."
   ]
  },
  {
   "cell_type": "markdown",
   "id": "83299a64",
   "metadata": {},
   "source": [
    "We can use the following code to get the value of `lambda.min` "
   ]
  },
  {
   "cell_type": "code",
   "execution_count": 32,
   "id": "6937d823",
   "metadata": {
    "vscode": {
     "languageId": "r"
    }
   },
   "outputs": [
    {
     "data": {
      "text/html": [
       "7.05480231071865"
      ],
      "text/latex": [
       "7.05480231071865"
      ],
      "text/markdown": [
       "7.05480231071865"
      ],
      "text/plain": [
       "[1] 7.054802"
      ]
     },
     "metadata": {},
     "output_type": "display_data"
    }
   ],
   "source": [
    "cv_ridge$lambda.min"
   ]
  },
  {
   "cell_type": "code",
   "execution_count": 33,
   "id": "7094011c",
   "metadata": {
    "vscode": {
     "languageId": "r"
    }
   },
   "outputs": [
    {
     "data": {
      "text/html": [
       "1.95370856375252"
      ],
      "text/latex": [
       "1.95370856375252"
      ],
      "text/markdown": [
       "1.95370856375252"
      ],
      "text/plain": [
       "[1] 1.953709"
      ]
     },
     "metadata": {},
     "output_type": "display_data"
    }
   ],
   "source": [
    "log(cv_ridge$lambda.min)"
   ]
  },
  {
   "cell_type": "markdown",
   "id": "ebca54cd",
   "metadata": {},
   "source": [
    "and the model coefficients at that value of $\\lambda$:"
   ]
  },
  {
   "cell_type": "code",
   "execution_count": 34,
   "id": "62b9ae5b",
   "metadata": {
    "vscode": {
     "languageId": "r"
    }
   },
   "outputs": [
    {
     "data": {
      "text/plain": [
       "6 x 1 sparse Matrix of class \"dgCMatrix\"\n",
       "                      s1\n",
       "(Intercept)  2.954717563\n",
       "educ         0.004829033\n",
       "black       -0.025465346\n",
       "hispanic     0.006616148\n",
       "other       -0.033816794\n",
       "exp         -0.003777411"
      ]
     },
     "metadata": {},
     "output_type": "display_data"
    }
   ],
   "source": [
    "head(coef(cv_ridge, s = \"lambda.min\"))"
   ]
  },
  {
   "cell_type": "markdown",
   "id": "878a5775-ccf1-4a9f-a8e0-69a00b045acc",
   "metadata": {},
   "source": [
    "In practice, the 1SE rule is sometimes used because some studies found that models chosen by $\\lambda_{1SE}$ **tend to perform better on test data** than those chosen by $\\lambda_{\\min}$ (Hastie et al., *The Elements of Statistical Learning*)."
   ]
  },
  {
   "cell_type": "markdown",
   "id": "b3f16321",
   "metadata": {},
   "source": [
    "## Lasso\n",
    "\n",
    "Now let's fit lasso, which can be fit using `glmnet()` with alpha = 1 and seeks to minimize:\n",
    "\n",
    "\n",
    "$$\n",
    "\\frac{1}{2n}\\sum_{i=1}^{n} \\left( y_i - \\beta_0 - \\sum_{j=1}^{p} \\beta_j x_{ij}    \\right) ^ 2 + \\lambda \\sum_{j=1}^{p} |\\beta_j|\n",
    "$$\n",
    "\n",
    "Notice that the intercept is not penalized. \n"
   ]
  },
  {
   "cell_type": "markdown",
   "id": "1035b84a",
   "metadata": {},
   "source": [
    "### No penalty = OLS"
   ]
  },
  {
   "cell_type": "code",
   "execution_count": 35,
   "id": "4459e15e",
   "metadata": {
    "vscode": {
     "languageId": "r"
    }
   },
   "outputs": [],
   "source": [
    "lasso_no_pen <- glmnet(\n",
    "  x = Xsmall,\n",
    "  y = y,\n",
    "  alpha = 1, #lasso\n",
    "  lambda=0\n",
    ")"
   ]
  },
  {
   "cell_type": "code",
   "execution_count": 36,
   "id": "4d6dc1b1",
   "metadata": {
    "vscode": {
     "languageId": "r"
    }
   },
   "outputs": [
    {
     "data": {
      "text/plain": [
       "2 x 1 sparse Matrix of class \"dgCMatrix\"\n",
       "                 s0\n",
       "educ     0.06977844\n",
       "mom_educ 0.21337366"
      ]
     },
     "metadata": {},
     "output_type": "display_data"
    }
   ],
   "source": [
    "lasso_no_pen$beta"
   ]
  },
  {
   "cell_type": "code",
   "execution_count": 37,
   "id": "d5d6eef7",
   "metadata": {
    "vscode": {
     "languageId": "r"
    }
   },
   "outputs": [
    {
     "data": {
      "text/plain": [
       "\n",
       "Call:\n",
       "lm(formula = y ~ Xsmall)\n",
       "\n",
       "Residuals:\n",
       "    Min      1Q  Median      3Q     Max \n",
       "-4.8546 -0.4003 -0.0458  0.3573  4.3549 \n",
       "\n",
       "Coefficients:\n",
       "               Estimate Std. Error t value Pr(>|t|)    \n",
       "(Intercept)    1.827198   0.148795  12.280  < 2e-16 ***\n",
       "Xsmalleduc     0.069777   0.008997   7.756  1.8e-14 ***\n",
       "Xsmallmom_educ 0.213382   0.108671   1.964   0.0498 *  \n",
       "---\n",
       "Signif. codes:  0 ‘***’ 0.001 ‘**’ 0.01 ‘*’ 0.05 ‘.’ 0.1 ‘ ’ 1\n",
       "\n",
       "Residual standard error: 0.8392 on 1263 degrees of freedom\n",
       "Multiple R-squared:  0.0694,\tAdjusted R-squared:  0.06793 \n",
       "F-statistic: 47.09 on 2 and 1263 DF,  p-value: < 2.2e-16\n"
      ]
     },
     "metadata": {},
     "output_type": "display_data"
    }
   ],
   "source": [
    "summary(lm(y~Xsmall))"
   ]
  },
  {
   "cell_type": "markdown",
   "id": "366f3037",
   "metadata": {},
   "source": [
    "### With Penalty"
   ]
  },
  {
   "cell_type": "code",
   "execution_count": 38,
   "id": "88c2d621",
   "metadata": {
    "vscode": {
     "languageId": "r"
    }
   },
   "outputs": [],
   "source": [
    "lasso_pen <- glmnet(\n",
    "  x = Xsmall,\n",
    "  y = y,\n",
    "  alpha = 1, #lasso\n",
    "  lambda=.02\n",
    ")"
   ]
  },
  {
   "cell_type": "code",
   "execution_count": 39,
   "id": "8f8b98d5",
   "metadata": {
    "vscode": {
     "languageId": "r"
    }
   },
   "outputs": [
    {
     "data": {
      "text/plain": [
       "2 x 1 sparse Matrix of class \"dgCMatrix\"\n",
       "                 s0\n",
       "educ     0.06494371\n",
       "mom_educ 0.15498206"
      ]
     },
     "metadata": {},
     "output_type": "display_data"
    }
   ],
   "source": [
    "lasso_pen$beta"
   ]
  },
  {
   "cell_type": "markdown",
   "id": "b0cc8211-bbf9-4101-b53e-1438b42681b3",
   "metadata": {
    "vscode": {
     "languageId": "r"
    }
   },
   "source": [
    "#### Larger Penalty"
   ]
  },
  {
   "cell_type": "code",
   "execution_count": 40,
   "id": "4e2a40c9",
   "metadata": {
    "vscode": {
     "languageId": "r"
    }
   },
   "outputs": [],
   "source": [
    "lasso_pen_large <- glmnet(\n",
    "  x = Xsmall,\n",
    "  y = y,\n",
    "  alpha = 1, #lasso\n",
    "  lambda=1e70\n",
    ")"
   ]
  },
  {
   "cell_type": "code",
   "execution_count": 41,
   "id": "4146900b",
   "metadata": {
    "vscode": {
     "languageId": "r"
    }
   },
   "outputs": [
    {
     "data": {
      "text/plain": [
       "2 x 1 sparse Matrix of class \"dgCMatrix\"\n",
       "         s0\n",
       "educ      0\n",
       "mom_educ  ."
      ]
     },
     "metadata": {},
     "output_type": "display_data"
    }
   ],
   "source": [
    "lasso_pen_large$beta"
   ]
  },
  {
   "cell_type": "markdown",
   "id": "d6b6817f",
   "metadata": {},
   "source": [
    "#### Various Penalties"
   ]
  },
  {
   "cell_type": "code",
   "execution_count": 42,
   "id": "222589f8",
   "metadata": {
    "vscode": {
     "languageId": "r"
    }
   },
   "outputs": [],
   "source": [
    "lasso01 <- glmnet(\n",
    "  x = Xsmall,\n",
    "  y = y,\n",
    "  alpha = 1 #lasso\n",
    ")"
   ]
  },
  {
   "cell_type": "code",
   "execution_count": 43,
   "id": "25a0dd26",
   "metadata": {
    "vscode": {
     "languageId": "r"
    }
   },
   "outputs": [
    {
     "data": {
      "image/png": "[encoded data removed]",
      "text/plain": [
       "plot without title"
      ]
     },
     "metadata": {
      "image/png": {
       "height": 420,
       "width": 420
      }
     },
     "output_type": "display_data"
    }
   ],
   "source": [
    "plot(lasso01, xvar = \"lambda\")"
   ]
  },
  {
   "cell_type": "markdown",
   "id": "7ecd1689-22e5-43e9-a31f-67a9929b3d7a",
   "metadata": {
    "vscode": {
     "languageId": "r"
    }
   },
   "source": [
    "### Penalty selection"
   ]
  },
  {
   "cell_type": "code",
   "execution_count": 44,
   "id": "a0d96a62-28c2-4b4f-8b70-f3579cc8b341",
   "metadata": {},
   "outputs": [],
   "source": [
    "cv_lasso <- cv.glmnet(X, y, alpha = 1, lambda = lambda_seq, foldid = folds)"
   ]
  },
  {
   "cell_type": "code",
   "execution_count": 45,
   "id": "70d54bfa-f22c-45fb-8b8e-7bdbec5aed86",
   "metadata": {},
   "outputs": [
    {
     "data": {
      "image/png": "[encoded data removed]",
      "text/plain": [
       "plot without title"
      ]
     },
     "metadata": {
      "image/png": {
       "height": 420,
       "width": 420
      }
     },
     "output_type": "display_data"
    }
   ],
   "source": [
    "plot(cv_lasso)"
   ]
  },
  {
   "cell_type": "code",
   "execution_count": 46,
   "id": "95be7c67-1eef-4d1c-8bcd-59783e2dccf9",
   "metadata": {},
   "outputs": [
    {
     "data": {
      "text/html": [
       "0.0705480231071865"
      ],
      "text/latex": [
       "0.0705480231071865"
      ],
      "text/markdown": [
       "0.0705480231071865"
      ],
      "text/plain": [
       "[1] 0.07054802"
      ]
     },
     "metadata": {},
     "output_type": "display_data"
    }
   ],
   "source": [
    "cv_lasso$lambda.min"
   ]
  },
  {
   "cell_type": "markdown",
   "id": "c63bcb5b",
   "metadata": {},
   "source": [
    "## Elastic Net \n",
    "\n",
    "Now let's fit EN, which can be fit using `glmnet()`  and seeks to minimize:\n",
    "\n",
    "$$\n",
    "\\frac{1}{2n}\\sum_{i=1}^{n} \\left( y_i - \\beta_0 - \\sum_{j=1}^{p} \\beta_j x_{ij}    \\right) ^ 2 + \\lambda\\left[(1-\\alpha)\\frac{1}{2}\\|\\beta\\|_2^2 + \\alpha \\|\\beta\\|_1\\right],\n",
    "$$\n",
    "\n",
    "where \n",
    "- If $\\alpha=1$ Lasso \n",
    "- If $\\alpha=0$ Ridge \n"
   ]
  },
  {
   "cell_type": "markdown",
   "id": "6a0723ee-f0c1-40e3-b6c1-2a025907883d",
   "metadata": {},
   "source": [
    "- The elastic net simultaneously does automatic variable selection and continuous shrinkage, and it can select groups of correlated variables. \n",
    "\n",
    "- It is like a stretchable fishing net that retains ‘all the big fish’.\n",
    "\n",
    "- Simulation studies and real data examples show that the elastic net often outperforms the lasso in terms of prediction accuracy\n",
    "\n",
    "- The strict convexity part  of the penalty (ridge) solves the grouping instability problem \n",
    "\n",
    "- In **Elastic Net (EN)**, we have **two hyperparameters** to tune:\n",
    "    1. **$\\alpha$**: The mixing parameter between Lasso $(\\alpha = 1)$ and Ridge $(\\alpha = 0)$.\n",
    "    2. **$\\lambda$**: The penalty strength.\n",
    "       \n",
    "    - How to choose $(\\lambda,\\alpha)$? $\\rightarrow$ Bidimensional Crossvalidation\n"
   ]
  },
  {
   "cell_type": "markdown",
   "id": "b180d204-ec2d-4a83-b20c-fa5a1f871969",
   "metadata": {},
   "source": [
    "To perform **bidimensional cross-validation** we can follow these steps:\n",
    "\n",
    "1. **Choose a grid of $\\alpha$ values**  from 0 to 1).\n",
    "2. **For each $\\alpha$, perform cross-validation over $\\lambda$** using `cv.glmnet()`.\n",
    "3. **Select the best $\\alpha, \\lambda$ pair** based on cross-validation error.\n",
    "\n"
   ]
  },
  {
   "cell_type": "code",
   "execution_count": 49,
   "id": "299596ab-ea6c-4556-bac1-1320dc5fdc3f",
   "metadata": {},
   "outputs": [],
   "source": [
    "# Define alpha grid (e.g., from 0 to 1 in steps of 0.2) #just to be fast, in practice need a finer grid\n",
    "alpha_grid <- seq(0, 1, by = 0.2)\n",
    "\n",
    "\n",
    "# Initialize storage for results\n",
    "cv_results <- data.frame(alpha = numeric(), lambda = numeric(), mse = numeric())\n",
    "\n",
    "# Perform bidimensional cross-validation\n",
    "for (alpha_value in alpha_grid) {\n",
    "  # Perform cross-validation for each alpha\n",
    "  cv_fit <- cv.glmnet(X, y, alpha = alpha_value, lambda = lambda_seq, foldid = folds) #note we are using the same folds and lambda sequences as before\n",
    "  #how many specifications are we running?\n",
    "    \n",
    "  # Store best lambda and corresponding MSE\n",
    "  best_lambda <- cv_fit$lambda.min\n",
    "  best_mse <- min(cv_fit$cvm)  # Mean CV error\n",
    "  \n",
    "  # Append results\n",
    "  cv_results <- rbind(cv_results, data.frame(alpha = alpha_value, lambda = best_lambda, mse = best_mse))\n",
    "}\n"
   ]
  },
  {
   "cell_type": "code",
   "execution_count": 50,
   "id": "0d77053e-19d0-4957-9eec-72e63e929cb8",
   "metadata": {},
   "outputs": [
    {
     "data": {
      "text/html": [
       "<table class=\"dataframe\">\n",
       "<caption>A data.frame: 6 × 3</caption>\n",
       "<thead>\n",
       "\t<tr><th scope=col>alpha</th><th scope=col>lambda</th><th scope=col>mse</th></tr>\n",
       "\t<tr><th scope=col>&lt;dbl&gt;</th><th scope=col>&lt;dbl&gt;</th><th scope=col>&lt;dbl&gt;</th></tr>\n",
       "</thead>\n",
       "<tbody>\n",
       "\t<tr><td>0.0</td><td>7.05480231</td><td>0.7101801</td></tr>\n",
       "\t<tr><td>0.2</td><td>0.28480359</td><td>0.7073084</td></tr>\n",
       "\t<tr><td>0.4</td><td>0.18738174</td><td>0.7075226</td></tr>\n",
       "\t<tr><td>0.6</td><td>0.12328467</td><td>0.7074953</td></tr>\n",
       "\t<tr><td>0.8</td><td>0.09326033</td><td>0.7076487</td></tr>\n",
       "\t<tr><td>1.0</td><td>0.07054802</td><td>0.7079828</td></tr>\n",
       "</tbody>\n",
       "</table>\n"
      ],
      "text/latex": [
       "A data.frame: 6 × 3\n",
       "\\begin{tabular}{lll}\n",
       " alpha & lambda & mse\\\\\n",
       " <dbl> & <dbl> & <dbl>\\\\\n",
       "\\hline\n",
       "\t 0.0 & 7.05480231 & 0.7101801\\\\\n",
       "\t 0.2 & 0.28480359 & 0.7073084\\\\\n",
       "\t 0.4 & 0.18738174 & 0.7075226\\\\\n",
       "\t 0.6 & 0.12328467 & 0.7074953\\\\\n",
       "\t 0.8 & 0.09326033 & 0.7076487\\\\\n",
       "\t 1.0 & 0.07054802 & 0.7079828\\\\\n",
       "\\end{tabular}\n"
      ],
      "text/markdown": [
       "\n",
       "A data.frame: 6 × 3\n",
       "\n",
       "| alpha &lt;dbl&gt; | lambda &lt;dbl&gt; | mse &lt;dbl&gt; |\n",
       "|---|---|---|\n",
       "| 0.0 | 7.05480231 | 0.7101801 |\n",
       "| 0.2 | 0.28480359 | 0.7073084 |\n",
       "| 0.4 | 0.18738174 | 0.7075226 |\n",
       "| 0.6 | 0.12328467 | 0.7074953 |\n",
       "| 0.8 | 0.09326033 | 0.7076487 |\n",
       "| 1.0 | 0.07054802 | 0.7079828 |\n",
       "\n"
      ],
      "text/plain": [
       "  alpha lambda     mse      \n",
       "1 0.0   7.05480231 0.7101801\n",
       "2 0.2   0.28480359 0.7073084\n",
       "3 0.4   0.18738174 0.7075226\n",
       "4 0.6   0.12328467 0.7074953\n",
       "5 0.8   0.09326033 0.7076487\n",
       "6 1.0   0.07054802 0.7079828"
      ]
     },
     "metadata": {},
     "output_type": "display_data"
    }
   ],
   "source": [
    "cv_results"
   ]
  },
  {
   "cell_type": "code",
   "execution_count": 51,
   "id": "2fcc2061-4f9f-4d80-b08b-6b5f51f4a2c2",
   "metadata": {},
   "outputs": [
    {
     "name": "stdout",
     "output_type": "stream",
     "text": [
      "[1] \"Best alpha: 0.2\"\n",
      "[1] \"Best lambda: 0.28480358684358\"\n"
     ]
    }
   ],
   "source": [
    "# Find the best alpha-lambda combination\n",
    "best_model <- cv_results[which.min(cv_results$mse), ]\n",
    "\n",
    "\n",
    "# Print best alpha and lambda\n",
    "print(paste(\"Best alpha:\", best_model$alpha))\n",
    "print(paste(\"Best lambda:\", best_model$lambda))\n"
   ]
  },
  {
   "cell_type": "code",
   "execution_count": 53,
   "id": "8eff7df6-4939-442c-9b56-30a8d489e5f3",
   "metadata": {},
   "outputs": [],
   "source": [
    "# Train the final model with the best alpha and lambda\n",
    "final_model <- glmnet(X, y, alpha = best_model$alpha, lambda = best_model$lambda)"
   ]
  },
  {
   "cell_type": "code",
   "execution_count": 54,
   "id": "8333f2d7-78ab-4c58-8b1c-f41828acfe1c",
   "metadata": {},
   "outputs": [
    {
     "data": {
      "text/plain": [
       "994 x 1 sparse Matrix of class \"dgCMatrix\"\n",
       "                                      s0\n",
       "(Intercept)                 2.709036e+00\n",
       "educ                        2.649066e-02\n",
       "black                      -9.018004e-02\n",
       "hispanic                    .           \n",
       "other                       .           \n",
       "exp                        -1.954239e-03\n",
       "afqt                        2.599852e-02\n",
       "mom_educ                    .           \n",
       "dad_educ                    .           \n",
       "yhea_100_1997               .           \n",
       "yhea_2000_1997              .           \n",
       "yhea_2100_1997              .           \n",
       "yhea_2200_1997              .           \n",
       "ysaq_284_1997               1.726675e-03\n",
       "ysaq_285_1997               .           \n",
       "ysaq_291a_1997              .           \n",
       "ysaq_292_1997               .           \n",
       "ysaq_293_1997               .           \n",
       "ysaq_294_1997               .           \n",
       "ysaq_294a_1997              .           \n",
       "ysaq_295_1997               .           \n",
       "ysaq_296_1997               .           \n",
       "ysaq_297_1997               .           \n",
       "ysaq_354_1997               .           \n",
       "ysaq_355_1997               .           \n",
       "ysaq_356_1997               .           \n",
       "ysaq_357_1997               .           \n",
       "ysaq_373_1997               .           \n",
       "ysaq_374_1997               .           \n",
       "yinc_14700_1997             .           \n",
       "yinc_14800_1997             .           \n",
       "youth_bothbio_01_1997       1.251010e-02\n",
       "youth_nonr1dead_01_1997     .           \n",
       "youth_nonr1inhh_01_1997     .           \n",
       "youth_nonr1sex_01_1997      .           \n",
       "youth_nonr2inhh_01_1997     .           \n",
       "youth_nonr2sex_01_1997      .           \n",
       "youth_parent_01_1997        .           \n",
       "youth_parentguar_01_1997    .           \n",
       "youth_parentsex_01_1997     .           \n",
       "p4_001_1997                -2.505917e-02\n",
       "p4_002_1997                 .           \n",
       "p4_003_1997                 .           \n",
       "p4_028_1997                 .           \n",
       "p4_029_1997                 .           \n",
       "p5_101_1997                 .           \n",
       "p5_102_1997                 .           \n",
       "p6_002_1997                 .           \n",
       "p6_003_1997                 .           \n",
       "p6_004_1997                 .           \n",
       "p6_005_1997                 .           \n",
       "pc8_090_1997                .           \n",
       "pc8_092_1997                .           \n",
       "pc9_001_1997                .           \n",
       "pc9_002_1997                .           \n",
       "pc9_003_1997                .           \n",
       "pc9_004_1997                .           \n",
       "pc9_014_1997                .           \n",
       "pc9_023_1997                .           \n",
       "pc9_032_1997                .           \n",
       "pc12_025_1997               .           \n",
       "pc12_026_1997               .           \n",
       "pc12_027_1997               .           \n",
       "pc12_028_1997               .           \n",
       "paryouth_nonr1dead_1997     .           \n",
       "paryouth_nonr1inhh_1997     .           \n",
       "paryouth_nonr1sex_1997      .           \n",
       "paryouth_nonr2dead_1997     .           \n",
       "paryouth_nonr2inhh_1997     .           \n",
       "paryouth_nonr2sex_1997      .           \n",
       "paryouth_parentguar_1997    .           \n",
       "paryouth_parentsex_1997     .           \n",
       "cv_bio_mom_age_child1_1997  .           \n",
       "cv_bio_mom_age_youth_1997   .           \n",
       "cv_citizenship_1997         .           \n",
       "cv_yth_rel_hh_age_12_1997   .           \n",
       "cv_yth_rel_hh_age_2_1997    .           \n",
       "cv_yth_rel_hh_age_6_1997    .           \n",
       "cv_yth_rel_hh_current_1997  .           \n",
       "cv_hh_under_18_1997         .           \n",
       "cv_hh_under_6_1997          .           \n",
       "fp_ymfrelat_1997            .           \n",
       "fp_yfmrelat_1997            .           \n",
       "fp_yhroutin_1997            .           \n",
       "fp_ymmonit_1997             .           \n",
       "fp_yfmonit_1997             .           \n",
       "fp_ynrmmonit_1997           .           \n",
       "fp_ynrfmonit_1997           .           \n",
       "fp_yhlimits_1997            .           \n",
       "fp_phlimits_1997            .           \n",
       "fp_yhbroked_1997            .           \n",
       "fp_phbroked_1997            .           \n",
       "fp_ympstyl_1997             .           \n",
       "fp_yfpstyl_1997             .           \n",
       "fp_ynrmpstyl_1997           .           \n",
       "fp_ynrfpstyl_1997           .           \n",
       "fp_pprelig_1997             .           \n",
       "fp_adhriski_1997            .           \n",
       "fp_adpenvri_1997           -4.454828e-05\n",
       "fp_adenrchi_1997            .           \n",
       "fp_yyfbehs_1997             .           \n",
       "fp_yymbehs_1997             .           \n",
       "fp_pyfbehs_1997             .           \n",
       "fp_pymbehs_1997             .           \n",
       "fp_yycrimi_1997             .           \n",
       "fp_yysubsi_1997             .           \n",
       "cvc_govnt_prg_yr_80_xrnd    .           \n",
       "cvc_govnt_prg_yr_81_xrnd    .           \n",
       "cvc_govnt_prg_yr_82_xrnd    .           \n",
       "cvc_govnt_prg_yr_83_xrnd    .           \n",
       "cvc_govnt_prg_yr_84_xrnd    .           \n",
       "cvc_govnt_prg_yr_85_xrnd    .           \n",
       "cvc_govnt_prg_yr_86_xrnd    .           \n",
       "cvc_govnt_prg_yr_87_xrnd    .           \n",
       "cvc_govnt_prg_yr_88_xrnd    .           \n",
       "cvc_govnt_prg_yr_89_xrnd    .           \n",
       "cvc_govnt_prg_yr_90_xrnd    .           \n",
       "cvc_govnt_prg_yr_91_xrnd    .           \n",
       "cvc_govnt_prg_yr_92_xrnd    .           \n",
       "cvc_govnt_prg_yr_93_xrnd    .           \n",
       "cvc_govnt_prg_yr_94_xrnd    .           \n",
       "cvc_govnt_prg_yr_95_xrnd    .           \n",
       "cvc_govnt_prg_yr_96_xrnd   -6.148023e-03\n",
       "cvc_govnt_prg_yr_97_xrnd    .           \n",
       "_Icv_census_1               .           \n",
       "_Icv_census_2               .           \n",
       "_Icv_census_4               .           \n",
       "mom_educ2                   .           \n",
       "mom_educHS                  .           \n",
       "mom_educCOLL                3.729960e-03\n",
       "dad_educ2                   .           \n",
       "dad_educHS                  .           \n",
       "dad_educCOLL                .           \n",
       "_BGyyhea_10_2               .           \n",
       "_BGyyhea_10_3              -5.610945e-03\n",
       "_BGyyhea_10_4               .           \n",
       "_BGyyhea_10_5               .           \n",
       "_BGyyhea_20_1               .           \n",
       "_BGyyhea_20_2               .           \n",
       "_BGyyhea_20_3               .           \n",
       "_BGyyhea_20_4               .           \n",
       "_BGyyhea_20_6               .           \n",
       "_BGyyhea_20_7               .           \n",
       "_BGyyhea_20_8               .           \n",
       "_BGyyhea_21_1               .           \n",
       "_BGyyhea_21_2               .           \n",
       "_BGyyhea_21_4               .           \n",
       "_BGyyhea_21_5               .           \n",
       "_BGyyhea_21_6               .           \n",
       "_BGyyhea_21_7               .           \n",
       "_BGyyhea_21_8               .           \n",
       "_BGyyhea_21_9               .           \n",
       "_BGyyhea_21_10              .           \n",
       "_BGyyhea_21_11              .           \n",
       "_BGyyhea_21_12              .           \n",
       "_BGyyhea_21_13              .           \n",
       "_BGyyhea_21_14              .           \n",
       "_BGyyhea_22_1               .           \n",
       "_BGyyhea_22_2              -9.907656e-02\n",
       "_BGyyhea_22_3               .           \n",
       "_BGyyhea_22_4               .           \n",
       "_BGyyhea_22_5               .           \n",
       "_BGyyhea_22_6               .           \n",
       "_BGyyhea_22_7               .           \n",
       "_BGyyhea_22_8               .           \n",
       "_BGyyhea_22_9               .           \n",
       "_BGyyhea_22_10              .           \n",
       "_BGyyhea_22_11              .           \n",
       "_BGyyhea_22_12              .           \n",
       "_BGyyhea_22_13              .           \n",
       "_BGyyhea_22_14              .           \n",
       "_BGyyhea_22_15              .           \n",
       "_BGyyhea_22_16              .           \n",
       "_BGyyhea_22_17              .           \n",
       "_BGyyhea_22_18              .           \n",
       "_BGyyhea_22_19              .           \n",
       "_BGyyhea_22_20              .           \n",
       "_BGyyhea_22_21              .           \n",
       "_BGyyhea_22_22              .           \n",
       "_BGyyhea_22_23              .           \n",
       "_BGyyhea_22_24              .           \n",
       "_BGyyhea_22_25              .           \n",
       "_BGyyhea_22_26              .           \n",
       "_BGyyhea_22_27              .           \n",
       "_BGyyhea_22_28              .           \n",
       "_BGyyhea_22_29              .           \n",
       "_BGyyhea_22_30              .           \n",
       "_BGyyhea_22_31              .           \n",
       "_BGyyhea_22_32              .           \n",
       "_BGyyhea_22_33              .           \n",
       "_BGyyhea_22_34              .           \n",
       "_BGyyhea_22_35              .           \n",
       "_BGyyhea_22_36              .           \n",
       "_BGyyhea_22_37              .           \n",
       "_BGyyhea_22_38              .           \n",
       "_BGyyhea_22_39              .           \n",
       "_BGyyhea_22_40              .           \n",
       "_BGyyhea_22_41              .           \n",
       "_BGyyhea_22_42              .           \n",
       "_BGyyhea_22_43              .           \n",
       "_BGyyhea_22_44              .           \n",
       "_BGyyhea_22_45              .           \n",
       "_BGyyhea_22_46              .           \n",
       "_BGyyhea_22_47              .           \n",
       "_BGyyhea_22_48              .           \n",
       "_BGyyhea_22_49              2.027040e-01\n",
       "_BGyyhea_22_50              .           \n",
       "_BGyyhea_22_51              .           \n",
       "_BGyyhea_22_52              .           \n",
       "_BGyyhea_22_53              .           \n",
       "_BGyyhea_22_54              .           \n",
       "_BGyyhea_22_55              .           \n",
       "_BGyyhea_22_56              .           \n",
       "_BGyyhea_22_57              .           \n",
       "_BGyyhea_22_58              .           \n",
       "_BGyyhea_22_59              .           \n",
       "_BGyyhea_22_60              .           \n",
       "_BGyyhea_22_61              .           \n",
       "_BGyyhea_22_62              .           \n",
       "_BGyyhea_22_63              .           \n",
       "_BGyyhea_22_64              .           \n",
       "_BGyyhea_22_66              .           \n",
       "_BGyyhea_22_67              .           \n",
       "_BGyyhea_22_68              .           \n",
       "_BGyyhea_22_69              .           \n",
       "_BGyyhea_22_70              .           \n",
       "_BGyyhea_22_71              .           \n",
       "_BGyyhea_22_72              .           \n",
       "_BGyyhea_22_73              .           \n",
       "_BGyyhea_22_74              .           \n",
       "_BGyyhea_22_75              .           \n",
       "_BGyyhea_22_76              .           \n",
       "_BGyyhea_22_77              .           \n",
       "_BGyyhea_22_78              .           \n",
       "_BGyyhea_22_79              .           \n",
       "_BGyyhea_22_80              .           \n",
       "_BGyyhea_22_81              .           \n",
       "_BGyyhea_22_82              .           \n",
       "_BGyyhea_22_83              .           \n",
       "_BGyyhea_22_84              .           \n",
       "_BGyyhea_22_85              .           \n",
       "_BGyyhea_22_86              .           \n",
       "_BGyyhea_22_87              .           \n",
       "_BGyyhea_22_88              .           \n",
       "_BGyyhea_22_89              .           \n",
       "_BGyyhea_22_90              .           \n",
       "_BGyyhea_22_91              .           \n",
       "_BGyyhea_22_92              .           \n",
       "_BGyyhea_22_93              .           \n",
       "_BGyyhea_22_94              .           \n",
       "_BGyyhea_22_95              .           \n",
       "_BGyyhea_22_96              .           \n",
       "_BGyyhea_22_97              .           \n",
       "_BGyyhea_22_98              .           \n",
       "_BGyyhea_22_99              5.627239e-02\n",
       "_BGyyhea_22_100             .           \n",
       "_BGyyhea_22_101            -2.913105e-02\n",
       "_BGyyhea_22_102             .           \n",
       "_BGyyhea_22_103             .           \n",
       "_BGyyhea_22_104             .           \n",
       "_BGyyhea_22_105             .           \n",
       "_BGyyhea_22_106             .           \n",
       "_BGyyhea_22_107             .           \n",
       "_BGyyhea_22_108             .           \n",
       "_BGyyhea_22_109             .           \n",
       "_BGyyhea_22_110             .           \n",
       "_BGyyhea_22_111             .           \n",
       "_BGyyhea_22_112             .           \n",
       "_BGyyhea_22_113             .           \n",
       "_BGyyhea_22_114             .           \n",
       "_BGyyhea_22_115             .           \n",
       "_BGyyhea_22_116             .           \n",
       "_BGyyhea_22_117             .           \n",
       "_BGyyhea_22_118             .           \n",
       "_BGyyhea_22_119             .           \n",
       "_BGyyhea_22_120             .           \n",
       "_BGyyhea_22_121             .           \n",
       "_BGyyhea_22_122             .           \n",
       "_BGyyhea_22_123             .           \n",
       "_BGyyhea_22_124             .           \n",
       "_BGyyhea_22_125             .           \n",
       "_BGyyhea_22_126             .           \n",
       "_BGyyhea_22_127             .           \n",
       "_BGyyhea_22_128             .           \n",
       "_BGyyhea_22_129             .           \n",
       "_BGyyhea_22_130             .           \n",
       "_BGyyhea_22_131             .           \n",
       "_BGyyhea_22_132             .           \n",
       "_BGyyhea_22_133             .           \n",
       "_BGyyhea_22_134             .           \n",
       "_BGyyhea_22_135             .           \n",
       "_BGyyhea_22_136             .           \n",
       "_BGyyhea_22_137             .           \n",
       "_BGyyhea_22_138             .           \n",
       "_BGyyhea_22_139             .           \n",
       "_BGyyhea_22_140             .           \n",
       "_BGyyhea_22_141             .           \n",
       "_BGyyhea_22_142             .           \n",
       "_BGyyhea_22_143             .           \n",
       "_BGyyhea_22_144             .           \n",
       "_BGyyhea_22_145             .           \n",
       "_BGyyhea_22_146             .           \n",
       "_BGyyhea_22_147             .           \n",
       "_BGyyhea_22_148             .           \n",
       "_BGyyhea_22_149             .           \n",
       "_BGyyhea_22_150             .           \n",
       "_BGyyhea_22_151             .           \n",
       "_BGyyhea_22_152             .           \n",
       "_BGyyhea_22_153             .           \n",
       "_BGyyhea_22_154             .           \n",
       "_BGyyhea_22_155             .           \n",
       "_BGyyhea_22_156             .           \n",
       "_BGypc8_090_1               .           \n",
       "_BGypc8_090_2               .           \n",
       "_BGypc8_090_4               .           \n",
       "_BGypc8_092_1               .           \n",
       "_BGypc8_092_2               .           \n",
       "_BGypc8_092_4               .           \n",
       "_BGypc9_001_1               .           \n",
       "_BGypc9_001_3              -4.968603e-02\n",
       "_BGypc9_001_4               .           \n",
       "_BGypc9_001_5               .           \n",
       "_BGypc9_001_6               .           \n",
       "_BGypc9_002_1               .           \n",
       "_BGypc9_002_2               .           \n",
       "_BGypc9_002_4               .           \n",
       "_BGypc9_003_1               .           \n",
       "_BGypc9_003_3               .           \n",
       "_BGypc9_004_1               .           \n",
       "_BGypc9_004_3               .           \n",
       "_BGypc9_014_1               .           \n",
       "_BGypc9_014_3               .           \n",
       "_BGypc9_023_1               .           \n",
       "_BGypc9_023_3               .           \n",
       "_BGypc9_032_1               .           \n",
       "_BGypc9_032_3               .           \n",
       "_BGypc12_02_2               .           \n",
       "_BGypc12_02_3               .           \n",
       "_BGypc12_02_4               .           \n",
       "_BGypc12_02_5               .           \n",
       "_BGypc12_02a2               .           \n",
       "_BGypc12_02a3               .           \n",
       "_BGypc12_02a4               .           \n",
       "_BGypc12_02a5               .           \n",
       "_BGypc12_02b2               .           \n",
       "_BGypc12_02b3               .           \n",
       "_BGypc12_02b4              -6.313926e-02\n",
       "_BGypc12_02b5               .           \n",
       "_BGypc12_02c2               .           \n",
       "_BGypc12_02c3               .           \n",
       "_BGypc12_02c4               .           \n",
       "_BGypc12_02c5               .           \n",
       "_BGyysaq_28_1               .           \n",
       "_BGyysaq_28_2               .           \n",
       "_BGyysaq_28_3               .           \n",
       "_BGyysaq_28_5               .           \n",
       "_BGyysaq_28a1               .           \n",
       "_BGyysaq_28a2               .           \n",
       "_BGyysaq_28a3               .           \n",
       "_BGyysaq_28a4               .           \n",
       "_BGyysaq_28a5               .           \n",
       "_BGyysaq_28a6               .           \n",
       "_BGyysaq_28a7               .           \n",
       "_BGyysaq_28a8               .           \n",
       "_BGyysaq_28a9               .           \n",
       "_BGyysaq_28a10              .           \n",
       "_BGyysaq_28a12              .           \n",
       "_BGyysaq_28a13              .           \n",
       "_BGyysaq_28a14              .           \n",
       "_BGyysaq_29_1               .           \n",
       "_BGyysaq_29_2               .           \n",
       "_BGyysaq_29a2               .           \n",
       "_BGyysaq_29a3               .           \n",
       "_BGyysaq_29a4               .           \n",
       "_BGyysaq_29a5               .           \n",
       "_BGyysaq_29a6               .           \n",
       "_BGyysaq_29a7               .           \n",
       "_BGyysaq_29a8               2.554609e-02\n",
       "_BGyysaq_29a9               .           \n",
       "_BGyysaq_29a10              .           \n",
       "_BGyysaq_29a11              .           \n",
       "_BGyysaq_29b2               .           \n",
       "_BGyysaq_29b3               .           \n",
       "_BGyysaq_29b4               .           \n",
       "_BGyysaq_29b5               .           \n",
       "_BGyysaq_29b6               .           \n",
       "_BGyysaq_29b7               8.713356e-02\n",
       "_BGyysaq_29b8               .           \n",
       "_BGyysaq_29c2               .           \n",
       "_BGyysaq_29c3               .           \n",
       "_BGyysaq_29c4               .           \n",
       "_BGyysaq_29c5               .           \n",
       "_BGyysaq_29c6               .           \n",
       "_BGyysaq_29c7               .           \n",
       "_BGyysaq_29c8               .           \n",
       "_BGyysaq_29c9               .           \n",
       "_BGyysaq_29c10              .           \n",
       "_BGyysaq_29c11              .           \n",
       "_BGyysaq_29c12              .           \n",
       "_BGyysaq_29c13              .           \n",
       "_BGyysaq_29c14              .           \n",
       "_BGyysaq_29c15              .           \n",
       "_BGyysaq_29c16              .           \n",
       "_BGyysaq_29c17              .           \n",
       "_BGyysaq_29c18              .           \n",
       "_BGyysaq_29c19              .           \n",
       "_BGyysaq_29c20              .           \n",
       "_BGyysaq_29c21              .           \n",
       "_BGyysaq_29c22              .           \n",
       "_BGyysaq_29c23              .           \n",
       "_BGyysaq_29c24              .           \n",
       "_BGyysaq_29c25              .           \n",
       "_BGyysaq_29c26              .           \n",
       "_BGyysaq_29c27              .           \n",
       "_BGyysaq_29c28              .           \n",
       "_BGyysaq_29c29              .           \n",
       "_BGyysaq_29c30              .           \n",
       "_BGyysaq_29c31              .           \n",
       "_BGyysaq_29c32              .           \n",
       "_BGyysaq_29c33              .           \n",
       "_BGyysaq_29c34              .           \n",
       "_BGyysaq_29c35              .           \n",
       "_BGyysaq_29c36              .           \n",
       "_BGyysaq_29c37              .           \n",
       "_BGyysaq_29c38              .           \n",
       "_BGyysaq_29c39              .           \n",
       "_BGyysaq_35_1               .           \n",
       "_BGyysaq_35_2               .           \n",
       "_BGyysaq_35_3               .           \n",
       "_BGyysaq_35_4               .           \n",
       "_BGyysaq_35_5               .           \n",
       "_BGyysaq_35_7               .           \n",
       "_BGyysaq_35a2               .           \n",
       "_BGyysaq_35a3               .           \n",
       "_BGyysaq_35a4               .           \n",
       "_BGyysaq_35a5               .           \n",
       "_BGyysaq_35a6               .           \n",
       "_BGyysaq_35b2               .           \n",
       "_BGyysaq_35b3               .           \n",
       "_BGyysaq_35b4               .           \n",
       "_BGyysaq_35b5               .           \n",
       "_BGyysaq_35b6               .           \n",
       "_BGyysaq_35b7               .           \n",
       "_BGyysaq_35c2               .           \n",
       "_BGyysaq_35c3               .           \n",
       "_BGyysaq_35c4               .           \n",
       "_BGyysaq_35c5               .           \n",
       "_BGyysaq_35c6               .           \n",
       "_BGyysaq_37_1               .           \n",
       "_BGyysaq_37_2               .           \n",
       "_BGyysaq_37_3               .           \n",
       "_BGyysaq_37_4               .           \n",
       "_BGyysaq_37_6               .           \n",
       "_BGyysaq_37_7               .           \n",
       "_BGyysaq_37a1               .           \n",
       "_BGyysaq_37a3               .           \n",
       "_BGyysaq_37a4               .           \n",
       "_BGyysaq_37a5               .           \n",
       "_BGyfp_yymb_2               .           \n",
       "_BGyfp_yymb_3               .           \n",
       "_BGyfp_yymb_4               .           \n",
       "_BGyfp_yymb_5               .           \n",
       "_BGyfp_yymb_6               .           \n",
       "_BGyfp_yymb_7              -3.309645e-02\n",
       "_BGyfp_yymb_8               .           \n",
       "_BGyfp_yymb_9               .           \n",
       "_BGyfp_yymb_10              .           \n",
       "_BGyfp_yycr_1               .           \n",
       "_BGyfp_yycr_3               .           \n",
       "_BGyfp_yycr_4               .           \n",
       "_BGyfp_yycr_5               .           \n",
       "_BGyfp_yycr_6               .           \n",
       "_BGyfp_yycr_7               .           \n",
       "_BGyfp_yycr_8               .           \n",
       "_BGyfp_yycr_9               .           \n",
       "_BGyfp_yycr_10              .           \n",
       "_BGyfp_yycr_11              .           \n",
       "_BGyfp_yycr_12              .           \n",
       "_BGyfp_yysu_1               .           \n",
       "_BGyfp_yysu_3               .           \n",
       "_BGyfp_yysu_4               .           \n",
       "_BGyfp_yysu_5               .           \n",
       "_BGyfp_yhro_2              -1.505479e-02\n",
       "_BGyfp_yhro_3               .           \n",
       "_BGyfp_yhro_4               .           \n",
       "_BGyfp_yhro_5               .           \n",
       "_BGyfp_yhro_6               .           \n",
       "_BGyfp_yhro_7               .           \n",
       "_BGyfp_yhro_8               .           \n",
       "_BGyfp_yhro_9               .           \n",
       "_BGyfp_yhro_10              .           \n",
       "_BGyfp_yhro_11              .           \n",
       "_BGyfp_yhro_12              .           \n",
       "_BGyfp_yhro_13              .           \n",
       "_BGyfp_yhro_14              .           \n",
       "_BGyfp_yhro_15              .           \n",
       "_BGyfp_yhro_16              .           \n",
       "_BGyfp_yhro_17              .           \n",
       "_BGyfp_yhro_18              .           \n",
       "_BGyfp_yhro_19              .           \n",
       "_BGyfp_yhro_20              .           \n",
       "_BGyfp_yhro_21             -7.571141e-02\n",
       "_BGyfp_yhro_22              .           \n",
       "_BGyfp_yhro_23              .           \n",
       "_BGyfp_yhro_24              .           \n",
       "_BGyfp_yhro_25              .           \n",
       "_BGyfp_yhro_26              .           \n",
       "_BGyfp_yhro_27              .           \n",
       "_BGyfp_yhro_28              .           \n",
       "_BGyfp_yhro_29              .           \n",
       "_BGyfp_yhro_30              .           \n",
       "_BGyfp_yhli_2               .           \n",
       "_BGyfp_yhli_3               .           \n",
       "_BGyfp_yhli_4              -4.373160e-02\n",
       "_BGyfp_yhli_5               .           \n",
       "_BGyfp_yhli_6               .           \n",
       "_BGyfp_yhli_7               .           \n",
       "_BGyfp_yhli_8               .           \n",
       "_BGyfp_yhbr_2               .           \n",
       "_BGyfp_yhbr_3               .           \n",
       "_BGyfp_pyfb_2               .           \n",
       "_BGyfp_pyfb_3               .           \n",
       "_BGyfp_pymb_2               .           \n",
       "_BGyfp_pymb_3               .           \n",
       "_BGyfp_pymb_4               .           \n",
       "_BGyfp_pymb_5               .           \n",
       "_BGyfp_pymb_6               .           \n",
       "_BGyfp_pymb_7               .           \n",
       "_BGyfp_pymb_8               .           \n",
       "_BGyfp_pymb_9               .           \n",
       "_BGyfp_pymb_10              .           \n",
       "_BGyfp_phli_2               .           \n",
       "_BGyfp_phli_3               .           \n",
       "_BGyfp_phli_4               .           \n",
       "_BGyfp_phli_5               .           \n",
       "_BGyfp_phli_6               .           \n",
       "_BGyfp_phli_7               .           \n",
       "_BGyfp_phli_8               .           \n",
       "_BGyfp_phbr_2               .           \n",
       "_BGyfp_phbr_3               .           \n",
       "_BGyyinc_14_2               .           \n",
       "_BGyyinc_14_3               .           \n",
       "_BGyyinc_14_4               .           \n",
       "_BGyyinc_14_5               .           \n",
       "_BGyyinc_14a2               .           \n",
       "_BGyyinc_14a3               .           \n",
       "_BGyp6_002__1               .           \n",
       "_BGyp6_002__2               .           \n",
       "_BGyp6_002__3               .           \n",
       "_BGyp6_002__4               .           \n",
       "_BGyp6_002__6               .           \n",
       "_BGyp6_003__1               .           \n",
       "_BGyp6_003__2               .           \n",
       "_BGyp6_003__3               .           \n",
       "_BGyp6_003__5               .           \n",
       "_BGyp6_003__6               .           \n",
       "_BGyp6_004__1               .           \n",
       "_BGyp6_004__2               .           \n",
       "_BGyp6_004__3               .           \n",
       "_BGyp6_004__4               .           \n",
       "_BGyp6_004__6               .           \n",
       "_BGyp6_005__1               .           \n",
       "_BGyp6_005__2               .           \n",
       "_BGyp6_005__3               .           \n",
       "_BGyp6_005__5               .           \n",
       "_BGyp6_005__6               .           \n",
       "_BGpyouth_b_0              -1.260979e-02\n",
       "_BGpyouth_n_1               .           \n",
       "_BGpyouth_n_3               .           \n",
       "_BGpyouth_na0               .           \n",
       "_BGpyouth_nb2               .           \n",
       "_BGpyouth_nc1               .           \n",
       "_BGpyouth_nd1               .           \n",
       "_BGpyouth_nd2               .           \n",
       "_BGpyouth_p_2               .           \n",
       "_BGpyouth_p_3               .           \n",
       "_BGpyouth_p_4               .           \n",
       "_BGpyouth_p_5               .           \n",
       "_BGpyouth_p_6               .           \n",
       "_BGpyouth_p_7               .           \n",
       "_BGpyouth_p_17              .           \n",
       "_BGpyouth_p_18              .           \n",
       "_BGpyouth_pa1               .           \n",
       "_BGpparyout_1               .           \n",
       "_BGpparyout_2               .           \n",
       "_BGpparyout_4               .           \n",
       "_BGpparyouta1               .           \n",
       "_BGpparyouta2               .           \n",
       "_BGpparyoutb1               .           \n",
       "_BGpparyoutb3               .           \n",
       "_BGpparyoutc1               .           \n",
       "_BGpparyoutc2               .           \n",
       "_BGpparyoutc4              -7.795109e-01\n",
       "_BGpparyoutd1               .           \n",
       "_BGpparyoutd3               .           \n",
       "_BGpparyoute1               .           \n",
       "_BGpparyoute3               .           \n",
       "_BGpparyoute4               .           \n",
       "_BGpparyoutf1               .           \n",
       "_BGpparyoutg1               .           \n",
       "_BGpparyoutg2               .           \n",
       "_BGpcv_yth__1               .           \n",
       "_BGpcv_yth__2               .           \n",
       "_BGpcv_yth__3               .           \n",
       "_BGpcv_yth__5               .           \n",
       "_BGpcv_yth__6               .           \n",
       "_BGpcv_yth__7               .           \n",
       "_BGpcv_yth__8               .           \n",
       "_BGpcv_yth__9               .           \n",
       "_BGpcv_yth__10              .           \n",
       "_BGpcv_yth__11              .           \n",
       "_BGpcv_yth__12              .           \n",
       "_BGpcv_yth__13              .           \n",
       "_BGpcv_yth_a1               .           \n",
       "_BGpcv_yth_a2               .           \n",
       "_BGpcv_yth_a3               .           \n",
       "_BGpcv_yth_a5               .           \n",
       "_BGpcv_yth_a6               .           \n",
       "_BGpcv_yth_a7              -1.281274e-02\n",
       "_BGpcv_yth_a8               .           \n",
       "_BGpcv_yth_a9               .           \n",
       "_BGpcv_yth_a10              .           \n",
       "_BGpcv_yth_a11              .           \n",
       "_BGpcv_yth_b1               .           \n",
       "_BGpcv_yth_b2               .           \n",
       "_BGpcv_yth_b3               .           \n",
       "_BGpcv_yth_b5               .           \n",
       "_BGpcv_yth_b6               .           \n",
       "_BGpcv_yth_b7               .           \n",
       "_BGpcv_yth_b8               .           \n",
       "_BGpcv_yth_b9               .           \n",
       "_BGpcv_yth_b10              .           \n",
       "_BGpcv_yth_b11              .           \n",
       "_BGpcv_yth_b12              .           \n",
       "_BGpcv_yth_c1               .           \n",
       "_BGpcv_yth_c3               .           \n",
       "_BGpcv_yth_c4               .           \n",
       "_BGpcv_yth_c5               .           \n",
       "_BGpcv_yth_c6               .           \n",
       "_BGpcv_yth_c7               .           \n",
       "_BGpcv_yth_c8               .           \n",
       "_BGpcv_yth_c9               .           \n",
       "_BGpcv_yth_c10              .           \n",
       "_BGpcv_hh_u_1               .           \n",
       "_BGpcv_hh_u_3               .           \n",
       "_BGpcv_hh_u_4               .           \n",
       "_BGpcv_hh_u_5               .           \n",
       "_BGpcv_hh_u_6               .           \n",
       "_BGpcv_hh_u_7               .           \n",
       "_BGpcv_hh_u_8               .           \n",
       "_BGpcv_hh_ua1               .           \n",
       "_BGpcv_hh_ua2               .           \n",
       "_BGpcv_hh_ua3               .           \n",
       "_BGpcv_bio__1               .           \n",
       "_BGpcv_bio__2               .           \n",
       "_BGpcv_bio__3               1.490874e+00\n",
       "_BGpcv_bio__4               .           \n",
       "_BGpcv_bio__5               .           \n",
       "_BGpcv_bio__6               .           \n",
       "_BGpcv_bio__7               .           \n",
       "_BGpcv_bio__8               .           \n",
       "_BGpcv_bio__9               .           \n",
       "_BGpcv_bio__10              .           \n",
       "_BGpcv_bio__11              .           \n",
       "_BGpcv_bio__12              .           \n",
       "_BGpcv_bio__13              .           \n",
       "_BGpcv_bio__15              .           \n",
       "_BGpcv_bio__16              .           \n",
       "_BGpcv_bio__17              .           \n",
       "_BGpcv_bio__18              .           \n",
       "_BGpcv_bio__19              .           \n",
       "_BGpcv_bio__20              .           \n",
       "_BGpcv_bio__21              .           \n",
       "_BGpcv_bio__22              .           \n",
       "_BGpcv_bio__23              .           \n",
       "_BGpcv_bio__24              .           \n",
       "_BGpcv_bio__25              .           \n",
       "_BGpcv_bio__26              .           \n",
       "_BGpcv_bio__27              .           \n",
       "_BGpcv_bio__28              .           \n",
       "_BGpcv_bio__29              .           \n",
       "_BGpcv_bio__30             -1.210111e+00\n",
       "_BGpcv_bio__31              .           \n",
       "_BGpcv_bio__32              .           \n",
       "_BGpcv_bio__33              .           \n",
       "_BGpcv_bio_a1               .           \n",
       "_BGpcv_bio_a2               .           \n",
       "_BGpcv_bio_a3               .           \n",
       "_BGpcv_bio_a4               3.373730e-01\n",
       "_BGpcv_bio_a5               .           \n",
       "_BGpcv_bio_a6               .           \n",
       "_BGpcv_bio_a7               .           \n",
       "_BGpcv_bio_a8               .           \n",
       "_BGpcv_bio_a9               .           \n",
       "_BGpcv_bio_a10              .           \n",
       "_BGpcv_bio_a11              .           \n",
       "_BGpcv_bio_a12              .           \n",
       "_BGpcv_bio_a13              .           \n",
       "_BGpcv_bio_a14              .           \n",
       "_BGpcv_bio_a16              .           \n",
       "_BGpcv_bio_a17              .           \n",
       "_BGpcv_bio_a18              .           \n",
       "_BGpcv_bio_a19              .           \n",
       "_BGpcv_bio_a20              .           \n",
       "_BGpcv_bio_a21              .           \n",
       "_BGpcv_bio_a22              .           \n",
       "_BGpcv_bio_a23              .           \n",
       "_BGpcv_bio_a24              .           \n",
       "_BGpcv_bio_a25              .           \n",
       "_BGpcv_bio_a26              .           \n",
       "_BGpcv_bio_a27              .           \n",
       "_BGpcv_bio_a28              .           \n",
       "_BGpcv_bio_a29              .           \n",
       "_BGpcv_bio_a30              .           \n",
       "_BGpcv_bio_a31              .           \n",
       "_BGpcv_bio_a32              .           \n",
       "_BGpcv_bio_a33              .           \n",
       "_BGpp4_001__1               .           \n",
       "_BGpp4_001__3               .           \n",
       "_BGpp4_001__4               .           \n",
       "_BGpp4_001__5               .           \n",
       "_BGpp4_002__1               .           \n",
       "_BGpp4_002__3               .           \n",
       "_BGpp4_003__1               .           \n",
       "_BGpp4_028__1              -1.865173e-02\n",
       "_BGpp4_028__2               .           \n",
       "_BGpp4_028__3               5.496807e-01\n",
       "_BGpp4_028__4               .           \n",
       "_BGpp4_028__6               .           \n",
       "_BGpp4_028__7               .           \n",
       "_BGpp4_028__8               .           \n",
       "_BGpp4_029__1              -1.867355e-02\n",
       "_BGpp4_029__2               .           \n",
       "_BGpp4_029__3               5.487476e-01\n",
       "_BGpp4_029__5               .           \n",
       "_BGpfp_ynrm_2               .           \n",
       "_BGpfp_ynrm_3               .           \n",
       "_BGpfp_ynrm_4               .           \n",
       "_BGpfp_ynrm_5               .           \n",
       "_BGpfp_ynrm_6               .           \n",
       "_BGpfp_ynrm_7               .           \n",
       "_BGpfp_ynrm_8               .           \n",
       "_BGpfp_ynrm_9               .           \n",
       "_BGpfp_ynrm_10              .           \n",
       "_BGpfp_ynrm_11              .           \n",
       "_BGpfp_ynrm_12              .           \n",
       "_BGpfp_ynrm_13              .           \n",
       "_BGpfp_ynrf_2               .           \n",
       "_BGpfp_ynrf_3               .           \n",
       "_BGpfp_ynrf_4               .           \n",
       "_BGpfp_ynrf_5               .           \n",
       "_BGpfp_ynrf_6               .           \n",
       "_BGpfp_ynrf_7               .           \n",
       "_BGpfp_ynrf_8               .           \n",
       "_BGpfp_ynrf_9               .           \n",
       "_BGpfp_ynrf_10              .           \n",
       "_BGpfp_ynrf_11              .           \n",
       "_BGpfp_ynrf_12              .           \n",
       "_BGpfp_ynrf_13              .           \n",
       "_BGpfp_ynrf_14              .           \n",
       "_BGpfp_ynrf_15              .           \n",
       "_BGpfp_ynrf_16              .           \n",
       "_BGpfp_ynrf_17             -1.012888e-01\n",
       "_BGpfp_ynrf_18              .           \n",
       "_BGpfp_ynrma2               .           \n",
       "_BGpfp_ynrma3               .           \n",
       "_BGpfp_ynrma4               .           \n",
       "_BGpfp_ynrma5               .           \n",
       "_BGpfp_ynrfa2               .           \n",
       "_BGpfp_ynrfa3               .           \n",
       "_BGpfp_ynrfa4               .           \n",
       "_BGpfp_ynrfa5               .           \n",
       "_BGpfp_ymfr_2               .           \n",
       "_BGpfp_ymfr_3               .           \n",
       "_BGpfp_ymfr_4               .           \n",
       "_BGpfp_ymfr_5               .           \n",
       "_BGpfp_ymfr_6               .           \n",
       "_BGpfp_ymfr_7               .           \n",
       "_BGpfp_ymfr_8               .           \n",
       "_BGpfp_ymfr_9               .           \n",
       "_BGpfp_ymfr_10              .           \n",
       "_BGpfp_ymfr_11              .           \n",
       "_BGpfp_ymfr_12              .           \n",
       "_BGpfp_ymfr_13              .           \n",
       "_BGpfp_ymfr_14              .           \n",
       "_BGpfp_ymfr_15              .           \n",
       "_BGpfp_ymfr_16              .           \n",
       "_BGpfp_ymfr_17              .           \n",
       "_BGpfp_ymfr_18              .           \n",
       "_BGpfp_ymfr_19              .           \n",
       "_BGpfp_ymfr_20              .           \n",
       "_BGpfp_ymfr_21              .           \n",
       "_BGpfp_ymfr_22              .           \n",
       "_BGpfp_ymfr_23              .           \n",
       "_BGpfp_ymmo_2               .           \n",
       "_BGpfp_ymmo_3               .           \n",
       "_BGpfp_ymmo_4               .           \n",
       "_BGpfp_ymmo_5               .           \n",
       "_BGpfp_ymmo_6               .           \n",
       "_BGpfp_ymmo_7               .           \n",
       "_BGpfp_ymmo_8               .           \n",
       "_BGpfp_ymmo_9               .           \n",
       "_BGpfp_ymmo_10              .           \n",
       "_BGpfp_ymmo_11              .           \n",
       "_BGpfp_ymmo_12              .           \n",
       "_BGpfp_ymmo_13              .           \n",
       "_BGpfp_ymmo_14              .           \n",
       "_BGpfp_ymmo_15              .           \n",
       "_BGpfp_ymmo_16              .           \n",
       "_BGpfp_ymmo_17              .           \n",
       "_BGpfp_ymps_1               .           \n",
       "_BGpfp_ymps_2               .           \n",
       "_BGpfp_ymps_3               .           \n",
       "_BGpfp_ymps_4               .           \n",
       "_BGpfp_yfmr_2               .           \n",
       "_BGpfp_yfmr_3               .           \n",
       "_BGpfp_yfmr_4               .           \n",
       "_BGpfp_yfmr_5               .           \n",
       "_BGpfp_yfmr_6               .           \n",
       "_BGpfp_yfmr_7               .           \n",
       "_BGpfp_yfmr_8               .           \n",
       "_BGpfp_yfmr_9               .           \n",
       "_BGpfp_yfmr_10              .           \n",
       "_BGpfp_yfmr_11              .           \n",
       "_BGpfp_yfmr_12              .           \n",
       "_BGpfp_yfmr_13              .           \n",
       "_BGpfp_yfmr_14              .           \n",
       "_BGpfp_yfmr_15              .           \n",
       "_BGpfp_yfmr_16              .           \n",
       "_BGpfp_yfmr_17              .           \n",
       "_BGpfp_yfmr_18              .           \n",
       "_BGpfp_yfmr_19              .           \n",
       "_BGpfp_yfmr_20              .           \n",
       "_BGpfp_yfmr_21              .           \n",
       "_BGpfp_yfmr_22              .           \n",
       "_BGpfp_yfmo_2               .           \n",
       "_BGpfp_yfmo_3               .           \n",
       "_BGpfp_yfmo_4               .           \n",
       "_BGpfp_yfmo_5               .           \n",
       "_BGpfp_yfmo_6               .           \n",
       "_BGpfp_yfmo_7               .           \n",
       "_BGpfp_yfmo_8               .           \n",
       "_BGpfp_yfmo_9               .           \n",
       "_BGpfp_yfmo_10              .           \n",
       "_BGpfp_yfmo_11              .           \n",
       "_BGpfp_yfmo_12              .           \n",
       "_BGpfp_yfmo_13              .           \n",
       "_BGpfp_yfmo_14              .           \n",
       "_BGpfp_yfmo_15              .           \n",
       "_BGpfp_yfmo_16              .           \n",
       "_BGpfp_yfmo_17              .           \n",
       "_BGpfp_yfmo_18              .           \n",
       "_BGpfp_yfps_1               .           \n",
       "_BGpfp_yfps_2               .           \n",
       "_BGpfp_yfps_3               .           \n",
       "_BGpfp_yfps_4               .           \n",
       "_BGpfp_ppre_2               .           \n",
       "_BGpfp_ppre_3               .           \n",
       "_BGpfp_ppre_4               .           \n",
       "_BGpfp_ppre_5               .           \n",
       "_BGpfp_ppre_6               .           \n",
       "_BGpfp_ppre_7               .           \n",
       "_BGpfp_ppre_8               .           \n",
       "_BGpfp_ppre_9               .           \n",
       "_BGpfp_ppre_10              .           \n",
       "_BGpfp_ppre_11              .           \n",
       "_BGpfp_ppre_12              .           \n",
       "_BGhfp_adhr_2               .           \n",
       "_BGhfp_adhr_3               .           \n",
       "_BGhfp_adhr_4               .           \n",
       "_BGhfp_adhr_5               .           \n",
       "_BGhfp_adhr_6               .           \n",
       "_BGhfp_adhr_7               .           \n",
       "_BGhfp_adhr_8               .           \n",
       "_BGhfp_adhr_9               .           \n",
       "_BGhfp_adhr_10              .           \n",
       "_BGhfp_adhr_11              .           \n",
       "_BGhfp_adhr_12              .           \n",
       "_BGhfp_adhr_13              .           \n",
       "_BGhfp_adhr_14              .           \n",
       "_BGhfp_adhr_15              .           \n",
       "_BGhfp_adhr_16              .           \n",
       "_BGhfp_adhr_17              .           \n",
       "_BGhfp_adhr_18              .           \n",
       "_BGhfp_adhr_19              .           \n",
       "_BGhfp_adhr_20              .           \n",
       "_BGhfp_adhr_21              .           \n",
       "_BGhfp_adhr_22              .           \n",
       "_BGhfp_adhr_23              .           \n",
       "_BGhfp_adhr_24              .           \n",
       "_BGhfp_adhr_25              .           \n",
       "_BGhfp_adhr_26              .           \n",
       "_BGhfp_adpe_2               .           \n",
       "_BGhfp_adpe_3               .           \n",
       "_BGhfp_adpe_4               .           \n",
       "_BGhfp_adpe_5               .           \n",
       "_BGhfp_adpe_6               .           \n",
       "_BGhfp_adpe_7               .           \n",
       "_BGhfp_adpe_8               .           \n",
       "_BGhfp_adpe_9               .           \n",
       "_BGhfp_adpe_10              .           \n",
       "_BGhfp_adpe_11              .           \n",
       "_BGhfp_adpe_12              .           \n",
       "_BGhfp_adpe_13              .           \n",
       "_BGhfp_aden_2               .           \n",
       "_BGhfp_aden_3               .           \n",
       "_BGhfp_aden_4               .           \n",
       "_BGhfp_aden_5               .           \n",
       "_BGhp5_101__1              -1.696931e-03\n",
       "_BGhp5_101__2               .           \n",
       "_BGhp5_101__4               .           \n",
       "_BGhp5_101__5               .           \n",
       "_BGhp5_102__2               .           \n",
       "_BGhp5_102__3              -2.859249e-01\n",
       "_BGhp5_102__4               .           \n",
       "_BGhp5_102__5               .           \n",
       "_BGhp5_102__6               .           \n",
       "_BGhp5_102__7               .           \n",
       "_BGhcvc_gov_1               .           \n",
       "_BGhcvc_gova1               .           \n",
       "_BGhcvc_govb1               .           \n",
       "_BGhcvc_govc1               .           \n",
       "_BGhcvc_govc2               .           \n",
       "_BGhcvc_govc4               .           \n",
       "_BGhcvc_govd1               .           \n",
       "_BGhcvc_govd2               .           \n",
       "_BGhcvc_govd4               .           \n",
       "_BGhcvc_gove1               .           \n",
       "_BGhcvc_gove2               .           \n",
       "_BGhcvc_gove4               .           \n",
       "_BGhcvc_gove5               .           \n",
       "_BGhcvc_govf1               .           \n",
       "_BGhcvc_govf2               .           \n",
       "_BGhcvc_govf4               .           \n",
       "_BGhcvc_govg1               .           \n",
       "_BGhcvc_govg2               .           \n",
       "_BGhcvc_govg4               .           \n",
       "_BGhcvc_govh1               .           \n",
       "_BGhcvc_govh2               .           \n",
       "_BGhcvc_govh4               .           \n",
       "_BGhcvc_govi1               .           \n",
       "_BGhcvc_govi2               .           \n",
       "_BGhcvc_govi4               .           \n",
       "_BGhcvc_govj1               .           \n",
       "_BGhcvc_govj2               .           \n",
       "_BGhcvc_govj4               .           \n",
       "_BGhcvc_govk1               .           \n",
       "_BGhcvc_govk2               .           \n",
       "_BGhcvc_govk4               .           \n",
       "_BGhcvc_govl1               .           \n",
       "_BGhcvc_govl2               .           \n",
       "_BGhcvc_govl4               .           \n",
       "_BGhcvc_govl5               .           \n",
       "_BGhcvc_govm1               .           \n",
       "_BGhcvc_govm2               .           \n",
       "_BGhcvc_govm4               .           \n",
       "_BGhcvc_govm5               .           \n",
       "_BGhcvc_govn1               .           \n",
       "_BGhcvc_govn2               .           \n",
       "_BGhcvc_govn4               .           \n",
       "_BGhcvc_govo1               .           \n",
       "_BGhcvc_govo2               .           \n",
       "_BGhcvc_govo4               .           \n",
       "_BGhcvc_govp1               .           \n",
       "_BGhcvc_govp2               .           \n",
       "_BGhcvc_govp4               .           \n",
       "_BGhcvc_govp5               .           \n",
       "_BGhcvc_govp6               .           \n",
       "_BGhcvc_govp7               .           \n",
       "_BGhcvc_govq1               .           \n",
       "_BGhcvc_govq2               .           \n",
       "_BGhcvc_govq4               .           \n",
       "_BGhcvc_govq5               .           \n",
       "_BGhcvc_govq6               .           \n",
       "_BGhcvc_govq7               .           \n",
       "_BGhcvc_govq8               .           \n",
       "_BGhcvc_govq9               .           \n",
       "_BGhcvc_govq10              .           \n",
       "_XPexp_7                    .           \n",
       "_XPexp_8                    .           \n",
       "_XPexp_9                    .           \n",
       "_XPexp_10                   .           \n",
       "_XPexp_11                   .           \n",
       "_XPexp_12                   .           \n",
       "_XPexp_13                   .           \n",
       "_XPexp_14                   .           \n",
       "_XPexp_16                   .           \n",
       "_XPexp_17                   .           \n",
       "_XPexp_18                   .           \n",
       "_XPexp_19                   .           \n",
       "_XPexp_20                   .           \n",
       "_XPexp_21                   .           \n",
       "_XPexp_22                   .           \n",
       "_XPexp_23                   .           "
      ]
     },
     "metadata": {},
     "output_type": "display_data"
    }
   ],
   "source": [
    "# coef(final_model)"
   ]
  },
  {
   "cell_type": "markdown",
   "id": "b88c013c-42ff-4937-a295-8a8acf5f6fdc",
   "metadata": {},
   "source": [
    "- **Elastic Net performs best when $\\alpha$ is optimized** rather than arbitrarily chosen.\n",
    "- **Allows flexibility between Lasso and Ridge**, automatically adjusting to the dataset.\n",
    "- **Prevents overfitting or underfitting** by tuning both hyperparameters simultaneously.\n"
   ]
  }
 ],
 "metadata": {
  "jupytext": {
   "formats": "ipynb,Rmd"
  },
  "kernelspec": {
   "display_name": "R",
   "language": "R",
   "name": "ir"
  },
  "language_info": {
   "codemirror_mode": "r",
   "file_extension": ".r",
   "mimetype": "text/x-r-source",
   "name": "R",
   "pygments_lexer": "r",
   "version": "4.4.1"
  },
  "toc": {
   "base_numbering": 1,
   "nav_menu": {},
   "number_sections": true,
   "sideBar": true,
   "skip_h1_title": false,
   "title_cell": "Table of Contents",
   "title_sidebar": "Contents",
   "toc_cell": false,
   "toc_position": {},
   "toc_section_display": true,
   "toc_window_display": false
  }
 },
 "nbformat": 4,
 "nbformat_minor": 5
}
