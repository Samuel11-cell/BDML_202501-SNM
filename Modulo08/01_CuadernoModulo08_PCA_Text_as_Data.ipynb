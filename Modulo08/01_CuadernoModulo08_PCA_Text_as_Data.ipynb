{
 "cells": [
  {
   "cell_type": "markdown",
   "id": "d3b7c0aa",
   "metadata": {},
   "source": [
    "<div >\n",
    "<img src = \"../banner.jpg\" />\n",
    "</div>"
   ]
  },
  {
   "cell_type": "markdown",
   "id": "b9ec0f86",
   "metadata": {},
   "source": [
    "<a target=\"_blank\" href=\"https://colab.research.google.com/github/ignaciomsarmiento/BDML_202501/blob/main/Modulo08/01_CuadernoModulo08_PCA_Text_as_Data.ipynb\">\n",
    "  <img src=\"https://colab.research.google.com/assets/colab-badge.svg\" alt=\"Open In Colab\"/>\n",
    "</a>\n"
   ]
  },
  {
   "cell_type": "markdown",
   "id": "6d7f8b7f-7818-4462-8570-452875c69859",
   "metadata": {},
   "source": [
    "# Análisis de Componentes Principales (PCA)\n",
    "\n",
    "Para ilustrar el uso de PCA, usamos el conjunto de datos del paper de Duflo, Dupas y Kremer (2011): [\"Peer Effects, Teacher Incentives, and the Impact of Tracking: Evidence from a Randomized Evaluation in Kenya\"](https://www.aeaweb.org/articles?id=10.1257/aer.101.5.1739)\n",
    "\n",
    "**Abstract**\n",
    "\n",
    "To the extent that students benefit from high-achieving peers, tracking will help strong students and hurt weak ones. However, all students may benefit if tracking allows teachers to better tailor their instruction level. Lower-achieving pupils are particularly likely to benefit from tracking when teachers have incentives to teach to the top of the distribution. We propose a simple model nesting these effects and test its implications in a randomized tracking experiment conducted with 121 primary schools in Kenya. While the direct effect of high-achieving peers is positive, tracking benefited lower-achieving pupils indirectly by allowing teachers to teach to their level. (JEL I21, J45, O15) "
   ]
  },
  {
   "cell_type": "code",
   "execution_count": null,
   "id": "662e3be5-64b7-4dc2-9713-db5689cefcf4",
   "metadata": {},
   "outputs": [],
   "source": [
    "require(\"pacman\")\n",
    "p_load(\"tidyverse\",\"rio\")"
   ]
  },
  {
   "cell_type": "code",
   "execution_count": null,
   "id": "f607eab5-bb77-492b-aa97-df47e4fae25d",
   "metadata": {},
   "outputs": [],
   "source": [
    "dta<-import(\"https://raw.githubusercontent.com/ignaciomsarmiento/datasets/refs/heads/main/duflo_data.csv\")"
   ]
  },
  {
   "cell_type": "code",
   "execution_count": null,
   "id": "656385c8-4929-46c0-98af-beb01c17f359",
   "metadata": {},
   "outputs": [],
   "source": [
    "summary(dta)"
   ]
  },
  {
   "cell_type": "markdown",
   "id": "2422607e-dc5b-4e74-97e5-12de2b3318f7",
   "metadata": {},
   "source": [
    "En este paper se reportan puntajes en siete secciones de un examen (cuatro de lenguaje y tres de matemáticas).\n",
    "\n",
    "Variables:\n",
    "\n",
    "- pupilid        : ID of student\n",
    "- wordscore      : Endline Score on Word Recognition section (max: 24)\n",
    "- sentscore      : Endline Score on Sentence Recognition section (max: 40 )\n",
    "- letterscore    : Endline Score on Letter Recognition section (max: 70)\n",
    "- spellscore     : Endline Score on Spelling section (max: 10)\n",
    "- additions_score: Endline Score on Additions section\n",
    "- substractionscore: Endline Score on Substractions section\n",
    "- multiplicationscore: Endline Score on Multiplications section\n"
   ]
  },
  {
   "cell_type": "code",
   "execution_count": null,
   "id": "05363ca0-0d51-4cff-acf2-27cde76ad739",
   "metadata": {},
   "outputs": [],
   "source": [
    "cor(dta[,2:8])"
   ]
  },
  {
   "cell_type": "code",
   "execution_count": null,
   "id": "92e58ce3",
   "metadata": {},
   "outputs": [],
   "source": [
    "# get rid of pupilid\n",
    "dta<-dta[,2:8]\n",
    "\n",
    "# PCA\n",
    "res_pca <- prcomp(dta, scale=TRUE)\n",
    "res_pca"
   ]
  },
  {
   "cell_type": "code",
   "execution_count": null,
   "id": "3201135c",
   "metadata": {},
   "outputs": [],
   "source": [
    "p_load(\"factoextra\")\n",
    "eig_val <- get_eigenvalue(res_pca)\n",
    "eig_val"
   ]
  },
  {
   "cell_type": "code",
   "execution_count": null,
   "id": "9c5351da-0e50-43f2-9bc0-ad831e39a67d",
   "metadata": {},
   "outputs": [],
   "source": [
    "sum(eig_val$eigenvalue)"
   ]
  },
  {
   "cell_type": "markdown",
   "id": "943d723d-b123-4508-ae27-e7e7527640cb",
   "metadata": {},
   "source": [
    "Los autovalores suman 7 (una por cada variable). Por ejemplo:\n",
    "\n",
    "* El **primer autovalor** es aproximadamente 4.0, lo que indica que la primera componente explica alrededor del **57% de la varianza** total.\n",
    "* El **segundo autovalor** es cercano a 1.0, y explica un **15% adicional**.\n",
    "\n",
    "En total, las **dos primeras componentes** explican el **72% de la varianza** en los siete puntajes."
   ]
  },
  {
   "cell_type": "code",
   "execution_count": null,
   "id": "8b1c8320",
   "metadata": {},
   "outputs": [],
   "source": [
    "fviz_eig(res_pca, addlabels = TRUE, ylim = c(0, 70))"
   ]
  },
  {
   "cell_type": "markdown",
   "id": "4545902a-cdcf-40e7-87b1-f7391abce339",
   "metadata": {},
   "source": [
    "También podemos visualizar la varianza acumulada:"
   ]
  },
  {
   "cell_type": "code",
   "execution_count": null,
   "id": "f85fbecc",
   "metadata": {},
   "outputs": [],
   "source": [
    "eig_val$dim<-seq(1:7)\n",
    "ggplot(data=eig_val,aes(x=dim,y=cumulative.variance.percent)) +\n",
    "    geom_point()+\n",
    "    geom_line() +\n",
    "    theme_bw()"
   ]
  },
  {
   "cell_type": "markdown",
   "id": "5e4d08e7-9ee5-413f-9b79-15e23327308c",
   "metadata": {},
   "source": [
    "\n",
    "## Interpretación de las componentes principales\n"
   ]
  },
  {
   "cell_type": "code",
   "execution_count": null,
   "id": "2ed4b591-1450-429a-ab2b-c14bc2dca834",
   "metadata": {},
   "outputs": [],
   "source": [
    "res_pca"
   ]
  },
  {
   "cell_type": "markdown",
   "id": "7a5eedd5-c6bf-4eed-95e2-9e45de988e74",
   "metadata": {},
   "source": [
    "\n",
    "En la **Tabla de vectores propios**  vemos los **pesos (cargas)** de cada variable sobre cada componente:\n",
    "\n",
    "### PC1\n",
    "\n",
    "Para la **primera componente**, todos los pesos son **positivos y similares**, lo que sugiere que esta componente es muy parecida a un **promedio simple** de los siete puntajes. Es decir, la primera componente captura la mayoria de la información contenida en los 7 puntajes y resume el rendimiento general del estudiante.\n",
    "\n",
    "Que todos los pesos tengan un mismo signo (no importa cual es) nos dice que hay una dimensión común de rendimiento que domina la variabilidad en los datos. En lugar de tratar de interpretar siete puntajes distintos, podemos resumirlos de forma bastante precisa usando una sola variable: la primera componente principal.\n",
    "\n",
    "\n",
    "### PC2\n",
    "\n",
    "Para la **segunda componente**, los pesos tienen un patron diferente. Los **cuatro puntajes de lenguaje** tienen pesos negativos y los **tres de matemáticas**, positivos. \n",
    "\n",
    "Esta componente está capturando una contraposición o contraste entre dos grupos de variables.\n",
    "\n",
    "Esto indica que esta componente representa algo como la **diferencia relativa entre habilidades matemáticas y verbales**.\n",
    "\n",
    "\n",
    "\n",
    "Entonces \n",
    "\n",
    "\n",
    "* El **57% de la variación** en los puntajes puede explicarse por una sola variable resumen: el promedio general.\n",
    "* El **72% de la variación** se puede explicar si consideramos además por separado los puntajes en matemáticas y lenguaje.\n",
    "\n",
    "En otras palabras, con solo dos componentes principales capturamos casi tres cuartas partes de la información contenida en los siete puntajes individuales."
   ]
  },
  {
   "cell_type": "markdown",
   "id": "389897bf-098f-41bc-96bc-8c9904caf8b9",
   "metadata": {},
   "source": [
    "### Biplot\n",
    "\n",
    "El biplot es una herramienta visual muy útil en el análisis de componentes principales, ya que permite observar en un mismo gráfico:\n",
    "\n",
    " * A los individuos (en este caso, los estudiantes) proyectados en el espacio de los primeros dos componentes principales.\n",
    "\n",
    " * A las variables originales (los siete puntajes del test), representadas como vectores."
   ]
  },
  {
   "cell_type": "code",
   "execution_count": null,
   "id": "bce0270e",
   "metadata": {},
   "outputs": [],
   "source": [
    "set.seed(123)  # Fijar semilla para reproducibilidad\n",
    "\n",
    "\n",
    "# Seleccionar algunos individuos aleatoriamente (faster)\n",
    "subset_ids <- sample(1:dim(dta)[1], 30)\n",
    "\n",
    "fviz_pca_biplot(res_pca, \n",
    "                repel = TRUE,# Avoid text overlapping\n",
    "                col.var = \"#2E9FDF\", # Variables color\n",
    "                col.ind = \"#696969\", #\"white\" #  Individuals color\n",
    "                select.ind = list(name = subset_ids)\n",
    "                )"
   ]
  },
  {
   "cell_type": "markdown",
   "id": "c4d828d3-1621-4e2e-9f27-f47372390c8f",
   "metadata": {},
   "source": [
    "#### ¿Cómo se interpreta?\n",
    "\n",
    "**1. Posición de los individuos (puntos grises):**\n",
    "Cada punto representa a un estudiante. Estos son los \"scores\" o \"puntajes principales\" de los componentes. Son los valores proyectados sobre PC1 y PC2. Entonces su ubicación refleja su posición en las primeras dos componentes principales:\n",
    "\n",
    "* Estudiantes que están cerca del centro tienen un rendimiento más promedio.\n",
    "* Estudiantes alejados del centro tienen rendimientos más extremos (positivos o negativos).\n",
    "* La dirección de su posición indica si destacan más en habilidades verbales o matemáticas.\n",
    "\n",
    "Estudiantes que aparecen cerca del centro del biplot (el punto 0,0) no se desvían mucho del promedio del grupo, ni en el rendimiento general (captado por la primera componente), ni en la diferencia entre áreas (captada por la segunda componente). Es decir, tienen un perfil académico bastante \"típico\" o balanceado."
   ]
  },
  {
   "cell_type": "code",
   "execution_count": null,
   "id": "882a9e6e-e1fb-4ccc-bc3a-55814d510fee",
   "metadata": {},
   "outputs": [],
   "source": [
    "dta[2567,]"
   ]
  },
  {
   "cell_type": "code",
   "execution_count": null,
   "id": "0a328e4a-05ff-4e0b-b2bf-739a268ecbcd",
   "metadata": {},
   "outputs": [],
   "source": [
    "summary(dta)"
   ]
  },
  {
   "cell_type": "code",
   "execution_count": null,
   "id": "cb8ebf37-5b5f-4303-a6f7-7fc558bd572b",
   "metadata": {},
   "outputs": [],
   "source": [
    "dta[953,]"
   ]
  },
  {
   "cell_type": "markdown",
   "id": "2c1bb9c8-ea2f-4ddb-afbe-740f35b4dbb7",
   "metadata": {},
   "source": [
    "\n",
    "\n",
    "**2. Dirección y longitud de las flechas (variables):**\n",
    "Cada flecha representa una de las variables originales (los puntajes en secciones del test).\n",
    "\n",
    "* **La dirección de la flecha** indica hacia dónde crece el valor de esa variable.\n",
    "* **La longitud de la flecha** indica el peso de la variable en el componente\n",
    "\n",
    "**3. Ángulo entre flechas:**\n",
    "\n",
    "* Si dos flechas apuntan en la **misma dirección**, las variables están **positivamente correlacionadas**.\n",
    "* Si forman un **ángulo de 90°**, las variables son **no correlacionadas**.\n",
    "* Si apuntan en **direcciones opuestas**, están **negativamente correlacionadas**.\n",
    "\n",
    "En nuestro caso\n",
    "\n",
    "* Las flechas correspondientes a los **puntajes de lenguaje**  estén agrupadas y apunten en una dirección similar.\n",
    "* Lo mismo ocurre con las de **matemáticas**, pero en dirección opuesta a las de lenguaje en la segunda componente.\n",
    "* Esto refuerza la interpretación de la segunda componente como una especie de contraste entre habilidades matemáticas y verbales.\n",
    "\n"
   ]
  },
  {
   "cell_type": "markdown",
   "id": "d24a228b",
   "metadata": {},
   "source": [
    "##  Votos en el congreso de Estados Unidos\n",
    "\n",
    "Este es un ejemplo un poco mas complejo de como votan los miembros del Congreso de Estados Unidos. \n",
    "\n",
    "Tenemso información de los votos del 111vo Congreso que cubre los años 2009 y 2010, que son los dos primeros años de la presidencia de Obama.\n",
    "\n",
    "Hay 445 miembros que votan en la casa de representantes (US House of Representatives) y se registraron 1647 votos con -1 por el negativo, +1 por positivo, y 0 por la abstencion o la ausencia"
   ]
  },
  {
   "cell_type": "code",
   "execution_count": null,
   "id": "df0c35b4",
   "metadata": {},
   "outputs": [],
   "source": [
    "votes <- read.csv(\"https://github.com/ignaciomsarmiento/datasets/raw/main/rollcall-votes.csv\")\n",
    "head(votes)"
   ]
  },
  {
   "cell_type": "code",
   "execution_count": null,
   "id": "9df862af",
   "metadata": {},
   "outputs": [],
   "source": [
    "dim(votes)"
   ]
  },
  {
   "cell_type": "code",
   "execution_count": null,
   "id": "6edd83f3",
   "metadata": {},
   "outputs": [],
   "source": [
    "legis <- read.csv(\"https://github.com/ignaciomsarmiento/datasets/raw/main/rollcall-members.csv\")\n",
    "head(legis)"
   ]
  },
  {
   "cell_type": "markdown",
   "id": "3a336839",
   "metadata": {},
   "source": [
    "En este contexto podriamos pensar para una estructura factorial subjacente de baja dimensión. Aunque cada uno de los votos se refiere a temas diferentes, los representantes suelen están alineados según ejes partidistas e ideológicos (por ejemplo, republicano versus demócrata o liberal versus conservador). Si creemos que todos los votos son partidistas, entonces el voto por el miembro i en el tema j podría predecirse como\n",
    "\n",
    "$$\n",
    "x_{i} = h f_i\n",
    "$$\n",
    "\n",
    "donde f es el posicionamiento ideologico latente y h como este posicionamiento afecta los votos. Este tipo de situaciones es ideal para PCA"
   ]
  },
  {
   "cell_type": "code",
   "execution_count": null,
   "id": "17646ef0",
   "metadata": {},
   "outputs": [],
   "source": [
    "#Estimamos PCA\n",
    "pcavote <- prcomp(votes, scale=TRUE)\n",
    "\n",
    "pcavote$rotation"
   ]
  },
  {
   "cell_type": "code",
   "execution_count": null,
   "id": "6a980b1a",
   "metadata": {},
   "outputs": [],
   "source": [
    "fviz_eig(pcavote, addlabels = TRUE, ylim = c(0, 40))"
   ]
  },
  {
   "cell_type": "code",
   "execution_count": null,
   "id": "c91d76e8",
   "metadata": {},
   "outputs": [],
   "source": [
    "fviz_pca_biplot(pcavote)"
   ]
  },
  {
   "cell_type": "code",
   "execution_count": null,
   "id": "b42db49d",
   "metadata": {},
   "outputs": [],
   "source": [
    "fviz_pca_biplot(pcavote, \n",
    "                col.ind = legis$party,\n",
    "                palette = c(\"blue\", \"green\", \"red\"),\n",
    "                invisible =\"var\",\n",
    "                repel=FALSE,\n",
    "                labelsize = 1\n",
    "                )"
   ]
  },
  {
   "cell_type": "code",
   "execution_count": null,
   "id": "116e5b89",
   "metadata": {},
   "outputs": [],
   "source": [
    "votepc <- predict(pcavote) #\n",
    "votepc[order(votepc[,1])[1:5],1]"
   ]
  },
  {
   "cell_type": "code",
   "execution_count": null,
   "id": "fa57f255",
   "metadata": {},
   "outputs": [],
   "source": [
    "votepc[order(-votepc[,1])[1:5],1]"
   ]
  },
  {
   "cell_type": "code",
   "execution_count": null,
   "id": "1083f60e",
   "metadata": {},
   "outputs": [],
   "source": [
    "votepc[order(votepc[,2])[1:5],2]"
   ]
  },
  {
   "cell_type": "code",
   "execution_count": null,
   "id": "a8b8b20c",
   "metadata": {},
   "outputs": [],
   "source": [
    "votepc[order(-votepc[,2])[1:5],2]"
   ]
  },
  {
   "cell_type": "code",
   "execution_count": null,
   "id": "6698c6a2",
   "metadata": {},
   "outputs": [],
   "source": [
    "loadings <- pcavote$rotation[,1:2]"
   ]
  },
  {
   "cell_type": "code",
   "execution_count": null,
   "id": "9dd3ed3d",
   "metadata": {
    "scrolled": true
   },
   "outputs": [],
   "source": [
    "hist(loadings[,1], main=\"\", xlab=\"1st Principle Component Vote-Loadings\",\n",
    "     col=8, border=grey(.9))\n",
    "abline(v=loadings[884,1], col=2)\n",
    "text(x=loadings[884,1], y=550, \"Afford. Health (amdt.)\", xpd=TRUE, col=2, font=3)\n",
    "abline(v=loadings[25,1], col=4)\n",
    "text(x=loadings[25,1], y=550, \"TARP\", xpd=TRUE, col=4, font=3)"
   ]
  },
  {
   "cell_type": "code",
   "execution_count": null,
   "id": "884dab67",
   "metadata": {},
   "outputs": [],
   "source": [
    "loadings[order(abs(loadings[,2]), decreasing=TRUE)[1:5],2]"
   ]
  },
  {
   "cell_type": "code",
   "execution_count": null,
   "id": "4a8ccf3c",
   "metadata": {},
   "outputs": [],
   "source": [
    "sort(rowSums(votes==0), decreasing=TRUE)[1:5]"
   ]
  },
  {
   "cell_type": "markdown",
   "id": "8192997d",
   "metadata": {},
   "source": [
    "# Regresión por Componentes Principales (PCR)\n",
    "\n",
    "Ahora que ya sabemos cómo ajustar modelos de factores, ¿para qué sirven?\n",
    "\n",
    "- En algunos contextos, como el ejemplo de ciencias políticas, los factores tienen un significado claro y ayudan a entender sistemas complejos.\n",
    "- Más comúnmente, sin embargo, los factores pueden no tener una interpretación clara.\n",
    "- Aun así, pueden ser útiles como insumos en un sistema de regresión.\n",
    "- De hecho, esta es una de las principales aplicaciones prácticas del PCA: ser la primera etapa en la Regresión por Componentes Principales (PCR).\n",
    "\n",
    "\n",
    "\n",
    "La idea detrás de la PCR es simple:\n",
    "\n",
    "- En lugar de ajustar un modelo \\( y \\sim X \\), \n",
    "- Se usan un conjunto reducido de componentes principales (PCs) como regresores.\n",
    "\n",
    "Esto es útil por varias razones:\n",
    "\n",
    "- El PCA reduce la dimensionalidad del problema, lo cual suele ser beneficioso.\n",
    "- Los componentes principales son independientes, por lo tanto, no hay multicolinealidad y la regresión final es más fácil de ajustar.\n",
    "\n",
    "## Algoritmo paso a paso de la PCR\n",
    "\n",
    "El procedimiento es sencillo:\n",
    "\n",
    "1. Aplicar PCA a las variables predictoras \\( X \\)\n",
    "2. Extraer los primeros K componentes principales\n",
    "3. Ajustar una regresión lineal de y sobre los componentes\n",
    "\n",
    "### Limitaciones de la PCR\n",
    "\n",
    "- La PCR se basa en los componentes principales de \\( X \\), que capturan las mayores fuentes de variación en los datos.\n",
    "- Si la variable de interés \\( y \\) está relacionada con esas fuentes dominantes de variación, la PCR funcionará bien.\n",
    "- Pero si \\( y \\) depende de una pequeña cantidad de variables específicas (una \"aguja en un pajar\"), la PCR podría no funcionar bien.\n",
    "- En la práctica, es difícil saber de antemano qué escenario se tiene. Por eso, conviene comparar PCR con otras alternativas como LASSO directamente sobre los \\( X \\).\n",
    "\n",
    "## ¿Cuántos componentes principales usar?\n",
    "\n",
    "Cuando usamos PCA solo para reducir la dimensión, teníamos algunas reglas para elegir el número de componentes.\n",
    "\n",
    "¿Deberíamos aplicar lo mismo aquí?\n",
    "\n",
    "En la PCR el enfoque es un poco diferente:\n",
    "\n",
    "- Se calculan \\( min(n-1, p) \\) componentes.\n",
    "- Luego se hace validación cruzada (por ejemplo K-fold) agregando un PC a la vez.\n",
    "- Se elige el modelo que minimiza el error cuadrático medio fuera de muestra (MSE).\n",
    "\n",
    "Como los PCs están ordenados por varianza explicada y son independientes, este procedimiento suele funcionar mejor que seleccionar subconjuntos directamente sobre las variables originales.\n",
    "\n",
    "### Estrategias híbridas con LASSO\n",
    "\n",
    "- Una alternativa práctica: ajustar una regresión LASSO sobre todos los componentes principales.\n",
    "- Este enfoque facilita la inclusión de información adicional.\n",
    "\n",
    "Por ejemplo:\n",
    "\n",
    "- Incluir tanto los PCs como las variables \\( X \\) originales en la matriz del modelo LASSO.\n",
    "- Esto permite que el modelo aproveche tanto la estructura latente (los factores) como señales específicas de variables individuales relacionadas con \\( y \\).\n",
    "- Esta estrategia híbrida soluciona la principal desventaja de la PCR: que sólo captura las principales fuentes de variación de \\( X \\).\n"
   ]
  },
  {
   "cell_type": "markdown",
   "id": "22b4c86f-a3e7-4039-8732-6606b48e6fb7",
   "metadata": {},
   "source": [
    "## Ejemplo prediccion de ratings"
   ]
  },
  {
   "cell_type": "markdown",
   "id": "2ec6c34e-2357-4543-a1d9-f7cce78f7253",
   "metadata": {},
   "source": [
    "Para ilustrar vamos a usar datos de television que incluyen respuestas a encuestas para grupos focales sobre programas piloto de televisión (primeros episodios de una nueva serie), así como los resultados del primer año de calificaciones (cuántas personas terminaron viendo el programa). \n",
    "\n",
    "La esperanza es que podamos a predecir el interés de los espectadores a partir de encuestas piloto, ayudando así a los estudios a tomar mejores decisiones de programación. \n",
    "\n",
    "\n",
    "## Datos de programas"
   ]
  },
  {
   "cell_type": "code",
   "execution_count": null,
   "id": "666772ea",
   "metadata": {},
   "outputs": [],
   "source": [
    "shows <- read.csv(\"https://github.com/ignaciomsarmiento/datasets/raw/main/nbc_showdetails.csv\", row.names=1)\n",
    "shows$Genre <- factor(shows$Genre)\n",
    "head(shows)"
   ]
  },
  {
   "cell_type": "markdown",
   "id": "c9531c01",
   "metadata": {},
   "source": [
    "Tenemos un par de variables de resultado interesantes. \n",
    "- Los puntos de rating bruto (GRP) proporcionan un recuento estimado de la audiencia total. \n",
    "- Compromiso proyectado (PE) como una medida más sutil de la atención de la audiencia.\n",
    "\n",
    "Después de ver un programa, se contacta a los espectadores y se les pregunta sobre el orden y los detalles de los eventos del programa. Esto mide su compromiso con el programa (y, quizás lo más importante, con los anuncios mostrados). La PE se informa en una escala de 0 a 100, donde 100 significa que estaban completamente comprometidos y 0 significa que no prestaron atención en absoluto.\n"
   ]
  },
  {
   "cell_type": "code",
   "execution_count": null,
   "id": "a7074e79",
   "metadata": {},
   "outputs": [],
   "source": [
    "plot(GRP ~ PE, data=shows, bg=c(4,2,3)[shows$Genre], pch=21, log=\"y\")\n",
    "legend(\"bottomright\", legend=levels(shows$Genre), fill=c(4,2,3), bty=\"n\")"
   ]
  },
  {
   "cell_type": "markdown",
   "id": "f066e728-b2eb-4dba-b31c-3a0b79929c7e",
   "metadata": {},
   "source": [
    "La figura mustra que en general una mayor interacción suele corresponder a mayores índices de audiencia, pero que las comedias pueden tener una alta interacción con índices de rating más bajos. Los realities tienden a tener menor interacción y audiencia (pero son económicos de producir)."
   ]
  },
  {
   "cell_type": "markdown",
   "id": "98ed475f",
   "metadata": {},
   "source": [
    "## Datos de la encuesta\n",
    "\n",
    "Los datos de la encuesta incluyen 6241 vistas y 20 preguntas para 40 programas. Hay dos tipos de preguntas en la encuesta. Ambos  preguntan hasta qué punto estás de acuerdo con una afirmación. \n",
    "\n",
    "- Para la primer grupo de preguntas (Q1) esta afirmación toma la forma de \"Este programa me hace sentir...\".\n",
    "- Para el segundo grupo de preguntas (Q2), la afirmación es \"Encuentro que este programa me hace sentir...\". \n",
    "\n"
   ]
  },
  {
   "cell_type": "code",
   "execution_count": null,
   "id": "fd07aa06",
   "metadata": {},
   "outputs": [],
   "source": [
    "survey <- read.csv(\"https://github.com/ignaciomsarmiento/datasets/raw/main/nbc_pilotsurvey.csv\", as.is=TRUE) \n",
    "survey$Show <- factor(survey$Show, levels=rownames(shows))\n",
    "head(survey)"
   ]
  },
  {
   "cell_type": "code",
   "execution_count": null,
   "id": "456f5fe3-7b40-4521-9245-2cc2bab2b1a5",
   "metadata": {},
   "outputs": [],
   "source": [
    "dim(survey)"
   ]
  },
  {
   "cell_type": "markdown",
   "id": "481c79fa-c4aa-4fcb-b32a-7a4ec1831b08",
   "metadata": {},
   "source": [
    "Pareciera que tenemos muchos datos 6231 personas que vieron el pilot, per en realidad solo hay 40  programas con 20 preguntas y hay dos variables potenciales a predecir: GRP y PE.\n",
    "\n",
    "Para relacionar los resultados de las encuestas al performance del programa, primero tenemos que calcuar el promedio para las respuestas de la encuesta por show:"
   ]
  },
  {
   "cell_type": "code",
   "execution_count": null,
   "id": "feb98dcc",
   "metadata": {},
   "outputs": [],
   "source": [
    "Xpilot <- aggregate(survey[,-(1:2)],  ## -(1:2) to remove the variables 'show' and 'viewer' completely\n",
    "                by=list(Show=survey$Show), mean)\n",
    "\n",
    "\n",
    "rownames(Xpilot) <- Xpilot[,1]\n",
    "Xpilot <- Xpilot[,-1]\n",
    "head(Xpilot)"
   ]
  },
  {
   "cell_type": "markdown",
   "id": "8b5ac6eb-c8bf-442c-b4fb-9a715ee35daa",
   "metadata": {},
   "source": [
    "Esto nos deja con una matris X con las siguientes dimensions"
   ]
  },
  {
   "cell_type": "code",
   "execution_count": null,
   "id": "5c6c8186-3b4e-4d55-8ccd-b1d10181bdcb",
   "metadata": {},
   "outputs": [],
   "source": [
    "dim(Xpilot)"
   ]
  },
  {
   "cell_type": "markdown",
   "id": "4d3a27f9-f8f1-4622-878d-ff9e41b855a7",
   "metadata": {},
   "source": [
    "Podemos hacer PCA"
   ]
  },
  {
   "cell_type": "code",
   "execution_count": null,
   "id": "9fb9b413",
   "metadata": {},
   "outputs": [],
   "source": [
    "PCApilot <- prcomp(Xpilot, scale=TRUE)\n",
    "\n",
    "fviz_eig(PCApilot, addlabels = TRUE, ylim = c(0, 45))"
   ]
  },
  {
   "cell_type": "markdown",
   "id": "67306764-5d64-42f6-8390-18e20d5bdb87",
   "metadata": {},
   "source": [
    "Veamos los 2 primerosloadings o rotaciones:"
   ]
  },
  {
   "cell_type": "code",
   "execution_count": null,
   "id": "5cb04573",
   "metadata": {},
   "outputs": [],
   "source": [
    "round(PCApilot$rotation[,1:3],2)"
   ]
  },
  {
   "cell_type": "markdown",
   "id": "34a99573-7e32-4604-a035-56f2aa393c12",
   "metadata": {},
   "source": [
    "El PC1 parece que es un factor que captura \"cuan mucho le disgusta el programa\" (el negativo sería cuan mucho me gusta). Un programa obtiene una puntuación baja en el primer componente principal (PC1) si hizo que los espectadores se sintieran emocionados y comprometidos, y si el contenido era original, entretenido y con suspenso. Un programa obtiene una puntuación alta en PC1 si las personas lo encontraron molesto y aburrido.\n",
    "\n",
    "El segundo componente principal (PC2) es menos fácil de interpretar: obtienes una puntuación alta en PC2 si encuentras el programa aburrido, confuso y predecible, pero también si lo encuentras gracioso.\n",
    "\n",
    "Veamos si un Biplot nos puede ayudar un poco mas: "
   ]
  },
  {
   "cell_type": "code",
   "execution_count": null,
   "id": "21d9d500",
   "metadata": {},
   "outputs": [],
   "source": [
    "fviz_pca_biplot(PCApilot, \n",
    "                col.ind = shows$Genre,\n",
    "                palette = c(\"blue\", \"green\", \"red\"),\n",
    "                ylim=c(-3,3),\n",
    "                xlim=c(-6,6), # hides \"monarch cove\",living with ed\", and \"next\" but these are all tiny \n",
    "                invisible =\"var\",\n",
    "                repel=TRUE,\n",
    "                labelsize = 2\n",
    "                )\n"
   ]
  },
  {
   "cell_type": "markdown",
   "id": "aea43714-d678-445d-89c0-d361151cfef1",
   "metadata": {},
   "source": [
    "Los programas de \"reality\" obtienen loadings altos tanto en PC1 como en PC2—son poco agradables y pueden ser molestos pero graciosos—mientras que los dramas con guion obtienen puntuaciones bajas en ambos.\n"
   ]
  },
  {
   "cell_type": "markdown",
   "id": "6bdf08a2-6639-4716-8aa1-b961c4e1636d",
   "metadata": {},
   "source": [
    "## Lasso Regressions "
   ]
  },
  {
   "cell_type": "markdown",
   "id": "86057938-c735-429f-b228-75ff705a035f",
   "metadata": {},
   "source": [
    "Veamos ahora si podemos predecir engagement (PE)"
   ]
  },
  {
   "cell_type": "code",
   "execution_count": null,
   "id": "6bb9190e",
   "metadata": {},
   "outputs": [],
   "source": [
    "p_load(\"gamlr\")"
   ]
  },
  {
   "cell_type": "code",
   "execution_count": null,
   "id": "8906a770",
   "metadata": {},
   "outputs": [],
   "source": [
    "zpilot <- predict(PCApilot)\n",
    "\n",
    "PE <- shows$PE\n",
    "zdf <- as.data.frame(zpilot)\n",
    "\n",
    "summary(PEglm <- glm(PE ~ ., data=zdf[,1:2]))"
   ]
  },
  {
   "cell_type": "markdown",
   "id": "a94e1b18-442f-44c4-9bbd-bf072afab1c6",
   "metadata": {},
   "source": [
    "### Solo X"
   ]
  },
  {
   "cell_type": "code",
   "execution_count": null,
   "id": "a73cb0d3",
   "metadata": {},
   "outputs": [],
   "source": [
    "cvlasso <- cv.gamlr(x=as.matrix(Xpilot), y=PE, nfold=10)\n",
    "coef(cvlasso) "
   ]
  },
  {
   "cell_type": "markdown",
   "id": "35a10ea7-3ff9-47f1-8198-072495a335df",
   "metadata": {},
   "source": [
    "### Solo PCs"
   ]
  },
  {
   "cell_type": "code",
   "execution_count": null,
   "id": "c6d1a3d5",
   "metadata": {},
   "outputs": [],
   "source": [
    "cvlassoPCR <- cv.gamlr(x=zpilot, y=PE, nfold=10) \n",
    "coef(cvlassoPCR) "
   ]
  },
  {
   "cell_type": "markdown",
   "id": "b44e740d-1a62-47ce-8ba8-ac0012234308",
   "metadata": {},
   "source": [
    "### Ambos"
   ]
  },
  {
   "cell_type": "code",
   "execution_count": null,
   "id": "e52d51c4",
   "metadata": {},
   "outputs": [],
   "source": [
    "cvlassoboth <- cv.gamlr(x=as.matrix(cbind(Xpilot,zpilot)), y=PE, nfold=10)\n",
    "coef(cvlassoboth)"
   ]
  },
  {
   "cell_type": "code",
   "execution_count": null,
   "id": "38f8cfb4",
   "metadata": {},
   "outputs": [],
   "source": [
    "par(mfrow=c(1,3), mai=c(.2,.2,.5,.1), omi=c(.5,.5,0,0))\n",
    "plot(cvlasso, main=\"Lasso on X\", ylim=c(50,200), ylab=\"\", xlab=\"\", df=FALSE, bty=\"n\")\n",
    "plot(cvlassoPCR, main=\"Lasso on PCR\", ylim=c(50,200), ylab=\"\", xlab=\"\", df=FALSE, bty=\"n\")\n",
    "plot(cvlassoboth, main=\"Lasso on X and PCR\", ylim=c(50,200), ylab=\"\", xlab=\"\", df=FALSE, bty=\"n\")\n",
    "mtext(side=2, \"mean squared error\", outer=TRUE, line=2)\n",
    "mtext(side=1, \"log lamba\", outer=TRUE, line=2)"
   ]
  },
  {
   "cell_type": "markdown",
   "id": "dc30206a",
   "metadata": {},
   "source": [
    "# Texto como Datos: Ejemplos\n",
    "\n",
    "## Regresión con Texto: Gentzkow and Shapiro"
   ]
  },
  {
   "cell_type": "markdown",
   "id": "444ce2a4-9b12-4a39-9b3d-5b75600b01d8",
   "metadata": {},
   "source": [
    "Vamos a usar los datos del estudio de Gentzkow y Shapiro [2010], que analiza cómo los periódicos ajustan su contenido según la orientación política de sus lectores.\n"
   ]
  },
  {
   "cell_type": "markdown",
   "id": "16e0ba67",
   "metadata": {},
   "source": [
    "<div >\n",
    "<img src = \"figures/gentzgow_shapiro.png\" />\n",
    "</div>"
   ]
  },
  {
   "cell_type": "markdown",
   "id": "411ef521-99ec-4236-8822-c05afb59362e",
   "metadata": {},
   "source": [
    "Cargamos los paquetes"
   ]
  },
  {
   "cell_type": "code",
   "execution_count": null,
   "id": "73f77bab",
   "metadata": {},
   "outputs": [],
   "source": [
    "require(\"pacman\")\n",
    "p_load(\"tidyverse\",\"textir\",\"wordcloud\")"
   ]
  },
  {
   "cell_type": "markdown",
   "id": "235e34a6-96df-4a94-a8aa-e5600b4c32dd",
   "metadata": {},
   "source": [
    "El conjunto de datos resume el primer año del 109º Congreso de los Estados Unidos (2005) e incluye todos los discursos de ese año de los miembros de la Cámara de Representantes y del Senado.\n",
    "\n",
    "El texto ya está tokenizado en *bigrams* , después de eliminar las *stopwords* y aplicar un algoritmo de lematización (usando el *Porter stemmer*)."
   ]
  },
  {
   "cell_type": "code",
   "execution_count": null,
   "id": "cc54ff13",
   "metadata": {},
   "outputs": [],
   "source": [
    "data(\"congress109\", package = \"textir\")"
   ]
  },
  {
   "cell_type": "markdown",
   "id": "21b6e670-895e-409b-928f-c8b7ebd56cc8",
   "metadata": {},
   "source": [
    "La matriz `congress109Counts` contiene el número de veces que cada una de las 1000 frases más comunes fue utilizada en el 109º Congreso por cada uno de los 529 miembros del Congreso (Cámara y Senado). \n",
    "\n",
    "Es decir, cada documento corresponde a la transcripción combinada de todos los discursos de un solo orador.\n",
    "\n",
    "Podemos inspeccionar los conteos de algunas frases específicas para dos oradores:"
   ]
  },
  {
   "cell_type": "code",
   "execution_count": null,
   "id": "6c88345d",
   "metadata": {},
   "outputs": [],
   "source": [
    "congress109Counts[c(\"Barack Obama\",\"John Boehner\"),995:999]"
   ]
  },
  {
   "cell_type": "markdown",
   "id": "bb438ca4-52bb-42cc-a22a-d2106e924314",
   "metadata": {},
   "source": [
    "Tambien tenemos información sobre  el partido que pertenecen el estado, la camara, y la proporcion de votos que obtuvo Bush en la eleccion presindecial en el distrito/estado de cada representante"
   ]
  },
  {
   "cell_type": "code",
   "execution_count": null,
   "id": "a06cc21d",
   "metadata": {},
   "outputs": [],
   "source": [
    "congress109Ideology[c(\"Barack Obama\",\"John Boehner\"),1:5]"
   ]
  },
  {
   "cell_type": "markdown",
   "id": "17aa1df2-e6c6-4315-8e24-fa2aaea15206",
   "metadata": {},
   "source": [
    "Vamos a tratar de predecir estos votos  a partir de como los congresistas hablan. La idea es que el lenguage apela a los votantes: "
   ]
  },
  {
   "cell_type": "code",
   "execution_count": null,
   "id": "b3bb5e19-67ab-4db0-8a37-3f4ee5544c96",
   "metadata": {},
   "outputs": [],
   "source": [
    "as.matrix(congress109Counts[c(\"Tom Price\",\"William Jefferson\"),c(\"death.tax\",\"estate.tax\")])"
   ]
  },
  {
   "cell_type": "code",
   "execution_count": null,
   "id": "b93bc96d-31bf-4908-a0ea-781a6fa78bf7",
   "metadata": {},
   "outputs": [],
   "source": [
    "repshare <- congress109Ideology$repshare\n",
    "X1 <- as.matrix(congress109Counts)\n",
    "words<-colnames(X1)\n",
    "\n",
    "covariance<-apply(X1,2,function(x) cor(x,repshare))\n",
    "\n",
    "                  \n",
    "\n",
    "wordcloud(words = words,\n",
    "          freq = covariance,\n",
    "          min.freq = 0,\n",
    "          scale = c(1.5, 0.1), \n",
    "          max.words=200, \n",
    "          random.order=FALSE, \n",
    "          colors=brewer.pal(8, \"YlOrRd\"))"
   ]
  },
  {
   "cell_type": "markdown",
   "id": "2f381c1e",
   "metadata": {},
   "source": [
    "### Regresión \n",
    "\n",
    "$$\n",
    "RepShare= X\\beta  + u\n",
    "$$"
   ]
  },
  {
   "cell_type": "code",
   "execution_count": null,
   "id": "8e8d0aa2",
   "metadata": {},
   "outputs": [],
   "source": [
    "# Predictores\n",
    "X <- as(congress109Counts, \"dMatrix\")\n",
    "\n",
    "# Outcome\n",
    "repshare <- congress109Ideology$repshare"
   ]
  },
  {
   "cell_type": "code",
   "execution_count": null,
   "id": "836fea72",
   "metadata": {},
   "outputs": [],
   "source": [
    "# lasso\n",
    "lassoslant <- cv.gamlr(X>0, repshare)  \n",
    "\n",
    "B <- coef(lassoslant$gamlr)[-1,] "
   ]
  },
  {
   "cell_type": "code",
   "execution_count": null,
   "id": "5d8c57e0",
   "metadata": {},
   "outputs": [],
   "source": [
    "tail(sort(round(B[B!=0],4)),10)"
   ]
  },
  {
   "cell_type": "code",
   "execution_count": null,
   "id": "65a01ef8",
   "metadata": {},
   "outputs": [],
   "source": [
    "head(sort(round(B[B!=0],4)),10)"
   ]
  },
  {
   "cell_type": "markdown",
   "id": "1f4ff707",
   "metadata": {},
   "source": [
    "## Modelado de topicos o temas "
   ]
  },
  {
   "cell_type": "markdown",
   "id": "a83d1048-5fe1-490b-b07e-4cdb9f061faf",
   "metadata": {},
   "source": [
    "### Ejemplo comentarios en we8there"
   ]
  },
  {
   "cell_type": "markdown",
   "id": "c86b1e25-2435-4e55-9206-8dff42561833",
   "metadata": {},
   "source": [
    "Para estudiar la factorización de texto, pasaremos de la política a los restaurantes. Contamos con 6166 reseñas, con una extensión promedio de 90 palabras por reseña, del ya desaparecido sitio web de viajes `we8there.com`. "
   ]
  },
  {
   "cell_type": "code",
   "execution_count": null,
   "id": "9ad05d22",
   "metadata": {},
   "outputs": [],
   "source": [
    "data(\"we8there\", package = \"textir\")"
   ]
  },
  {
   "cell_type": "markdown",
   "id": "d660a491-bac8-4958-96ac-c506886f72ee",
   "metadata": {},
   "source": [
    "Una característica útil de estas reseñas es que contienen texto y una calificación multidimensional sobre la experiencia general, el ambiente, la comida, el servicio y la relación calidad-precio. Cada aspecto se califica en una escala de cinco puntos, donde 1 indica pésimo y 5 indica excelente. \n",
    "\n",
    "Por ejemplo, un usuario envió una reseña muy positiva para Waffle House #1258 en Bossier City, Luisiana: "
   ]
  },
  {
   "cell_type": "markdown",
   "id": "92713b92",
   "metadata": {},
   "source": [
    "Waffle House #1258 in Bossier City, Louisiana:\n",
    "\n",
    "*I normally would not revue a Waffle House but this one deserves it. The workers, Amanda, Amy, Cherry, James and J.D. were the most pleasant crew I have seen. While it was only lunch, B.L.T. and chili, it was great. The best thing was the 50’s rock and roll music, not to loud not to soft. This is a rare exception to what you all think a Waffle House is. Keep up the good work.*\n",
    "\n",
    "*Overall: 5, Atmosphere: 5, Food: 5, Service: 5, Value: 5.*\n",
    "\n"
   ]
  },
  {
   "cell_type": "markdown",
   "id": "1793e023-292a-4781-86ef-94f43d6e42f1",
   "metadata": {},
   "source": [
    "Otro usuario encontró que Sartin's Seafood, no es muy bueno:"
   ]
  },
  {
   "cell_type": "markdown",
   "id": "4803b572",
   "metadata": {},
   "source": [
    "Sartin’s Seafood in Nassau Bay, Texas,\n",
    "\n",
    "*Had a very rude waitress and the manager wasn’t nice either.*\n",
    "*Overall: 1, Atmosphere: 1, Food: 1, Service: 1, Value: 5.*"
   ]
  },
  {
   "cell_type": "code",
   "execution_count": null,
   "id": "d5f2bdca",
   "metadata": {
    "scrolled": true
   },
   "outputs": [],
   "source": [
    "x <- we8thereCounts\n",
    "x[1,x[1,]!=0]"
   ]
  },
  {
   "cell_type": "markdown",
   "id": "b86a2656",
   "metadata": {},
   "source": [
    "### PCA"
   ]
  },
  {
   "cell_type": "code",
   "execution_count": null,
   "id": "5572322f",
   "metadata": {},
   "outputs": [],
   "source": [
    "pca <- prcomp(x, scale=TRUE) # cuidado demora mucho"
   ]
  },
  {
   "cell_type": "code",
   "execution_count": null,
   "id": "d5df66a7",
   "metadata": {},
   "outputs": [],
   "source": [
    "tail(sort(pca$rotation[,1]))"
   ]
  },
  {
   "cell_type": "code",
   "execution_count": null,
   "id": "e3e9a91c",
   "metadata": {},
   "outputs": [],
   "source": [
    "tail(sort(pca$rotation[,4]))"
   ]
  },
  {
   "cell_type": "markdown",
   "id": "7695caeb-e961-4476-8ef3-d4dcfbc17168",
   "metadata": {},
   "source": [
    "### LDA"
   ]
  },
  {
   "cell_type": "markdown",
   "id": "841de25b-0c34-4c6c-99bb-bd1e2a470b9f",
   "metadata": {},
   "source": [
    "#### Aside: Ejemplo paso a paso\n",
    "\n",
    "En este ejemplo vamos a asumir que hay 3 (D), que contienen 3 temas (K) y 7 (V) palabras"
   ]
  },
  {
   "cell_type": "markdown",
   "id": "04ad9318-45d0-4af6-94a8-28bb1d91e06e",
   "metadata": {},
   "source": [
    "- Paso 1: Definir el vocabulario"
   ]
  },
  {
   "cell_type": "code",
   "execution_count": null,
   "id": "b99ca9ae-f52d-45a4-b716-1ccf06e61cb7",
   "metadata": {},
   "outputs": [],
   "source": [
    "set.seed(123)\n",
    "\n",
    "vocabulario <- c(\"gato\", \"perro\", \"vacuna\", \"hospital\", \"dinero\", \"banco\", \"impuestos\")\n",
    "V <- length(vocabulario)\n",
    "V"
   ]
  },
  {
   "cell_type": "markdown",
   "id": "4936f291-9ef3-46cf-824c-4bb446cd033f",
   "metadata": {},
   "source": [
    "- Paso 2: Definir las distribuciones de palabras por tópico (φ)\n",
    "\n",
    "Estas salen de una Dirichlet, mas sobre esto abajo"
   ]
  },
  {
   "cell_type": "code",
   "execution_count": null,
   "id": "497c396c-6bd8-41c0-9cf8-acda2816ba48",
   "metadata": {},
   "outputs": [],
   "source": [
    "# Cada vector debe tener longitud igual al vocabulario\n",
    "\n",
    "phi_1 <- c(0.4, 0.4, 0.05, 0.05, 0.03, 0.03, 0.04)  # Animales\n",
    "phi_2 <- c(0.05, 0.05, 0.4, 0.4, 0.03, 0.03, 0.04)  # Salud\n",
    "phi_3 <- c(0.05, 0.05, 0.05, 0.05, 0.35, 0.35, 0.10)  # Economía\n",
    "\n",
    "# Guardamos las distribuciones en una lista\n",
    "phi <- list(phi_1, phi_2, phi_3)\n",
    "\n",
    "\n",
    "phi"
   ]
  },
  {
   "cell_type": "markdown",
   "id": "12b923c5-0004-4563-9762-dd1df91d3add",
   "metadata": {},
   "source": [
    "- Paso 3: Definir mezcla de tópicos del documento (θ)\n",
    "\n",
    "Ahora si veamos como funciona la Dirichlet. Esta distribución es una de las pocas distribuciones que modela directamente vectores de probabilidades. Es decir, vectores cuyas componentes:\n",
    "\n",
    "- son no negativas,\n",
    "\n",
    "- y suman exactamente 1."
   ]
  },
  {
   "cell_type": "code",
   "execution_count": null,
   "id": "84bbac4b-b0bd-4c75-8aba-39b88868233a",
   "metadata": {},
   "outputs": [],
   "source": [
    "\n",
    "p_load(\"ggtern\")\n",
    "p_load(\"MCMCpack\")\n",
    "\n",
    "# Número de muestras\n",
    "set.seed(123)\n",
    "D <- 3 #numero de documentos\n",
    "\n",
    "# Parámetros de la Dirichlet\n",
    "alpha <- c(1, 1, 20)  # K=3\n",
    "\n",
    "# Generar muestras\n",
    "samples <- rdirichlet(D, alpha)\n",
    "df <- data.frame(Topic1 = samples[,1], Topic2 = samples[,2], Topic3 = samples[,3])\n",
    "\n",
    "# Graficar puntos de masa\n",
    "ggtern(data = df, aes(x = Topic1, y = Topic2, z = Topic3)) +\n",
    "  geom_point(alpha = 0.5, color = \"blue\", size = 1.5) +\n",
    "  theme_bw() +\n",
    "  labs(title = \"Muestras de una Dirichlet\",\n",
    "       x = \"Tópico 1\", y = \"Tópico 2\", z = \"Tópico 3\")\n"
   ]
  },
  {
   "cell_type": "code",
   "execution_count": null,
   "id": "b3c200b8-5f61-4b82-a144-6ed61d765e88",
   "metadata": {},
   "outputs": [],
   "source": [
    "df"
   ]
  },
  {
   "cell_type": "code",
   "execution_count": null,
   "id": "e88f0d1d-a8f0-4778-a211-1516f2a05623",
   "metadata": {},
   "outputs": [],
   "source": [
    "theta_d <- c(df[1,1], df[1,2], df[1,3])  # de arriba\n",
    "\n",
    "theta_d"
   ]
  },
  {
   "cell_type": "markdown",
   "id": "a225f294-1db8-4948-8a4c-5b1abb5d9e45",
   "metadata": {},
   "source": [
    "- Paso 4: Número de palabras en el documento"
   ]
  },
  {
   "cell_type": "code",
   "execution_count": null,
   "id": "e19a3c11-1d3c-4d53-a479-40907e17a00b",
   "metadata": {},
   "outputs": [],
   "source": [
    "\n",
    "N <- 10\n"
   ]
  },
  {
   "cell_type": "markdown",
   "id": "f549637e-1f09-428e-b728-60a9846e118d",
   "metadata": {},
   "source": [
    "- Paso 5: Generar los tópicos z_1, ..., z_N"
   ]
  },
  {
   "cell_type": "code",
   "execution_count": null,
   "id": "1d2cf957-7566-4b96-85e3-f2d0ceb23c67",
   "metadata": {},
   "outputs": [],
   "source": [
    "\n",
    "\n",
    "z <- sample(1:3, size = N, replace = TRUE, prob = theta_d)\n",
    "\n",
    "z"
   ]
  },
  {
   "cell_type": "markdown",
   "id": "5fc3c7b7-14fc-4384-b586-7b37fd0ae0ac",
   "metadata": {},
   "source": [
    "- Paso 6: Generar palabras según los tópicos"
   ]
  },
  {
   "cell_type": "code",
   "execution_count": null,
   "id": "5c58f652-694e-4738-b68a-2e11ccd16181",
   "metadata": {},
   "outputs": [],
   "source": [
    "\n",
    "w <- character(N)\n",
    "for (n in 1:N) {\n",
    "  w[n] <- sample(vocabulario, size = 1, prob = phi[[z[n]]])\n",
    "}\n",
    "\n",
    "# Resultado: palabras generadas\n",
    "print(w)"
   ]
  },
  {
   "cell_type": "markdown",
   "id": "9973e8bd-980d-4eed-8fd9-2345e998be18",
   "metadata": {},
   "source": [
    "- Paso 7: Bag of Words (conteo por palabra)"
   ]
  },
  {
   "cell_type": "code",
   "execution_count": null,
   "id": "8e3a51c9-68b2-4030-9570-7b53713279fe",
   "metadata": {},
   "outputs": [],
   "source": [
    "\n",
    "\n",
    "bow <- table(factor(w, levels = vocabulario))\n",
    "print(bow)\n"
   ]
  },
  {
   "cell_type": "markdown",
   "id": "19e7fcc7-057b-4ed9-a687-b230dde9ce9f",
   "metadata": {},
   "source": [
    "#### Ingenieria reversa\n",
    "\n",
    "Hasta ahora, simulamos documentos **generando** palabras. Pero en la realidad en la pratica\n",
    "\n",
    "* Un corpus de documentos reales → textos observados.\n",
    "* Una representación en BoW o DTM.\n",
    "\n",
    "\n",
    "Lo que buscamos es inferir los **parámetros** del modelo:\n",
    "\n",
    "  * Las mezclas de tópicos por documento $\\theta_d$,\n",
    "  * Las distribuciones de palabras por tópico $\\phi_k$,\n",
    "  * Las asignaciones de tópicos $z_{d,n}$ para cada palabra.\n",
    "\n",
    "Es la ingenieria reversa de MLE: queremos encontrar los parámetros que hacen más **verosímil** (más probable) haber observado nuestros documentos.\n",
    "\n",
    "\n",
    "$$\n",
    "\\max_{\\theta, \\phi} \\ p(\\text{documentos} \\mid \\theta, \\phi)\n",
    "$$\n",
    "\n",
    "Pero en LDA no observamos los $z_{d,n}$, ni $\\theta$, ni $\\phi$. \n",
    "\n",
    "**Solo observamos las palabras.**\n",
    "\n",
    "El problema a resolver es la siguiente verosimilitud:\n",
    "\n",
    "$$\n",
    "p(\\mathbf{w} \\mid \\alpha, \\beta) = \\int \\sum_{\\mathbf{z}} p(\\mathbf{w}, \\mathbf{z}, \\theta, \\phi \\mid \\alpha, \\beta) \\ d\\theta \\ d\\phi\n",
    "$$\n",
    "\n",
    "Este término **no se puede calcular exactamente**: la suma sobre todas las posibles asignaciones de tópicos $\\mathbf{z}$ es **exponencial**.\n",
    "\n",
    "¿Por qué es \"exponencial\"?\n",
    "\n",
    "Porque si: hay $N$ palabras en total en el corpus,  y cada palabra puede tener **uno de $K$ tópicos**, entonces hay: $K^N$ posibles combinaciones de asignaciones de tópicos. Ejemplo: supongamos\n",
    "\n",
    "* 2 documentos, cada uno con 10 palabras → $N = 20$,\n",
    "* 3 posibles tópicos → $K = 3$\n",
    "\n",
    "Entonces hay:\n",
    "\n",
    "$$\n",
    "3^{20} = 3,486,784,401\n",
    "$$\n",
    "\n",
    "combinaciones posibles de $\\mathbf{z}$. \n",
    "\n",
    "Entonces\n",
    "\n",
    "* No podemos **sumar sobre todas** esas posibilidades explícitamente.\n",
    "* Por eso necesitamos métodos que **aproximen esa suma**:\n",
    "\n",
    "\n",
    "En la practica hay varios métodos de **inferencia aproximada**, que estiman los parámetros.\n",
    "\n",
    "Los dos más comunes:\n",
    "\n",
    "1. **Gibbs Sampling** (una forma de MCMC)\n",
    "2. **Variational Inference** (una versión determinista, más rápida)\n"
   ]
  },
  {
   "cell_type": "markdown",
   "id": "ae8f4171-cb49-4b46-ab01-c72d98c27bdb",
   "metadata": {},
   "source": [
    "#### Regreso al ejemplo de `we8there`"
   ]
  },
  {
   "cell_type": "markdown",
   "id": "d08b0901-a585-4c93-88c1-26e9057b3325",
   "metadata": {},
   "source": [
    "Vamos a usar `maptpx` de Matt Taddy. El algoritmo esta descipto [\"On Estimation and Selection for Topic Models\"](https://arxiv.org/pdf/1109.4518), e implementa \"Topic Posterior Estimation\" usando inferiencia variacional y nos aproxima una solución a:\n",
    "\n",
    "$$\n",
    "p(\\mathbf{w} \\mid \\alpha, \\beta) \n",
    "$$"
   ]
  },
  {
   "cell_type": "code",
   "execution_count": null,
   "id": "c2cf9839",
   "metadata": {},
   "outputs": [],
   "source": [
    "p_load(\"maptpx\") # para modelar topicos\n",
    "\n",
    "x <- as.simple_triplet_matrix(we8thereCounts) #Convierte a formato sparse\n",
    "# Es una estructura sparse  que representa solo los elementos distintos de cero (non-sparse), usando tres vectores:\n",
    "# i: los índices de fila\n",
    "# j: los índices de columna\n",
    "#v: los valores (conteos)"
   ]
  },
  {
   "cell_type": "code",
   "execution_count": null,
   "id": "c34dc75b",
   "metadata": {},
   "outputs": [],
   "source": [
    "tpc <- topics(x,K=10) "
   ]
  },
  {
   "cell_type": "markdown",
   "id": "9f14159f-2ee1-4a20-97e7-e1313d9f412c",
   "metadata": {},
   "source": [
    "Podemos comparar multiples K, para determinar el número óptimo de tópicos"
   ]
  },
  {
   "cell_type": "code",
   "execution_count": null,
   "id": "09545b33",
   "metadata": {},
   "outputs": [],
   "source": [
    "tpcs <- topics(x,K=5*(1:5), verb=1)"
   ]
  },
  {
   "cell_type": "markdown",
   "id": "b7a3038c-db8f-4e6d-b439-812a86d26c18",
   "metadata": {},
   "source": [
    "El Bayes Factor aqui se refiere a \n",
    "\n",
    "\n",
    "\n",
    "$$\n",
    " \\exp\\left(- \\text{BIC}\\right)  \\approx p(\\mathbf{w} \\mid \\alpha, \\beta)\n",
    "$$\n",
    "\n",
    "entonces:\n",
    "\n",
    "$$\n",
    "\\log p(\\mathbf{w} \\mid \\alpha, \\beta) \\approx - \\text{BIC}\n",
    "$$\n",
    "\n",
    "Entonces si nosotros buscabamos minimizar el BIC, vamos a quere maximizar el BF.\n",
    "\n",
    "*Aside*: el BIC aqui va a ser\n",
    "\n",
    "$$\n",
    "\\text{BIC} =  \\log \\hat{L} - \\frac{1}{2} \\left[ K(V - 1) + D(K - 1) \\right] \\cdot \\log(n)\n",
    "$$\n",
    "\n",
    "* $\\hat{L}$: log-likelihood del modelo (`mod$loglik` en `maptpx`)\n",
    "* $V$: número de palabras en el vocabulario\n",
    "* $D$: número de documentos\n",
    "* $K$: número de tópicos\n",
    "* $n$: número total de palabras en el corpus\n"
   ]
  },
  {
   "cell_type": "markdown",
   "id": "8cd7f3da-15a3-4aa0-bb6b-2047f9c3c9ed",
   "metadata": {},
   "source": [
    "La maximización del Bayes Factor en `maptpx` encuentra un valor de $K$ que funciona bien para una variedad de tareas posteriores, aunque a veces tiende a seleccionar un $K$ **más pequeño del que nos gustaría** para fines de *storytelling*"
   ]
  },
  {
   "cell_type": "markdown",
   "id": "f502508e-1241-4ac7-9c99-3d5e3513659b",
   "metadata": {},
   "source": [
    "**Como se relaciona con otras medidas?**\n",
    "\n",
    "##### Perplexity\n",
    "\n",
    "La **perplejidad** (perplexity) es una transformación de la log-verosimilitud, usada como medida de **cuán bien el modelo predice nuevas palabras**.\n",
    "\n",
    "Se define como:\n",
    "\n",
    "$$\n",
    "\\text{Perplexity}(\\mathbf{w}) = \\exp\\left( - \\frac{1}{N} \\log p(\\mathbf{w}) \\right)\n",
    "$$\n",
    "\n",
    "* Cuanto **más baja**, **mejor el modelo predice**.\n",
    "* Se puede calcular sobre un conjunto de test → mide **poder predictivo**.\n",
    "\n",
    "##### Coherence\n",
    "* **Coherencia** mide **cuán interpretables y temáticamente consistentes** son los tópicos. Lo hace calculado qué tan frecuentemente **las palabras más probables de un tópico coocurren en los mismos documentos**. Si las palabras clave de un tópico tienden a aparecer juntas, decimos que el tópico es **coherente**.\n",
    "\n",
    "* No depende de la log-verosimilitud ni del Bayes factor.\n",
    "* Se calcula a partir de:\n",
    "\n",
    "  * las palabras más frecuentes de cada tópico,\n",
    "  * y su coocurrencia en los documentos.\n",
    "\n",
    "* Mide si los tópicos \"tienen sentido\" según cómo las palabras aparecen juntas en los textos.\n",
    "\n",
    "Formula: \n",
    "* Tópico $k$ tiene palabras $w_1, w_2, \\dots, w_M$\n",
    "* Cada $w_i$ es una palabra del vocabulario (por ejemplo, las n más probables según $\\phi_k$)\n",
    "\n",
    "Entonces:\n",
    "\n",
    "$$\n",
    "\\text{Coherencia}(k) = \\sum_{i < j} \\log \\left( \\frac{D(w_i, w_j) + \\epsilon}{D(w_j)} \\right)\n",
    "$$\n",
    "\n",
    "donde:\n",
    "\n",
    "* $D(w_j)$: número de documentos que contienen la palabra $w_j$\n",
    "* $D(w_i, w_j)$: número de documentos que contienen ambas $w_i$ y $w_j$\n",
    "* $\\epsilon$: pequeño valor para evitar log(0), usualmente 1\n",
    "\n",
    "*Ejemplo*: \n",
    "Supongamos que un tópico tiene como palabras más probables:\n",
    "\n",
    "$$\n",
    "\\text{\"hospital\", \"médico\", \"enfermera\", \"paciente\"}\n",
    "$$\n",
    "\n",
    "Estas palabras suelen aparecer juntas en los documentos → el tópico es coherente.\n",
    "\n",
    "Ahora imagina:\n",
    "\n",
    "$$\n",
    "\\text{\"hospital\", \"perro\", \"impuestos\", \"fútbol\"}\n",
    "$$\n",
    "\n",
    "Estas palabras no aparecen juntas normalmente → el tópico es incoherente."
   ]
  },
  {
   "cell_type": "markdown",
   "id": "a38a56d4-02a0-4f9b-82e1-4940d4f29484",
   "metadata": {},
   "source": [
    "##### Interpretación\n",
    "\n",
    "La interpretación de los tópicos se realiza de manera similar a como se hace con PCA\n",
    "\n",
    "Podemos comenzar observando las \"palabras principales\" de cada tópico.\n",
    "\n",
    "Pero para que esto sea útil, hay que tener cuidado con el criterio que se usa para ordenar las palabras consideradas \"principales\".\n",
    "\n",
    "Si las ordenás por la **probabilidad de palabra en el tópico** ($\\phi_{kj}$), terminarás con palabras que son frecuentes en el tópico $k$, pero que también pueden ser comunes en otros tópicos —esto pasa especialmente si eliminaste solo un pequeño conjunto de *stopwords*.\n",
    "\n",
    "En su lugar, la función `summary()` de `maptpx` ordena las palabras según el **lift**:\n",
    "\n",
    "$$\n",
    "\\text{lift}_{kj} = \\frac{\\phi_{kj}}{\\bar{x}_j} = \\frac{\\text{especificidad en el tópico}}{\\text{frecuencia global}}\n",
    "$$\n",
    "\n",
    "donde $\\bar{x}_j$ es la frecuencia promedio de la palabra $j$ en el corpus (es decir, su proporción promedio entre los documentos).\n",
    "\n",
    "Este **lift** será alto para palabras que son **mucho más frecuentes en el tópico $k$** de lo que son en el lenguaje general del corpus.\n",
    "Por eso, usar lift ayuda a resaltar palabras **más exclusivas o distintivas del tópico**, y no simplemente comunes en todo el corpus.\n",
    "\n",
    "\n",
    "* Si $\\text{lift}_{kj} > 1$: la palabra es **más característica** del tópico que del corpus.\n",
    "* Si $\\text{lift}_{kj} \\ll 1$: es una palabra común (no distintiva).\n",
    "\n",
    "El lift evita que en los tópicos aparezcan como “principales” palabras genéricas, que aunque sean frecuentes en todos los documentos, **no ayudan a interpretar el tópico en cuestión**.\n"
   ]
  },
  {
   "cell_type": "code",
   "execution_count": null,
   "id": "966bb451",
   "metadata": {},
   "outputs": [],
   "source": [
    "summary(tpcs, n=10) "
   ]
  },
  {
   "cell_type": "markdown",
   "id": "d8f3e2af-a3ff-404e-9171-e9b0b8668728",
   "metadata": {},
   "source": [
    "El primer tópico contiene retroalimentación positiva, y por eso tiene la misma interpretación que el primer componente principal (PC1)."
   ]
  },
  {
   "cell_type": "code",
   "execution_count": null,
   "id": "9866b7f9",
   "metadata": {},
   "outputs": [],
   "source": [
    "rownames(tpcs$theta)[order(tpcs$theta[,1], decreasing=TRUE)[1:10]]"
   ]
  },
  {
   "cell_type": "markdown",
   "id": "52df062c-0236-442a-87a6-a1dcd03b065f",
   "metadata": {},
   "source": [
    "Pero los otros tópicos parecen distintos y más interpretables que los factores obtenidos mediante PCA.\n",
    "Por ejemplo:\n",
    "\n",
    "El tópico 2 trata sobre tener que esperar,"
   ]
  },
  {
   "cell_type": "code",
   "execution_count": null,
   "id": "a5f4f4a1",
   "metadata": {},
   "outputs": [],
   "source": [
    "rownames(tpcs$theta)[order(tpcs$theta[,2], decreasing=TRUE)[1:10]]"
   ]
  },
  {
   "cell_type": "markdown",
   "id": "8f5ddc0b-5e76-40fa-817b-20f7ade177b5",
   "metadata": {},
   "source": [
    "El tópico 3 incluye reseñas positivas de clientes frecuentes."
   ]
  },
  {
   "cell_type": "code",
   "execution_count": null,
   "id": "10faced8-b35c-4ad6-a6f5-1efa83d25cce",
   "metadata": {},
   "outputs": [],
   "source": [
    "rownames(tpcs$theta)[order(tpcs$theta[,3], decreasing=TRUE)[1:10]]"
   ]
  },
  {
   "cell_type": "markdown",
   "id": "27f4e1b6-7163-45e9-851e-8e295ded91cd",
   "metadata": {},
   "source": [
    "Podemos comparar los **scores de tópicos** (los $\\theta$) con las **calificaciones de las reseñas**.\n",
    "\n",
    "Veamos la **calificación general** en función de los **scores de los documentos** en el primer topico\n"
   ]
  },
  {
   "cell_type": "code",
   "execution_count": null,
   "id": "7581e453",
   "metadata": {},
   "outputs": [],
   "source": [
    "boxplot(tpcs$omega[,1] ~ we8thereRatings$Overall, col=\"gold\", xlab=\"overall rating\", ylab=\"topic 1 score\")"
   ]
  },
  {
   "cell_type": "markdown",
   "id": "15c4f373-bdcc-4702-a512-e752dff918c8",
   "metadata": {},
   "source": [
    "Hay claramente una **relación positiva entre el tópico 1 y la calificación general**  que lo que se observaba usando el **primer componente principal (PC1)**. (HW)\n",
    "\n",
    "y en el segundo vemos algo parecido:"
   ]
  },
  {
   "cell_type": "code",
   "execution_count": null,
   "id": "6ba2c285",
   "metadata": {},
   "outputs": [],
   "source": [
    "boxplot(tpcs$omega[,2] ~ we8thereRatings$Overall, col=\"pink\", xlab=\"overall rating\", ylab=\"topic 2 score\")"
   ]
  },
  {
   "cell_type": "markdown",
   "id": "91bfaee4-b456-4d2e-80b5-4cf52d8c563f",
   "metadata": {},
   "source": [
    "Estas relaciones sugieren una estrategia de **regresión sobre tópicos** para predecir la **calificación de una reseña** a partir de su **contenido textual**."
   ]
  },
  {
   "cell_type": "markdown",
   "id": "04f7af4b-19be-42f0-9570-b76249182219",
   "metadata": {},
   "source": [
    "#### Prediciendo los ratings en `we8there`"
   ]
  },
  {
   "cell_type": "code",
   "execution_count": null,
   "id": "868c2232",
   "metadata": {},
   "outputs": [],
   "source": [
    "stars <- we8thereRatings[,\"Overall\"]"
   ]
  },
  {
   "cell_type": "code",
   "execution_count": null,
   "id": "2b19f51d",
   "metadata": {},
   "outputs": [],
   "source": [
    "Xtopics<-as(tpcs$omega, \"dMatrix\")"
   ]
  },
  {
   "cell_type": "markdown",
   "id": "518a3230-2efa-4eed-af50-a2ef67b08aaa",
   "metadata": {},
   "source": [
    "#### Lasso temas"
   ]
  },
  {
   "cell_type": "code",
   "execution_count": null,
   "id": "1a90c427",
   "metadata": {},
   "outputs": [],
   "source": [
    "p_load(\"gamlr\")\n",
    "regtopics.cv <- cv.gamlr(tpcs$omega, stars)"
   ]
  },
  {
   "cell_type": "markdown",
   "id": "bb2e7453-9afc-44d5-b552-bea4100ee6e9",
   "metadata": {},
   "source": [
    "#### Lasso palabras "
   ]
  },
  {
   "cell_type": "code",
   "execution_count": null,
   "id": "5d73b26d",
   "metadata": {},
   "outputs": [],
   "source": [
    "regwords.cv <- cv.gamlr(we8thereCounts, stars)"
   ]
  },
  {
   "cell_type": "markdown",
   "id": "ba61f519-b559-42bf-b18b-455c592c73bb",
   "metadata": {},
   "source": [
    "Resultados"
   ]
  },
  {
   "cell_type": "code",
   "execution_count": null,
   "id": "25577b5f",
   "metadata": {},
   "outputs": [],
   "source": [
    "par(mfrow=c(1,2), mai=c(.3,.6,.7,.1), omi=c(.5,.2,0,0))\n",
    "plot(regtopics.cv, ylim=c(1,2), xlab=\"\", ylab=\"\")\n",
    "mtext(\"topic regression\", font=2, line=2)\n",
    "plot(regwords.cv, ylim=c(1,2), xlab=\"\", ylab=\"\")\n",
    "mtext(\"token regression\", font=2, line=2)\n",
    "mtext(side=2, \"mean squared error\", outer=TRUE, line=0)\n",
    "mtext(side=1, \"log lamba\", outer=TRUE, line=1)"
   ]
  }
 ],
 "metadata": {
  "kernelspec": {
   "display_name": "R",
   "language": "R",
   "name": "ir"
  },
  "language_info": {
   "codemirror_mode": "r",
   "file_extension": ".r",
   "mimetype": "text/x-r-source",
   "name": "R",
   "pygments_lexer": "r",
   "version": "4.4.3"
  },
  "toc": {
   "base_numbering": 1,
   "nav_menu": {},
   "number_sections": true,
   "sideBar": true,
   "skip_h1_title": false,
   "title_cell": "Table of Contents",
   "title_sidebar": "Contents",
   "toc_cell": false,
   "toc_position": {},
   "toc_section_display": true,
   "toc_window_display": false
  }
 },
 "nbformat": 4,
 "nbformat_minor": 5
}
