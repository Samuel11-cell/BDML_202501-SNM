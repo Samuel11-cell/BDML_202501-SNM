{
 "cells": [
  {
   "cell_type": "markdown",
   "id": "169ca772-a2ba-4c8f-af2a-5676f443f513",
   "metadata": {},
   "source": [
    "<div >\n",
    "<img src = \"../banner.jpg\" />\n",
    "</div>"
   ]
  },
  {
   "cell_type": "markdown",
   "id": "2c93d1cb-fe99-4fd8-8273-fc79b1e2d619",
   "metadata": {},
   "source": [
    "<a href=\"https://colab.research.google.com/github/ignaciomsarmiento/BDML_202501/blob/main/Modulo07/02_CuadernoModulo07_SuperLearner.ipynb\" target=\"_parent\"><img src=\"https://colab.research.google.com/assets/colab-badge.svg\" alt=\"Open In Colab\"/></a>"
   ]
  },
  {
   "cell_type": "markdown",
   "id": "8bdc5075-7920-493a-bef8-8b808d4b634f",
   "metadata": {},
   "source": [
    "# SuperLearners\n",
    "\n",
    "## Introducción a SuperLearner\n",
    "\n",
    "SuperLearner es un algoritmo de ensemble learning (aprendizaje conjunto) que combina múltiples algoritmos de predicción para mejorar el rendimiento predictivo. Fue introducido por van der Laan, Polley y Hubbard (2007) como un método para reducir el error de predicción mediante la combinación óptima de varios estimadores."
   ]
  },
  {
   "cell_type": "markdown",
   "id": "77fc3c05-a7e2-4ae7-9f94-bd2c91f871d4",
   "metadata": {},
   "source": [
    "A continuación, implementaremos SuperLearner manualmente y lo compararemos con la implementación del paquete `SuperLearner` en R.\n",
    "\n",
    "Comenzamos cargando los paquetes necesarios y configurando una semilla para reproducibilidad."
   ]
  },
  {
   "cell_type": "code",
   "execution_count": null,
   "id": "f04dcb66-f77e-45d2-8579-86f562d55d7e",
   "metadata": {},
   "outputs": [],
   "source": [
    "# Cargamos paquetes necesarios\n",
    "require(\"pacman\")\n",
    "p_load(\"tidyverse\", \"nnls\", \"nnet\", \"ranger\", \"data.table\", \"SuperLearner\")\n",
    "\n",
    "# Semilla para reproducibilidad\n",
    "set.seed(123)"
   ]
  },
  {
   "cell_type": "markdown",
   "id": "ab69cfd5-e00a-4d38-bf01-8e784cd13d94",
   "metadata": {},
   "source": [
    "Ahora cargamos y preparamos los datos para nuestro análisis. Vamos a utilizar los mismos datos \"de juguete\" que usamos en el cuaderno de boosting."
   ]
  },
  {
   "cell_type": "code",
   "execution_count": null,
   "id": "7d0ef5a6-7639-486d-88ef-8bddb39f5f18",
   "metadata": {},
   "outputs": [],
   "source": [
    "# Cargamos los datos\n",
    "db <- read.csv(\"https://raw.githubusercontent.com/ignaciomsarmiento/datasets/main/SuperLearner_toy.csv\")\n",
    "\n",
    "y <- db$y     # Variable dependiente\n",
    "x <- db$x     # Variable independiente"
   ]
  },
  {
   "cell_type": "code",
   "execution_count": null,
   "id": "e31309b0-4192-4843-b9ec-630ac45e7402",
   "metadata": {},
   "outputs": [],
   "source": [
    "plot(db$x,db$y)"
   ]
  },
  {
   "cell_type": "markdown",
   "id": "57987830-9549-4b78-9e32-3a791474c61b",
   "metadata": {},
   "source": [
    "### Creación de Folds para Validación Cruzada\n",
    "\n",
    "La validación cruzada es fundamental para SuperLearner. Dividimos los datos en k-folds (en este caso, 5) para entrenar y evaluar nuestros modelos."
   ]
  },
  {
   "cell_type": "code",
   "execution_count": null,
   "id": "dc242dd9-248d-4b61-907e-6ccc6152e741",
   "metadata": {},
   "outputs": [],
   "source": [
    "# Creamos 5 folds para validación cruzada\n",
    "folds <- 5\n",
    "index <- split(sample(1:length(y)), rep(1:folds, length = length(y)))"
   ]
  },
  {
   "cell_type": "markdown",
   "id": "4d70940f-b3be-4fa8-8203-cfc89221f9e1",
   "metadata": {},
   "source": [
    "En esta etapa, `index` es una lista donde cada elemento contiene los índices de las observaciones que pertenecen a cada fold. Estos índices se utilizarán tanto en la implementación del paquete como en nuestra implementación manual."
   ]
  },
  {
   "cell_type": "markdown",
   "id": "e049a4eb-d5d8-4dd1-9a22-14936465d28f",
   "metadata": {},
   "source": [
    "### Implementación de SuperLearner usando el Paquete\n",
    "\n",
    "Primero, utilizamos el paquete `SuperLearner` para obtener una referencia de los resultados esperados. Comenamos definiendo la biblioteca de algoritmos a utilizar."
   ]
  },
  {
   "cell_type": "markdown",
   "id": "e7dffac0-9262-495b-8525-75d21641c93b",
   "metadata": {},
   "source": [
    "Cuáles son las bibliotecas disponibles?"
   ]
  },
  {
   "cell_type": "code",
   "execution_count": null,
   "id": "c8094394-933d-4fa1-8b06-5f62507e686e",
   "metadata": {},
   "outputs": [],
   "source": [
    "# Review available models.\n",
    "listWrappers()"
   ]
  },
  {
   "cell_type": "markdown",
   "id": "f278daaa-ea09-4e42-a27e-a3111b8b8082",
   "metadata": {},
   "source": [
    "Vamos a usar, `lm` y `rpart`"
   ]
  },
  {
   "cell_type": "code",
   "execution_count": null,
   "id": "f3be4737-91d1-44aa-8ad4-e0b43173aada",
   "metadata": {},
   "outputs": [],
   "source": [
    "sl.lib <- c(\"SL.lm\", \"SL.rpart\")"
   ]
  },
  {
   "cell_type": "markdown",
   "id": "404adfa6-6ea1-4c38-bcd4-349f372be2f8",
   "metadata": {},
   "source": [
    "Ejecutamos SuperLearner con el paquete"
   ]
  },
  {
   "cell_type": "code",
   "execution_count": null,
   "id": "1d1c442c-98a4-4b5a-b824-a5fc73fbaac7",
   "metadata": {},
   "outputs": [],
   "source": [
    "set.seed(123)\n",
    "fitY <- SuperLearner(Y = y, X = data.frame(x = x), \n",
    "                     method = \"method.NNLS\",\n",
    "                     SL.library = sl.lib,\n",
    "                     cvControl = list(V = folds, validRows = index))"
   ]
  },
  {
   "cell_type": "markdown",
   "id": "d7559e7d-fb55-40d6-b986-01628b35dc02",
   "metadata": {},
   "source": [
    "Aquí, `method.NNLS` se refiere a \"Non-Negative Least Squares\", que es el método de combinación que asegura que los pesos sean no negativos y sumen 1."
   ]
  },
  {
   "cell_type": "markdown",
   "id": "427ea64a-6224-48dd-9fa1-6990fdc73a99",
   "metadata": {},
   "source": [
    "Mostramos los resultados"
   ]
  },
  {
   "cell_type": "code",
   "execution_count": null,
   "id": "9d36f503-ecd8-42af-b077-5ef3db03c87d",
   "metadata": {},
   "outputs": [],
   "source": [
    "fitY"
   ]
  },
  {
   "cell_type": "markdown",
   "id": "797910ea-9d55-4d1b-be83-0cbddef02d72",
   "metadata": {},
   "source": [
    "Visualizemos las predicciones"
   ]
  },
  {
   "cell_type": "code",
   "execution_count": null,
   "id": "f9135346-a378-485f-8cee-47d5a86ccd1b",
   "metadata": {},
   "outputs": [],
   "source": [
    "db <- db %>% mutate(yS = predict(fitY, newdata = data.frame(x = x), onlySL = T)$pred)\n",
    "\n",
    "plot(db$x, db$y, main = \"Datos Originales vs Predicciones de SuperLearner\",\n",
    "     xlab = \"x\", ylab = \"y\", pch = 19)\n",
    "lines(db$x[order(db$x)], db$yS[order(db$x)], col = \"blue\", lwd = 2)\n",
    "legend(\"bottomleft\", legend = c(\"Datos Originales\", \"Predicciones SuperLearner\"), \n",
    "       col = c(\"black\", \"blue\"), pch = c(19, NA), lty = c(NA, 1), lwd = c(NA, 2))"
   ]
  },
  {
   "cell_type": "markdown",
   "id": "193a4794-5b33-4596-b491-77ed4975eb6d",
   "metadata": {},
   "source": [
    "### Implementación Manual de SuperLearner\n",
    "\n",
    "Ahora vamos a implementar SuperLearner manualmente para entender como funciona. \n",
    "\n",
    "<div >\n",
    "<img src = \"figs/sl_diagram.png\" />\n",
    "</div>\n",
    "\n"
   ]
  },
  {
   "cell_type": "code",
   "execution_count": null,
   "id": "8325aedb-7dbc-4abd-baa6-1af4605928dd",
   "metadata": {},
   "outputs": [],
   "source": [
    "# 1. Preparamos los datos por fold\n",
    "folds_data <- list()\n",
    "for (i in 1:folds) {\n",
    "  test_indices <- index[[i]]\n",
    "  train_indices <- setdiff(1:length(y), test_indices)\n",
    "  \n",
    "  folds_data[[i]] <- list(\n",
    "    train = data.frame(x = x[train_indices], y = y[train_indices]),\n",
    "    test = data.frame(x = x[test_indices], y = y[test_indices]),\n",
    "    test_indices = test_indices\n",
    "  )\n",
    "}\n"
   ]
  },
  {
   "cell_type": "markdown",
   "id": "eeea551b-4a8d-4102-b19a-a37d67da25aa",
   "metadata": {},
   "source": [
    "Aquí, para cada fold, separamos los datos en conjunto de entrenamiento y prueba. \n"
   ]
  },
  {
   "cell_type": "markdown",
   "id": "70aead61-2603-46c2-89c3-b1a039e9ce9a",
   "metadata": {},
   "source": [
    "#### Entrenamiento y Predicción para cada Fold\n",
    "\n",
    "Comenzamos creando una matriz para almacenar las predicciones de cada algoritmo. Este es clave para el punto 3. de la figura"
   ]
  },
  {
   "cell_type": "code",
   "execution_count": null,
   "id": "35b209c8-ec32-49eb-be23-c9c627bc239c",
   "metadata": {},
   "outputs": [],
   "source": [
    "Z <- matrix(NA, nrow = length(y), ncol = length(sl.lib))\n",
    "colnames(Z) <- sl.lib"
   ]
  },
  {
   "cell_type": "markdown",
   "id": "ccabe483-c3ac-42c8-ae6b-247236e61bdf",
   "metadata": {},
   "source": [
    "Creamos tambien una Matriz para seguimiento de riesgos por modelo y fold, clave para el punto 4."
   ]
  },
  {
   "cell_type": "code",
   "execution_count": null,
   "id": "87b7c1a6-bccd-49db-a00a-922adf98febb",
   "metadata": {},
   "outputs": [],
   "source": [
    "fold_risks <- matrix(NA, nrow = folds, ncol = length(sl.lib))\n",
    "colnames(fold_risks) <- sl.lib"
   ]
  },
  {
   "cell_type": "markdown",
   "id": "452ae30f-f661-443b-b3df-727b99e504f4",
   "metadata": {},
   "source": [
    "Ahora estamos listos para ejecutar el punto 2, entrenar cada algoritmo"
   ]
  },
  {
   "cell_type": "code",
   "execution_count": null,
   "id": "686beea0-8479-407d-8273-43cd78eda247",
   "metadata": {},
   "outputs": [],
   "source": [
    "# Entrenamos modelos y obtenemos predicciones\n",
    "for (i in 1:folds) {\n",
    "  train_data <- folds_data[[i]]$train\n",
    "  test_data <- folds_data[[i]]$test\n",
    "  test_indices <- folds_data[[i]]$test_indices\n",
    "  \n",
    "  # SL.lm\n",
    "  set.seed(123)  # Important for reproducibility\n",
    "  lm_model <- SL.lm(\n",
    "    Y = train_data$y,\n",
    "    X = data.frame(x = train_data$x),\n",
    "    newX = data.frame(x = test_data$x),\n",
    "    family = gaussian(),\n",
    "    obsWeights = rep(1, nrow(train_data))\n",
    "  )\n",
    "  Z[test_indices, \"SL.lm\"] <- lm_model$pred\n",
    "  fold_risks[i, \"SL.lm\"] <- mean((test_data$y - lm_model$pred)^2)\n",
    "  \n",
    "  # Sl.rpart\n",
    "  set.seed(123)  # Important for reproducibility\n",
    "  rpart_model <- SL.rpart(\n",
    "    Y = train_data$y,\n",
    "    X = data.frame(x = train_data$x),\n",
    "    newX = data.frame(x = test_data$x),\n",
    "      family = gaussian(),\n",
    "      obsWeights = rep(1, nrow(train_data))\n",
    "  )\n",
    "  Z[test_indices, \"SL.rpart\"] <- rpart_model$pred\n",
    "  fold_risks[i, \"SL.rpart\"] <- mean((test_data$y - rpart_model$pred)^2)\n",
    "}"
   ]
  },
  {
   "cell_type": "markdown",
   "id": "3fae37b7-7fd4-446d-884c-cdb5e503d6ef",
   "metadata": {},
   "source": [
    "Que hicimos? \n",
    "\n",
    "1. Entrenamos cada algoritmo (nnet y ranger) en el conjunto de entrenamiento de cada fold.\n",
    "2. Hacemos predicciones en el conjunto de prueba correspondiente.\n",
    "3. Almacenamos las predicciones en la matriz `Z`, donde cada columna corresponde a un algoritmo.\n",
    "4. Calculamos el riesgo (error cuadrático medio) para cada algoritmo en cada fold.\n",
    "\n",
    "Antes de seguir calculemos los riesgos generales (MSE) - promedio a través de todos los folds"
   ]
  },
  {
   "cell_type": "code",
   "execution_count": null,
   "id": "bf726a3e-4096-4249-ba61-d95f80f0ae12",
   "metadata": {},
   "outputs": [],
   "source": [
    "risks <- colMeans(fold_risks)\n",
    "risks"
   ]
  },
  {
   "cell_type": "code",
   "execution_count": null,
   "id": "2883b2de-a565-4759-9fa9-a1ab814f783e",
   "metadata": {},
   "outputs": [],
   "source": [
    "fitY"
   ]
  },
  {
   "cell_type": "markdown",
   "id": "9c01f5d8-2de3-4d83-bb73-30964d36fd8f",
   "metadata": {},
   "source": [
    "#### Cálculo de Pesos Óptimos\n",
    "\n",
    "\n",
    "En esta etapa final:\n",
    "1. Utilizamos NNLS para encontrar los pesos óptimos que minimizan el error cuadrático entre las predicciones combinadas y los valores reales.\n",
    "2. Normalizamos los pesos para asegurar que sumen 1.\n"
   ]
  },
  {
   "cell_type": "code",
   "execution_count": null,
   "id": "3c30062a-d868-47e3-a9ae-1fb362059838",
   "metadata": {},
   "outputs": [],
   "source": [
    "# Resolvemos para los pesos óptimos usando NNLS (Non-Negative Least Squares)\n",
    "weights <- nnls(Z, y)$x\n",
    "names(weights) <- colnames(Z)\n"
   ]
  },
  {
   "cell_type": "markdown",
   "id": "1fb82be5-1bee-4328-8f11-0c8413505a29",
   "metadata": {},
   "source": [
    "La función `nnls` resuelve el problema de optimización:\n",
    "\n",
    "$$\\min_{\\alpha} ||Z\\alpha - y||^2 \\text{ sujeto a } \\alpha \\geq 0$$\n",
    "\n",
    "donde $Z$ es la matriz de predicciones y $y$ son los valores reales."
   ]
  },
  {
   "cell_type": "code",
   "execution_count": null,
   "id": "d82cb583-53cb-4f0f-a0b0-816d43199af6",
   "metadata": {},
   "outputs": [],
   "source": [
    "# Normalizamos los pesos para que sumen 1\n",
    "weights <- weights / sum(weights)\n"
   ]
  },
  {
   "cell_type": "markdown",
   "id": "5d0be34c-92ca-4c6b-9edb-26473ab10254",
   "metadata": {},
   "source": [
    "Finalmente tenemos que"
   ]
  },
  {
   "cell_type": "code",
   "execution_count": null,
   "id": "31845261-f86a-4e61-8ab4-96e0e6bbdfbe",
   "metadata": {},
   "outputs": [],
   "source": [
    "manual_sl_results <- data.frame(\n",
    "  Risk = risks,\n",
    "  Coef = weights\n",
    ")\n",
    "\n",
    "manual_sl_results"
   ]
  },
  {
   "cell_type": "markdown",
   "id": "95d5f126-04ba-4755-a095-88e51b5a5cc1",
   "metadata": {},
   "source": [
    "Comparamos con los obtenidos por la función SuperLearner"
   ]
  },
  {
   "cell_type": "code",
   "execution_count": null,
   "id": "6a57d0bb-3400-4a39-a794-d5ce96165cff",
   "metadata": {},
   "outputs": [],
   "source": [
    "fitY"
   ]
  }
 ],
 "metadata": {
  "kernelspec": {
   "display_name": "R",
   "language": "R",
   "name": "ir"
  },
  "language_info": {
   "codemirror_mode": "r",
   "file_extension": ".r",
   "mimetype": "text/x-r-source",
   "name": "R",
   "pygments_lexer": "r",
   "version": "4.4.3"
  }
 },
 "nbformat": 4,
 "nbformat_minor": 5
}
